{
 "cells": [
  {
   "cell_type": "code",
   "execution_count": 14,
   "id": "0597fce8",
   "metadata": {},
   "outputs": [],
   "source": [
    "import numpy as np\n",
    "import glob\n",
    "import xml.etree.ElementTree as ET"
   ]
  },
  {
   "cell_type": "code",
   "execution_count": 10,
   "id": "bec85cda",
   "metadata": {},
   "outputs": [
    {
     "data": {
      "text/plain": [
       "(np.float64(7.051835613781769), np.float64(0.0011539753916353455))"
      ]
     },
     "execution_count": 10,
     "metadata": {},
     "output_type": "execute_result"
    }
   ],
   "source": [
    "with open(\"/home/dikshans/hpst/scripts/fil-result/hpst/time.txt\", 'r') as f:\n",
    "    data = np.array([float(i) for i in f.read().split(\"\\n\")])\n",
    "np.mean(data), np.std(data)/100"
   ]
  },
  {
   "cell_type": "code",
   "execution_count": 11,
   "id": "9eba7a08",
   "metadata": {},
   "outputs": [
    {
     "data": {
      "text/plain": [
       "(np.float64(1.7381815566023922), np.float64(0.00040083231363038403))"
      ]
     },
     "execution_count": 11,
     "metadata": {},
     "output_type": "execute_result"
    }
   ],
   "source": [
    "with open(\"/home/dikshans/hpst/scripts/fil-result/gat/time.txt\", 'r') as f:\n",
    "    data = np.array([float(i) for i in f.read().split(\"\\n\")])\n",
    "np.mean(data), np.std(data)/100"
   ]
  },
  {
   "cell_type": "code",
   "execution_count": 12,
   "id": "a7d33fee",
   "metadata": {},
   "outputs": [
    {
     "data": {
      "text/plain": [
       "(np.float64(265.325333757326), np.float64(2.0120460842736065))"
      ]
     },
     "execution_count": 12,
     "metadata": {},
     "output_type": "execute_result"
    }
   ],
   "source": [
    "with open(\"/home/dikshans/hpst/scripts/fil-result/rcnn/time.txt\", 'r') as f:\n",
    "    data = np.array([float(i) for i in f.read().split(\"\\n\")])\n",
    "np.mean(data), np.std(data)/2"
   ]
  },
  {
   "cell_type": "code",
   "execution_count": 20,
   "id": "14b02b53",
   "metadata": {},
   "outputs": [
    {
     "data": {
      "text/plain": [
       "(np.float64(282.35), np.float64(37.425))"
      ]
     },
     "execution_count": 20,
     "metadata": {},
     "output_type": "execute_result"
    }
   ],
   "source": [
    "mem = []\n",
    "for svgpath in glob.glob(\"/home/dikshans/hpst/scripts/fil-result/rcnn/*/peak-memory.svg\"):\n",
    "    # Load SVG\n",
    "    tree = ET.parse(svgpath)\n",
    "    root = tree.getroot()\n",
    "\n",
    "    # Handle namespaces if present\n",
    "    namespaces = {'svg': 'http://www.w3.org/2000/svg'}\n",
    "    ET.register_namespace('', namespaces['svg'])\n",
    "\n",
    "    # Find the specific <text> tag with id=\"title\"\n",
    "    for text in root.iter():\n",
    "        if text.tag.endswith('text') and text.attrib.get('id') == 'title':\n",
    "            full_text = text.text\n",
    "\n",
    "            # Optional: extract memory usage value using regex\n",
    "            import re\n",
    "            match = re.search(r'\\(([\\d.]+)\\s*MiB\\)', full_text)\n",
    "            if match:\n",
    "                memory_mib = float(match.group(1))\n",
    "                mem.append(float(memory_mib))\n",
    "mem = np.array(mem)\n",
    "np.mean(mem), np.std(mem)/2"
   ]
  },
  {
   "cell_type": "code",
   "execution_count": 21,
   "id": "459b0f3e",
   "metadata": {},
   "outputs": [
    {
     "data": {
      "text/plain": [
       "(np.float64(34.67058823529412), np.float64(1.008750640481224))"
      ]
     },
     "execution_count": 21,
     "metadata": {},
     "output_type": "execute_result"
    }
   ],
   "source": [
    "mem = []\n",
    "for svgpath in glob.glob(\"/home/dikshans/hpst/scripts/fil-result/hpst/*/peak-memory.svg\"):\n",
    "    # Load SVG\n",
    "    tree = ET.parse(svgpath)\n",
    "    root = tree.getroot()\n",
    "\n",
    "    # Handle namespaces if present\n",
    "    namespaces = {'svg': 'http://www.w3.org/2000/svg'}\n",
    "    ET.register_namespace('', namespaces['svg'])\n",
    "\n",
    "    # Find the specific <text> tag with id=\"title\"\n",
    "    for text in root.iter():\n",
    "        if text.tag.endswith('text') and text.attrib.get('id') == 'title':\n",
    "            full_text = text.text\n",
    "\n",
    "            # Optional: extract memory usage value using regex\n",
    "            import re\n",
    "            match = re.search(r'\\(([\\d.]+)\\s*MiB\\)', full_text)\n",
    "            if match:\n",
    "                memory_mib = float(match.group(1))\n",
    "                mem.append(float(memory_mib))\n",
    "mem = np.array(mem)\n",
    "np.mean(mem), np.std(mem)/2"
   ]
  },
  {
   "cell_type": "code",
   "execution_count": 23,
   "id": "905fbc88",
   "metadata": {},
   "outputs": [
    {
     "data": {
      "text/plain": [
       "(np.float64(29.784313725490193), np.float64(0.4029757630306785))"
      ]
     },
     "execution_count": 23,
     "metadata": {},
     "output_type": "execute_result"
    }
   ],
   "source": [
    "mem = []\n",
    "for svgpath in glob.glob(\"/home/dikshans/hpst/scripts/fil-result/gat/*/peak-memory.svg\"):\n",
    "    # Load SVG\n",
    "    tree = ET.parse(svgpath)\n",
    "    root = tree.getroot()\n",
    "\n",
    "    # Handle namespaces if present\n",
    "    namespaces = {'svg': 'http://www.w3.org/2000/svg'}\n",
    "    ET.register_namespace('', namespaces['svg'])\n",
    "\n",
    "    # Find the specific <text> tag with id=\"title\"\n",
    "    for text in root.iter():\n",
    "        if text.tag.endswith('text') and text.attrib.get('id') == 'title':\n",
    "            full_text = text.text\n",
    "\n",
    "            # Optional: extract memory usage value using regex\n",
    "            import re\n",
    "            match = re.search(r'\\(([\\d.]+)\\s*MiB\\)', full_text)\n",
    "            if match:\n",
    "                memory_mib = float(match.group(1))\n",
    "                mem.append(float(memory_mib))\n",
    "mem = np.array(mem)\n",
    "np.mean(mem), np.std(mem)/2"
   ]
  },
  {
   "cell_type": "code",
   "execution_count": null,
   "id": "e0d8108d",
   "metadata": {},
   "outputs": [],
   "source": []
  }
 ],
 "metadata": {
  "kernelspec": {
   "display_name": "hpst",
   "language": "python",
   "name": "python3"
  },
  "language_info": {
   "codemirror_mode": {
    "name": "ipython",
    "version": 3
   },
   "file_extension": ".py",
   "mimetype": "text/x-python",
   "name": "python",
   "nbconvert_exporter": "python",
   "pygments_lexer": "ipython3",
   "version": "3.10.18"
  }
 },
 "nbformat": 4,
 "nbformat_minor": 5
}
