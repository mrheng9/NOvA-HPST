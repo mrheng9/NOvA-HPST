{
 "cells": [
  {
   "cell_type": "code",
   "execution_count": 1,
   "id": "1782d461-3b6c-43d9-a370-611d0e2cf1ae",
   "metadata": {
    "tags": []
   },
   "outputs": [],
   "source": [
    "import os\n",
    "import sys\n",
    "# os.environ[\"CUDA_VISIBLE_DEVICES\"] = \"\""
   ]
  },
  {
   "cell_type": "code",
   "execution_count": 2,
   "id": "e1eb7a0d-5e66-4d05-b4c6-a61d7ab9de45",
   "metadata": {
    "tags": []
   },
   "outputs": [],
   "source": [
    "sys.path.append('..')"
   ]
  },
  {
   "cell_type": "code",
   "execution_count": 3,
   "id": "fe440f99-d108-48fb-943c-7c96272ccf9e",
   "metadata": {
    "tags": []
   },
   "outputs": [],
   "source": [
    "import numpy as np\n",
    "\n",
    "import torch\n",
    "from torch import nn\n",
    "from torch.nn import functional as F\n",
    "from torchvision.transforms.functional import gaussian_blur\n",
    "torch.jit.script = lambda x: x\n",
    "\n",
    "import re \n",
    "import h5py\n",
    "from glob import glob\n",
    "from functools import partial\n",
    "from tqdm import tqdm\n",
    "\n",
    "from sklearn import metrics\n",
    "from sklearn.metrics import roc_curve, auc\n",
    "from sklearn.metrics import roc_auc_score\n",
    "\n",
    "from scipy.spatial.distance import pdist, cdist\n",
    "from scipy import stats\n",
    "\n",
    "from hpst.trainers.singleton_point_set_trainer import PointSetTrainer\n",
    "from hpst.dataset.heterogenous_sparse_sim_dataset import HeterogenousSparseDataset\n",
    "from hpst.utils.options import Options\n",
    "\n",
    "# from pytorch_grad_cam import GradCAM, ScoreCAM, GradCAMPlusPlus, AblationCAM, XGradCAM, EigenCAM, FullGrad, EigenGradCAM\n",
    "# from pytorch_grad_cam.utils.model_targets import ClassifierOutputTarget\n",
    "# from pytorch_grad_cam.utils.image import show_cam_on_image\n",
    "\n",
    "from matplotlib import pyplot as plt\n",
    "from mpl_toolkits.axes_grid1 import make_axes_locatable\n",
    "# import cmasher as cmr\n",
    "import seaborn as sb"
   ]
  },
  {
   "cell_type": "code",
   "execution_count": 4,
   "id": "b478f6e4-81e6-48dd-9003-b64aa45c8cb5",
   "metadata": {
    "tags": []
   },
   "outputs": [],
   "source": [
    "CUDA = True\n",
    "CUDA_DEVICE = 0\n",
    "USE_TEX = False\n",
    "TESTING_FILE = None\n",
    "\n",
    "# TESTING_SOURCE = \"interpretation\"\n",
    "# GRADIENT = False\n",
    "\n",
    "# TESTING_SOURCE = \"production\"\n",
    "# GRADIENT = False\n",
    "\n",
    "TESTING_SOURCE= \"testing\"\n",
    "GRADIENT = False\n",
    "\n",
    "NETWORK = PointSetTrainer"
   ]
  },
  {
   "cell_type": "code",
   "execution_count": 5,
   "id": "c0059ab7-390f-40c7-b6a0-9195f3993961",
   "metadata": {
    "tags": []
   },
   "outputs": [
    {
     "name": "stderr",
     "output_type": "stream",
     "text": [
      "/tmp/ipykernel_1005/3822528816.py:22: FutureWarning: You are using `torch.load` with `weights_only=False` (the current default value), which uses the default pickle module implicitly. It is possible to construct malicious pickle data which will execute arbitrary code during unpickling (See https://github.com/pytorch/pytorch/blob/main/SECURITY.md#untrusted-models for more details). In a future release, the default value for `weights_only` will be flipped to `True`. This limits the functions that could be executed during unpickling. Arbitrary objects will no longer be allowed to be loaded via this mode unless they are explicitly allowlisted by the user via `torch.serialization.add_safe_globals`. We recommend you start setting `weights_only=True` for any use case where you don't have full control of the loaded file. Please open an issue on GitHub for any issues related to this experimental feature.\n",
      "  checkpoint = torch.load(checkpoint_path, map_location='cpu')\n",
      "/home/roblesee/dune/hpst/notebooks/../hpst/dataset/heterogenous_sparse_sim_dataset.py:59: FutureWarning: You are using `torch.load` with `weights_only=False` (the current default value), which uses the default pickle module implicitly. It is possible to construct malicious pickle data which will execute arbitrary code during unpickling (See https://github.com/pytorch/pytorch/blob/main/SECURITY.md#untrusted-models for more details). In a future release, the default value for `weights_only` will be flipped to `True`. This limits the functions that could be executed during unpickling. Arbitrary objects will no longer be allowed to be loaded via this mode unless they are explicitly allowlisted by the user via `torch.serialization.add_safe_globals`. We recommend you start setting `weights_only=True` for any use case where you don't have full control of the loaded file. Please open an issue on GitHub for any issues related to this experimental feature.\n",
      "  cache = torch.load(CACHE_FILE)\n"
     ]
    },
    {
     "name": "stdout",
     "output_type": "stream",
     "text": [
      "Loading from: ../results/hpst/lightning_logs/version_203/checkpoints/last.ckpt\n",
      "loading training\n",
      "/baldig/physicsprojects/roblesee/sim_data/train_cache/cache_0.0_0.85.pt\n",
      "torch.Size([269276570])\n",
      "tensor(0) tensor(7)\n",
      "tensor([ 10821561, 103297288,  33666441,  17460621,  10248095,  43728218,\n",
      "         47183570,   2870784])\n",
      "/baldig/physicsprojects/roblesee/sim_data/train_cache/cache_0.85_1.0.pt\n",
      "torch.Size([48785812])\n",
      "tensor(0) tensor(7)\n",
      "tensor([ 1926672, 18950314,  5871999,  3156849,  1817022,  8100520,  8448533,\n",
      "          513911])\n",
      "loading testing\n"
     ]
    }
   ],
   "source": [
    "TESTING_FILE = \"/home/roblesee/dune/hpst/data/sim_data/train\"\n",
    "BASE_DIRECTORY =  \"../results/hpst/lightning_logs/version_203\"\n",
    "CHECKPOINT_PATH = \"../results/hpst/lightning_logs/version_203/checkpoints/last.ckpt\"\n",
    "\n",
    "# Load checkpoint and add the test file location\n",
    "options = Options.load(f\"{BASE_DIRECTORY}/options.json\")\n",
    "\"\"\"\n",
    "if TESTING_FILE:\n",
    "    options.testing_file = TESTING_FILE\n",
    "else:\n",
    "    options.testing_file = options.training_file.replace(\"training\", TESTING_SOURCE)\n",
    "options.num_dataloader_workers = 0\n",
    "\"\"\"\n",
    "options.training_file = TESTING_FILE\n",
    "\n",
    "if CHECKPOINT_PATH is None:\n",
    "    checkpoints = glob(f\"{BASE_DIRECTORY}/checkpoints/epoch*.ckpt\")\n",
    "    last_checkpoint = np.argmax([int(re.search(\"step=(.*).ckpt\", s)[1]) for s in checkpoints])\n",
    "    checkpoint_path = checkpoints[last_checkpoint]\n",
    "else:\n",
    "    checkpoint_path = CHECKPOINT_PATH\n",
    "checkpoint = torch.load(checkpoint_path, map_location='cpu')\n",
    "state_dict = checkpoint[\"state_dict\"]\n",
    "print(f\"Loading from: {checkpoint_path}\")\n",
    "\n",
    "network = NETWORK(options)\n",
    "network.load_state_dict(state_dict)\n",
    "\n",
    "network = network.eval()\n",
    "\n",
    "if not GRADIENT:\n",
    "    for parameter in network.parameters():\n",
    "        parameter.requires_grad_(False)\n",
    "\n",
    "if CUDA:\n",
    "    network = network.cuda(CUDA_DEVICE)"
   ]
  },
  {
   "cell_type": "code",
   "execution_count": 6,
   "id": "f519f7ad-68c0-4bb0-a205-b1e2ddd417a7",
   "metadata": {
    "tags": []
   },
   "outputs": [],
   "source": [
    "DATASET = network.validation_dataset"
   ]
  },
  {
   "cell_type": "code",
   "execution_count": 7,
   "id": "c6ffa268-f334-4c13-8c8f-c63ef9072735",
   "metadata": {
    "tags": []
   },
   "outputs": [],
   "source": [
    "DATASET.return_index = True"
   ]
  },
  {
   "cell_type": "code",
   "execution_count": 8,
   "id": "fd891296-391b-4448-8d29-356e225d6d5f",
   "metadata": {
    "tags": []
   },
   "outputs": [],
   "source": [
    "dataloader_options = network.dataloader_options\n",
    "dataloader_options[\"pin_memory\"] = False\n",
    "dataloader_options[\"num_workers\"] = 0\n",
    "dataloader_options[\"batch_size\"] = 128\n",
    "dataloader_options[\"drop_last\"] = False\n",
    "\n",
    "test_dataloader = network.dataloader(DATASET, **dataloader_options)"
   ]
  },
  {
   "cell_type": "code",
   "execution_count": 9,
   "id": "e3df93e3-b889-4563-b854-c8b8ebcc0fab",
   "metadata": {
    "tags": []
   },
   "outputs": [],
   "source": [
    "from torch_scatter import scatter\n",
    "from scipy.optimize import linear_sum_assignment"
   ]
  },
  {
   "cell_type": "code",
   "execution_count": 10,
   "id": "fba7a243-0b15-40b4-b43c-02c2c4ef3838",
   "metadata": {
    "tags": []
   },
   "outputs": [
    {
     "name": "stderr",
     "output_type": "stream",
     "text": [
      "100%|████████████████████████████████████████████████████████████████| 183/183 [01:03<00:00,  2.88it/s]\n"
     ]
    }
   ],
   "source": [
    "total_coords1 = []\n",
    "total_coords2 = []\n",
    "\n",
    "total_predictions1 = []\n",
    "total_predictions2 = []\n",
    "\n",
    "total_object_predictions1 = []\n",
    "total_object_predictions2 = []\n",
    "\n",
    "\n",
    "total_targets1 = []\n",
    "total_targets2 = []\n",
    "\n",
    "total_object_targets1 = []\n",
    "total_object_targets2 = []\n",
    "\n",
    "total_raws1 = []\n",
    "total_raws2 = []\n",
    "\n",
    "total_batch_idx1 = []\n",
    "total_batch_idx2 = []\n",
    "\n",
    "current_batch1 = 0\n",
    "current_batch2 = 0\n",
    "\n",
    "num_objects = 10\n",
    "\n",
    "total_ids = []\n",
    "for batch_idx, batch in enumerate(tqdm(test_dataloader)):\n",
    "    if CUDA:\n",
    "        batch = [b.cuda(CUDA_DEVICE) for b in batch]\n",
    "    \n",
    "    (\n",
    "        ids,\n",
    "        batches1, \n",
    "        features1, \n",
    "        coordinates1, \n",
    "        targets1,\n",
    "        object_targets1,\n",
    "    ) = batch\n",
    "    \n",
    "    # coordinates1 = torch.nn.functional.pad(coordinates1, (0,1), \"constant\", 0)\n",
    "    # coordinates1[:,-1] = coordinates1[:,1]\n",
    "    # coordinates2 = torch.nn.functional.pad(coordinates2, (0,1), \"constant\", 0)\n",
    "    # coordinates2[:,-1] = coordinates2[:,1]\n",
    "    \n",
    "    predictions1, object_predictions1 = network.forward(\n",
    "        features1, coordinates1, batches1\n",
    "    )\n",
    "    \n",
    "    total_ids.append(ids.cpu())\n",
    "    \n",
    "    mask1 = ((targets1 != -1))#(object_targets1 < num_objects))\n",
    "    \n",
    "    total_coords1.append(coordinates1[mask1].cpu())\n",
    "    \n",
    "    total_predictions1.append(predictions1[mask1].argmax(-1).cpu())\n",
    "    \n",
    "    total_object_predictions1.append(object_predictions1[mask1].argmax(-1).cpu())\n",
    "    \n",
    "    total_targets1.append(targets1[mask1].cpu())\n",
    "    \n",
    "    total_object_targets1.append(object_targets1[mask1].cpu())\n",
    "    \n",
    "    total_raws1.append(predictions1[mask1].cpu())\n",
    "    \n",
    "    total_batch_idx1.append(batches1[mask1].cpu() + current_batch1 + 1)\n",
    "    current_batch1 += batches1.max().item() + 1\n",
    "    \n",
    "total_predictions1 = torch.cat(total_predictions1)\n",
    "total_targets1 = torch.cat(total_targets1)\n",
    "total_raws1 = torch.cat(total_raws1)\n",
    "total_batch_idx1 = torch.cat(total_batch_idx1)\n",
    "total_coords1 = torch.cat(total_coords1)\n",
    "total_ids = torch.cat(total_ids)\n",
    "total_object_predictions1 = torch.cat(total_object_predictions1)\n",
    "total_object_targets1 = torch.cat(total_object_targets1)"
   ]
  },
  {
   "cell_type": "code",
   "execution_count": 11,
   "id": "99df68f7-d443-4236-89bd-ae34c1f4b96f",
   "metadata": {
    "tags": []
   },
   "outputs": [],
   "source": [
    "import matplotlib\n",
    "from scipy.spatial import ConvexHull, convex_hull_plot_2d\n",
    "\n",
    "def imshow_segments_convex_hull(coords, targets, segments, ax):\n",
    "    targets = torch.sparse_coo_tensor(\n",
    "        coords.T,\n",
    "        targets,\n",
    "        size=(100,80)\n",
    "    ).to_dense()\n",
    "    targets_cmap = matplotlib.colors.LinearSegmentedColormap.from_list(\"targets\", colors=[\"#FFFFFF\", \"#1f77b4\", \"#ff7f0e\", \"#2ca02c\", \"#d62728\", \"#9467bd\"], N=6)\n",
    "    im = ax.imshow(targets.T, cmap=targets_cmap, vmin=-0.5, vmax=5.5, aspect=\"equal\")\n",
    "    \n",
    "    for i in range(10):\n",
    "        mask = segments == i\n",
    "        if mask.sum() > 3:\n",
    "            points = coords[mask].numpy()\n",
    "            hull = ConvexHull(points=points)\n",
    "            #convex_hull_plot_2d(hull, ax=ax)\n",
    "            ax.plot(points[hull.vertices,0], points[hull.vertices,1], 'r--', lw=2)\n",
    "\n",
    "    \n",
    "    return im\n",
    "\n",
    "\n",
    "def imshow_segments(coords, targets, segments, weights, ax):\n",
    "    \n",
    "    targets = torch.sparse_coo_tensor(\n",
    "        coords.T,\n",
    "        targets,\n",
    "        size=(100,80)\n",
    "    ).to_dense()\n",
    "    targets_cmap = matplotlib.colors.LinearSegmentedColormap.from_list(\"targets\", colors=[\"#FFFFFF\", \"#1f77b4\", \"#ff7f0e\", \"#2ca02c\", \"#d62728\", \"#9467bd\"], N=6)\n",
    "    im = ax.imshow(targets.T, cmap=targets_cmap, vmin=-0.5, vmax=5.5, aspect=\"equal\")\n",
    "    \n",
    "    for i in range(10):\n",
    "        mask = segments == i\n",
    "        if mask.sum() > 3:\n",
    "            points = coords[mask].numpy()\n",
    "            lox = points[:,0].min()-1\n",
    "            hix = points[:,0].max()+1\n",
    "            loy = points[:,1].min()-1\n",
    "            hiy = points[:,1].max()+1\n",
    "            \n",
    "            #ax.plot([lox,hix,hix,lox,lox],[loy,loy,hiy,hiy,loy])\n",
    "\n",
    "    \n",
    "    return im\n",
    "    \n",
    "def plot_results(i):\n",
    "    mask1 = total_batch_idx1 == i+1\n",
    "    mask2 = total_batch_idx2 == i+1\n",
    "    \n",
    "    coordsx = total_coords1[mask1]\n",
    "    coordsy = total_coords2[mask2]\n",
    "    predsx = total_predictions1[mask1]\n",
    "    predsy = total_predictions2[mask2]\n",
    "    targetsx = total_targets1[mask1]\n",
    "    targetsy = total_targets2[mask2]\n",
    "    objectpredsx = total_object_predictions1[mask1]\n",
    "    objectpredsy = total_object_predictions2[mask2]\n",
    "    objecttargetsx = total_object_targets1[mask1]\n",
    "    objecttargetsy = total_object_targets2[mask2]\n",
    "    featuresx = total_features1[mask1]\n",
    "    featuresy = total_features2[mask2]\n",
    "    \n",
    "    fig, axs = plt.subplots(nrows=2, ncols=2, figsize=(10,10))\n",
    "    fig.subplots_adjust(right=0.8)\n",
    "    cbar_ax = fig.add_axes([0.85, 0.575, 0.025, 0.25])\n",
    "    \n",
    "    ax = axs[0][0]\n",
    "    im = imshow_segments(coordsx, targetsx, objecttargetsx, featuresx, ax)\n",
    "    ax.set_xlabel(\"Z\")\n",
    "    ax.set_ylabel(\"X\")\n",
    "    ax.set_title(\"XZ, true label\")\n",
    "    \n",
    "    ax = axs[0][1]\n",
    "    im = imshow_segments(coordsy, targetsy, objecttargetsy, featuresy, ax)\n",
    "    ax.set_xlabel(\"Z\")\n",
    "    ax.set_ylabel(\"Y\")\n",
    "    ax.set_title(\"YZ, true label\")\n",
    "    \n",
    "    ax = axs[1][0]\n",
    "    im = imshow_segments(coordsx, predsx, objectpredsx, featuresx, ax)\n",
    "    ax.set_xlabel(\"Z\")\n",
    "    ax.set_ylabel(\"X\")\n",
    "    ax.set_title(\"XZ, prediction\")\n",
    "    \n",
    "    ax = axs[1][1]\n",
    "    im = imshow_segments(coordsy, predsy, objectpredsy, featuresy, ax)\n",
    "    ax.set_xlabel(\"Z\")\n",
    "    ax.set_ylabel(\"Y\")\n",
    "    ax.set_title(\"YZ, prediction\")\n",
    "    \n",
    "    cbar = fig.colorbar(im, cax=cbar_ax, ticks=[0,1,2,3,4,5])\n",
    "    cbar.ax.set_yticklabels([\"Background\", \"Muon\", \"Electron\", \"Proton\", \"Photon\", \"Pion\"])\n",
    "    \n",
    "    fig.suptitle(\"id: %d, pur: %.02f, eff: %.02f\" % (total_ids[i], total_purs[i], total_effs[i]))\n",
    "    \n",
    "    plt.show()"
   ]
  },
  {
   "cell_type": "code",
   "execution_count": 12,
   "id": "9a763ad2-d7fd-444f-bc6c-5a588502c47a",
   "metadata": {
    "tags": []
   },
   "outputs": [
    {
     "ename": "IndexError",
     "evalue": "list index out of range",
     "output_type": "error",
     "traceback": [
      "\u001b[0;31m---------------------------------------------------------------------------\u001b[0m",
      "\u001b[0;31mIndexError\u001b[0m                                Traceback (most recent call last)",
      "Cell \u001b[0;32mIn[12], line 1\u001b[0m\n\u001b[0;32m----> 1\u001b[0m \u001b[43mplot_results\u001b[49m\u001b[43m(\u001b[49m\u001b[38;5;241;43m5\u001b[39;49m\u001b[43m)\u001b[49m\n",
      "Cell \u001b[0;32mIn[11], line 54\u001b[0m, in \u001b[0;36mplot_results\u001b[0;34m(i)\u001b[0m\n\u001b[1;32m     51\u001b[0m mask2 \u001b[38;5;241m=\u001b[39m total_batch_idx2 \u001b[38;5;241m==\u001b[39m i\u001b[38;5;241m+\u001b[39m\u001b[38;5;241m1\u001b[39m\n\u001b[1;32m     53\u001b[0m coordsx \u001b[38;5;241m=\u001b[39m total_coords1[mask1]\n\u001b[0;32m---> 54\u001b[0m coordsy \u001b[38;5;241m=\u001b[39m \u001b[43mtotal_coords2\u001b[49m\u001b[43m[\u001b[49m\u001b[43mmask2\u001b[49m\u001b[43m]\u001b[49m\n\u001b[1;32m     55\u001b[0m predsx \u001b[38;5;241m=\u001b[39m total_predictions1[mask1]\n\u001b[1;32m     56\u001b[0m predsy \u001b[38;5;241m=\u001b[39m total_predictions2[mask2]\n",
      "\u001b[0;31mIndexError\u001b[0m: list index out of range"
     ]
    }
   ],
   "source": [
    "plot_results(5)"
   ]
  },
  {
   "cell_type": "code",
   "execution_count": 13,
   "id": "73282fb8-1b2f-4d80-968f-b8c34357cde7",
   "metadata": {
    "tags": []
   },
   "outputs": [],
   "source": [
    "def idx_to_str(idx):\n",
    "    if idx < 4:\n",
    "        return \"numuCC\"\n",
    "    if idx < 8:\n",
    "        return \"nueCC\"\n",
    "    if idx < 14:\n",
    "        return \"NC\"\n",
    "    return \"Cosmic\"\n",
    "\n",
    "def imshow_labels(coords, targets, ax):\n",
    "    #targets = torch.sparse_coo_tensor(\n",
    "    #    coords.T,\n",
    "    #    targets,\n",
    "    #    size=(160,80)\n",
    "    #).to_dense()\n",
    "    dense_targets = torch.zeros((160,80))\n",
    "    coords = coords.long()\n",
    "    targets = targets.float()\n",
    "    dense_targets[coords[:,0], coords[:,1]] = targets+1\n",
    "    #print(targets.amin(), targets.amax())\n",
    "    targets_cmap = matplotlib.colors.LinearSegmentedColormap.from_list(\"targets\", colors=[\"#FFFFFF\", \"#1f77b4\", \"#ff7f0e\", \"#2ca02c\", \"#d62728\", \"#9467bd\", '#8c564b', '#e377c2'], N=8)\n",
    "    im = ax.imshow(dense_targets.T, cmap=targets_cmap, vmin=-0.5, vmax=7.5, aspect=\"equal\")\n",
    "    \n",
    "    return im\n",
    "\n",
    "def imshow_objects(coords, targets, ax):\n",
    "    #vmax = min(targets.amax().item(), 20) + 0.5\n",
    "    #c, unique_inverse = torch.unique(coords, dim=0, return_inverse=True)\n",
    "    #print(unique_inverse.min(), unique_inverse.max())\n",
    "    #print(c.shape)\n",
    "    #targets = (targets + 1).to(float)\n",
    "    #targets = torch.sparse_coo_tensor(\n",
    "    #    coords.T.long()[:,unique_mask],\n",
    "    #    targets[unique_mask],\n",
    "    #    size=(160,80)\n",
    "    #).to_dense()\n",
    "    #print(targets.amin(), targets.amax())\n",
    "    dense_targets = torch.zeros((160,80))\n",
    "    coords = coords.long()\n",
    "    targets = targets.float()\n",
    "    dense_targets[coords[:,0], coords[:,1]] = targets+1\n",
    "\n",
    "    #print(targets.amin(), targets.amax())\n",
    "    #print(targets[targets != 0])\n",
    "    dense_targets[dense_targets == 0] = torch.nan\n",
    "    # targets_cmap = matplotlib.colors.LinearSegmentedColormap.from_list(\"targets\", colors=[\"#FFFFFF\", \"#1f77b4\", \"#ff7f0e\", \"#2ca02c\", \"#d62728\", \"#9467bd\"], N=6)\n",
    "    \n",
    "    im = ax.imshow(dense_targets.T, cmap=\"tab20\", vmin=-0.5, vmax=20.5, aspect=\"equal\")\n",
    "    \n",
    "    return im\n",
    "    \n",
    "def plot_results(i):\n",
    "    #intertype = DATASET.intertype[i]\n",
    "    intertype = 1\n",
    "    id_ = total_ids[i].cpu()\n",
    "    mask1 = total_batch_idx1.cpu() == id_\n",
    "    #mask2 = total_batch_idx2.cpu() == id_\n",
    "    \n",
    "    coordsx = total_coords1[mask1][:,[2,0]] + torch.tensor([[0,40]])\n",
    "    coordsy = total_coords1[mask1][:,[2,1]] + torch.tensor([[0,40]])\n",
    "    predsx = total_predictions1[mask1]\n",
    "    predsy = total_predictions1[mask1]\n",
    "    targetsx = total_targets1[mask1]\n",
    "    targetsy = total_targets1[mask1]\n",
    "    objectpredsx = total_object_predictions1[mask1]\n",
    "    objectpredsy = total_object_predictions1[mask1]\n",
    "    objecttargetsx = total_object_targets1[mask1]\n",
    "    objecttargetsy = total_object_targets1[mask1]\n",
    "\n",
    "    #print(objecttargetsy.amin(), objecttargetsy.amax())\n",
    "    #print(objecttargetsx.amin(), objecttargetsx.amax())\n",
    "    \n",
    "    fig, axs = plt.subplots(nrows=2, ncols=4, figsize=(40,12))\n",
    "    fig.subplots_adjust(right=0.85)\n",
    "    cbar_ax = fig.add_axes([0.9, 0.575, 0.012, 0.25])\n",
    "    \n",
    "    ax = axs[0][0]\n",
    "    im = imshow_labels(coordsx, targetsx, ax)\n",
    "    ax.set_xlabel(\"Z\")\n",
    "    ax.set_ylabel(\"X\")\n",
    "    ax.set_title(\"XZ, true label\")\n",
    "    \n",
    "    ax = axs[0][1]\n",
    "    im = imshow_labels(coordsy, targetsy, ax)\n",
    "    ax.set_xlabel(\"Z\")\n",
    "    ax.set_ylabel(\"Y\")\n",
    "    ax.set_title(\"YZ, true label\")\n",
    "    \n",
    "    ax = axs[1][0]\n",
    "    im = imshow_labels(coordsx, predsx, ax)\n",
    "    ax.set_xlabel(\"Z\")\n",
    "    ax.set_ylabel(\"X\")\n",
    "    ax.set_title(\"XZ, prediction\")\n",
    "    \n",
    "    ax = axs[1][1]\n",
    "    im = imshow_labels(coordsy, predsy, ax)\n",
    "    ax.set_xlabel(\"Z\")\n",
    "    ax.set_ylabel(\"Y\")\n",
    "    ax.set_title(\"YZ, prediction\")\n",
    "    \n",
    "    cbar = fig.colorbar(im, cax=cbar_ax, ticks=[0,1,2,3,4,5,6,7])\n",
    "    cbar.ax.set_yticklabels([\"Background\", \"Electron\", \"Muon\", \"Proton\", \"Neutron\", \"Charged Pion\", \"Neutral Pion\", \"Photon\"])\n",
    "    \n",
    "    cbar_ax = fig.add_axes([0.9, 0.15, 0.012, 0.25])\n",
    "    \n",
    "    ax = axs[0][2]\n",
    "    im = imshow_objects(coordsx, objecttargetsx, ax)\n",
    "    ax.set_xlabel(\"Z\")\n",
    "    ax.set_ylabel(\"X\")\n",
    "    ax.set_title(\"XZ, segmentation true label\")\n",
    "    \n",
    "    ax = axs[0][3]\n",
    "    im = imshow_objects(coordsy, objecttargetsy, ax)\n",
    "    ax.set_xlabel(\"Z\")\n",
    "    ax.set_ylabel(\"Y\")\n",
    "    ax.set_title(\"YZ, segmentation true label\")\n",
    "    \n",
    "    ax = axs[1][2]\n",
    "    im = imshow_objects(coordsx, objectpredsx, ax)\n",
    "    ax.set_xlabel(\"Z\")\n",
    "    ax.set_ylabel(\"X\")\n",
    "    ax.set_title(\"XZ, segmentation prediction\")\n",
    "    \n",
    "    ax = axs[1][3]\n",
    "    im = imshow_objects(coordsy, objectpredsy, ax)\n",
    "    ax.set_xlabel(\"Z\")\n",
    "    ax.set_ylabel(\"Y\")\n",
    "    ax.set_title(\"YZ, segmentation prediction\")\n",
    "    \n",
    "    cbar = fig.colorbar(im, cax=cbar_ax)\n",
    "    \n",
    "    \n",
    "    \n",
    "    fig.suptitle(\"i: %d, id: %d, type: %s\" % (i, total_ids[i], idx_to_str(intertype)))\n",
    "\n",
    "    \n",
    "    \n",
    "    plt.show()\n",
    "    #plt.savefig(\"/baldig/physicsprojects/roblesee/neutrino_viz_paper/%d.png\" % total_ids[i]);\n",
    "    plt.close();"
   ]
  },
  {
   "cell_type": "code",
   "execution_count": 14,
   "id": "96f02966-48c8-4845-8784-a4f2760a52a7",
   "metadata": {},
   "outputs": [
    {
     "ename": "IndexError",
     "evalue": "index 558 is out of bounds for dimension 0 with size 160",
     "output_type": "error",
     "traceback": [
      "\u001b[0;31m---------------------------------------------------------------------------\u001b[0m",
      "\u001b[0;31mIndexError\u001b[0m                                Traceback (most recent call last)",
      "Cell \u001b[0;32mIn[14], line 1\u001b[0m\n\u001b[0;32m----> 1\u001b[0m \u001b[43mplot_results\u001b[49m\u001b[43m(\u001b[49m\u001b[38;5;241;43m17536\u001b[39;49m\u001b[43m)\u001b[49m\n",
      "Cell \u001b[0;32mIn[13], line 78\u001b[0m, in \u001b[0;36mplot_results\u001b[0;34m(i)\u001b[0m\n\u001b[1;32m     75\u001b[0m cbar_ax \u001b[38;5;241m=\u001b[39m fig\u001b[38;5;241m.\u001b[39madd_axes([\u001b[38;5;241m0.9\u001b[39m, \u001b[38;5;241m0.575\u001b[39m, \u001b[38;5;241m0.012\u001b[39m, \u001b[38;5;241m0.25\u001b[39m])\n\u001b[1;32m     77\u001b[0m ax \u001b[38;5;241m=\u001b[39m axs[\u001b[38;5;241m0\u001b[39m][\u001b[38;5;241m0\u001b[39m]\n\u001b[0;32m---> 78\u001b[0m im \u001b[38;5;241m=\u001b[39m \u001b[43mimshow_labels\u001b[49m\u001b[43m(\u001b[49m\u001b[43mcoordsx\u001b[49m\u001b[43m,\u001b[49m\u001b[43m \u001b[49m\u001b[43mtargetsx\u001b[49m\u001b[43m,\u001b[49m\u001b[43m \u001b[49m\u001b[43max\u001b[49m\u001b[43m)\u001b[49m\n\u001b[1;32m     79\u001b[0m ax\u001b[38;5;241m.\u001b[39mset_xlabel(\u001b[38;5;124m\"\u001b[39m\u001b[38;5;124mZ\u001b[39m\u001b[38;5;124m\"\u001b[39m)\n\u001b[1;32m     80\u001b[0m ax\u001b[38;5;241m.\u001b[39mset_ylabel(\u001b[38;5;124m\"\u001b[39m\u001b[38;5;124mX\u001b[39m\u001b[38;5;124m\"\u001b[39m)\n",
      "Cell \u001b[0;32mIn[13], line 19\u001b[0m, in \u001b[0;36mimshow_labels\u001b[0;34m(coords, targets, ax)\u001b[0m\n\u001b[1;32m     17\u001b[0m coords \u001b[38;5;241m=\u001b[39m coords\u001b[38;5;241m.\u001b[39mlong()\n\u001b[1;32m     18\u001b[0m targets \u001b[38;5;241m=\u001b[39m targets\u001b[38;5;241m.\u001b[39mfloat()\n\u001b[0;32m---> 19\u001b[0m \u001b[43mdense_targets\u001b[49m\u001b[43m[\u001b[49m\u001b[43mcoords\u001b[49m\u001b[43m[\u001b[49m\u001b[43m:\u001b[49m\u001b[43m,\u001b[49m\u001b[38;5;241;43m0\u001b[39;49m\u001b[43m]\u001b[49m\u001b[43m,\u001b[49m\u001b[43m \u001b[49m\u001b[43mcoords\u001b[49m\u001b[43m[\u001b[49m\u001b[43m:\u001b[49m\u001b[43m,\u001b[49m\u001b[38;5;241;43m1\u001b[39;49m\u001b[43m]\u001b[49m\u001b[43m]\u001b[49m \u001b[38;5;241m=\u001b[39m targets\u001b[38;5;241m+\u001b[39m\u001b[38;5;241m1\u001b[39m\n\u001b[1;32m     20\u001b[0m \u001b[38;5;66;03m#print(targets.amin(), targets.amax())\u001b[39;00m\n\u001b[1;32m     21\u001b[0m targets_cmap \u001b[38;5;241m=\u001b[39m matplotlib\u001b[38;5;241m.\u001b[39mcolors\u001b[38;5;241m.\u001b[39mLinearSegmentedColormap\u001b[38;5;241m.\u001b[39mfrom_list(\u001b[38;5;124m\"\u001b[39m\u001b[38;5;124mtargets\u001b[39m\u001b[38;5;124m\"\u001b[39m, colors\u001b[38;5;241m=\u001b[39m[\u001b[38;5;124m\"\u001b[39m\u001b[38;5;124m#FFFFFF\u001b[39m\u001b[38;5;124m\"\u001b[39m, \u001b[38;5;124m\"\u001b[39m\u001b[38;5;124m#1f77b4\u001b[39m\u001b[38;5;124m\"\u001b[39m, \u001b[38;5;124m\"\u001b[39m\u001b[38;5;124m#ff7f0e\u001b[39m\u001b[38;5;124m\"\u001b[39m, \u001b[38;5;124m\"\u001b[39m\u001b[38;5;124m#2ca02c\u001b[39m\u001b[38;5;124m\"\u001b[39m, \u001b[38;5;124m\"\u001b[39m\u001b[38;5;124m#d62728\u001b[39m\u001b[38;5;124m\"\u001b[39m, \u001b[38;5;124m\"\u001b[39m\u001b[38;5;124m#9467bd\u001b[39m\u001b[38;5;124m\"\u001b[39m, \u001b[38;5;124m'\u001b[39m\u001b[38;5;124m#8c564b\u001b[39m\u001b[38;5;124m'\u001b[39m, \u001b[38;5;124m'\u001b[39m\u001b[38;5;124m#e377c2\u001b[39m\u001b[38;5;124m'\u001b[39m], N\u001b[38;5;241m=\u001b[39m\u001b[38;5;241m8\u001b[39m)\n",
      "\u001b[0;31mIndexError\u001b[0m: index 558 is out of bounds for dimension 0 with size 160"
     ]
    },
    {
     "data": {
      "image/png": "[encoded data removed]",
      "text/plain": [
       "<Figure size 4000x1200 with 9 Axes>"
      ]
     },
     "metadata": {},
     "output_type": "display_data"
    }
   ],
   "source": [
    "plot_results(17536)"
   ]
  },
  {
   "cell_type": "code",
   "execution_count": null,
   "id": "523b67d8-397c-4b3e-b887-f61f0b01e5b0",
   "metadata": {
    "tags": []
   },
   "outputs": [],
   "source": [
    "plot_results(110)"
   ]
  },
  {
   "cell_type": "code",
   "execution_count": null,
   "id": "6af9cc91-ca3b-4578-b11f-97b34ba9cc0b",
   "metadata": {},
   "outputs": [],
   "source": [
    "plot_results(2803)"
   ]
  },
  {
   "cell_type": "code",
   "execution_count": null,
   "id": "aaa59a0f-a203-472b-a8df-5012f3800378",
   "metadata": {},
   "outputs": [],
   "source": []
  },
  {
   "cell_type": "code",
   "execution_count": null,
   "id": "0a5cd438-c701-41c2-a690-add01c5c9f52",
   "metadata": {
    "tags": []
   },
   "outputs": [],
   "source": [
    "total_ids"
   ]
  },
  {
   "cell_type": "code",
   "execution_count": null,
   "id": "b05a12ab-3c32-47f1-90a7-102ea5272d02",
   "metadata": {
    "tags": []
   },
   "outputs": [],
   "source": [
    "perm = torch.randperm(total_ids.shape[0])\n",
    "\n",
    "ids = perm[:10000]"
   ]
  },
  {
   "cell_type": "code",
   "execution_count": null,
   "id": "1199220c-a354-45e8-8ec1-616f37d42a05",
   "metadata": {
    "tags": []
   },
   "outputs": [],
   "source": [
    "for id_ in tqdm(ids):\n",
    "    plot_results(id_)"
   ]
  },
  {
   "cell_type": "code",
   "execution_count": 15,
   "id": "85ed24e1-f2b7-42d2-9732-c2aa5c6e0dfd",
   "metadata": {},
   "outputs": [],
   "source": [
    "def idx_to_str(idx):\n",
    "    if idx < 4:\n",
    "        return \"numuCC\"\n",
    "    if idx < 8:\n",
    "        return \"nueCC\"\n",
    "    if idx < 14:\n",
    "        return \"NC\"\n",
    "    return \"Cosmic\"\n",
    "\n",
    "def imshow_labels(coords, targets, ax):\n",
    "    #targets = torch.sparse_coo_tensor(\n",
    "    #    coords.T,\n",
    "    #    targets,\n",
    "    #    size=(160,80)\n",
    "    #).to_dense()\n",
    "    dense_targets = torch.zeros((160,80))\n",
    "    coords = coords.long()\n",
    "    targets = targets.float()\n",
    "    dense_targets[coords[:,0], coords[:,1]] = targets\n",
    "    targets_cmap = matplotlib.colors.LinearSegmentedColormap.from_list(\"targets\", colors=[\"#FFFFFF\", \"#1f77b4\", \"#ff7f0e\", \"#2ca02c\", \"#d62728\", \"#9467bd\", '#8c564b', '#e377c2'], N=8)\n",
    "    im = ax.imshow(dense_targets.T, cmap=targets_cmap, vmin=-0.5, vmax=7.5, aspect=\"equal\")\n",
    "    \n",
    "    return im\n",
    "\n",
    "def imshow_objects(coords, targets, ax):\n",
    "    #vmax = min(targets.amax().item(), 20) + 0.5\n",
    "    # print(targets.unique())\n",
    "    #targets = torch.sparse_coo_tensor(\n",
    "    #    coords.T[:,:],\n",
    "    #(targets+1),\n",
    "    #    size=(160,80)\n",
    "    #).to_dense()\n",
    "    dense_targets = torch.zeros((160,80))\n",
    "    coords = coords.long()\n",
    "    targets = targets.float()\n",
    "    dense_targets[coords[:,0], coords[:,1]] = targets+1\n",
    "\n",
    "    #print(targets.amin(), targets.amax())\n",
    "    #print(targets[targets != 0])\n",
    "    dense_targets[dense_targets == 0] = torch.nan\n",
    "    #targets = targets.to(float)\n",
    "    #targets[targets == 0] = torch.nan\n",
    "    # targets_cmap = matplotlib.colors.LinearSegmentedColormap.from_list(\"targets\", colors=[\"#FFFFFF\", \"#1f77b4\", \"#ff7f0e\", \"#2ca02c\", \"#d62728\", \"#9467bd\"], N=6)\n",
    "    \n",
    "    im = ax.imshow(dense_targets.T, cmap=\"tab20\", vmin=-0.5, vmax=20.5, aspect=\"equal\")\n",
    "    \n",
    "    return im\n",
    "\n",
    "def plot_one(i, axs):\n",
    "    #intertype = DATASET.intertype[i]\n",
    "    intertype = 1\n",
    "    id_ = total_ids[i].cpu()\n",
    "    mask1 = total_batch_idx1.cpu() == id_\n",
    "    #mask2 = total_batch_idx2.cpu() == id_\n",
    "    \n",
    "    coordsx = total_coords1[mask1][:,[2,0]] + torch.tensor([[0,40]])\n",
    "    coordsy = total_coords1[mask1][:,[2,1]] + torch.tensor([[0,40]])\n",
    "    predsx = total_predictions1[mask1]\n",
    "    predsy = total_predictions1[mask1]\n",
    "    targetsx = total_targets1[mask1]\n",
    "    targetsy = total_targets1[mask1]\n",
    "    objectpredsx = total_object_predictions1[mask1]\n",
    "    objectpredsy = total_object_predictions1[mask1]\n",
    "    objecttargetsx = total_object_targets1[mask1]\n",
    "    objecttargetsy = total_object_targets1[mask1]\n",
    "    \n",
    "    newtargetsx = objecttargetsx.clone()\n",
    "    for i in range(objecttargetsx.max()):\n",
    "        if (targetsx[objecttargetsx == i].shape[0]) > 0:\n",
    "            newtargetsx[objecttargetsx == i] = targetsx[objecttargetsx == i].mode().values\n",
    "            \n",
    "    newtargetsy = objecttargetsy.clone()\n",
    "    for i in range(objecttargetsy.max()):\n",
    "        if (targetsy[objecttargetsy == i].shape[0]) > 0:\n",
    "            newtargetsy[objecttargetsy == i] = targetsy[objecttargetsy == i].mode().values\n",
    "    \n",
    "    ax = axs[0][0]\n",
    "    im = imshow_labels(coordsx, newtargetsx, ax)\n",
    "    ax.set_xlabel(\"Z\")\n",
    "    ax.set_ylabel(\"X\")\n",
    "    ax.set_title(\"XZ, true label, sample %d\" % id_)\n",
    "    \n",
    "    ax = axs[0][1]\n",
    "    im = imshow_labels(coordsy, newtargetsy, ax)\n",
    "    ax.set_xlabel(\"Z\")\n",
    "    ax.set_ylabel(\"Y\")\n",
    "    ax.set_title(\"YZ, true label, sample %d\" % id_)\n",
    "    \n",
    "    ax = axs[1][0]\n",
    "    im = imshow_labels(coordsx, predsx, ax)\n",
    "    ax.set_xlabel(\"Z\")\n",
    "    ax.set_ylabel(\"X\")\n",
    "    ax.set_title(\"XZ, prediction, sample %d\" % id_)\n",
    "    \n",
    "    ax = axs[1][1]\n",
    "    im = imshow_labels(coordsy, predsy, ax)\n",
    "    ax.set_xlabel(\"Z\")\n",
    "    ax.set_ylabel(\"Y\")\n",
    "    ax.set_title(\"YZ, prediction, sample %d\" % id_)\n",
    "    \n",
    "    return im\n",
    "    \n",
    "def plot_results(i, j):\n",
    "    figwidth = 40\n",
    "    fig, axs = plt.subplots(nrows=2, ncols=4, figsize=(figwidth,figwidth/4))\n",
    "    \n",
    "    plt.tight_layout()\n",
    "    fig.subplots_adjust(right=0.85)\n",
    "    #cbar_ax = fig.add_axes([0.9, 0.575, 0.012, 0.25])\n",
    "    cbar_ax = fig.add_axes([0.9, 0.15, 0.012, 0.675])\n",
    "\n",
    "    im = plot_one(i, axs[:,0:2])\n",
    "    plot_one(j, axs[:,2:4])\n",
    "    \n",
    "    cbar = fig.colorbar(im, cax=cbar_ax, ticks=[0,1,2,3,4,5,6,7])\n",
    "    cbar.ax.set_yticklabels([\"Background\", \"Electron\", \"Muon\", \"Proton\", \"Neutron\", \"Charged Pion\", \"Neutral Pion\", \"Photon\"])\n",
    "    \n",
    "    #cbar_ax = fig.add_axes([0.9, 0.15, 0.012, 0.25])\n",
    "    \n",
    "    #cbar = fig.colorbar(im, cax=cbar_ax)\n",
    "    \n",
    "    #fig.suptitle(\"i: %d, id: %d, type: %s, pur: %.02f, eff: %.02f\" % (i, total_ids[i], idx_to_str(intertype), total_purs[i], total_effs[i]))\n",
    "    \n",
    "    #plt.show()\n",
    "    #plt.savefig(\"/baldig/physicsprojects/roblesee/neutrino_viz_paper/%d.png\" % total_ids[i]);\n",
    "    plt.savefig(\"tracks.pdf\")\n",
    "    #plt.savefig(\"tracks.pdf\", format=\"pdf\", bbox_inches=\"tight\")\n",
    "    #plt.close();"
   ]
  },
  {
   "cell_type": "code",
   "execution_count": 16,
   "id": "876deceb-bd16-4fc6-99db-a4b704321ccf",
   "metadata": {
    "tags": []
   },
   "outputs": [
    {
     "ename": "IndexError",
     "evalue": "index 733 is out of bounds for dimension 0 with size 160",
     "output_type": "error",
     "traceback": [
      "\u001b[0;31m---------------------------------------------------------------------------\u001b[0m",
      "\u001b[0;31mIndexError\u001b[0m                                Traceback (most recent call last)",
      "Cell \u001b[0;32mIn[16], line 1\u001b[0m\n\u001b[0;32m----> 1\u001b[0m \u001b[43mplot_results\u001b[49m\u001b[43m(\u001b[49m\u001b[38;5;241;43m110\u001b[39;49m\u001b[43m,\u001b[49m\u001b[43m \u001b[49m\u001b[38;5;241;43m17536\u001b[39;49m\u001b[43m)\u001b[49m\n",
      "Cell \u001b[0;32mIn[15], line 112\u001b[0m, in \u001b[0;36mplot_results\u001b[0;34m(i, j)\u001b[0m\n\u001b[1;32m    109\u001b[0m \u001b[38;5;66;03m#cbar_ax = fig.add_axes([0.9, 0.575, 0.012, 0.25])\u001b[39;00m\n\u001b[1;32m    110\u001b[0m cbar_ax \u001b[38;5;241m=\u001b[39m fig\u001b[38;5;241m.\u001b[39madd_axes([\u001b[38;5;241m0.9\u001b[39m, \u001b[38;5;241m0.15\u001b[39m, \u001b[38;5;241m0.012\u001b[39m, \u001b[38;5;241m0.675\u001b[39m])\n\u001b[0;32m--> 112\u001b[0m im \u001b[38;5;241m=\u001b[39m \u001b[43mplot_one\u001b[49m\u001b[43m(\u001b[49m\u001b[43mi\u001b[49m\u001b[43m,\u001b[49m\u001b[43m \u001b[49m\u001b[43maxs\u001b[49m\u001b[43m[\u001b[49m\u001b[43m:\u001b[49m\u001b[43m,\u001b[49m\u001b[38;5;241;43m0\u001b[39;49m\u001b[43m:\u001b[49m\u001b[38;5;241;43m2\u001b[39;49m\u001b[43m]\u001b[49m\u001b[43m)\u001b[49m\n\u001b[1;32m    113\u001b[0m plot_one(j, axs[:,\u001b[38;5;241m2\u001b[39m:\u001b[38;5;241m4\u001b[39m])\n\u001b[1;32m    115\u001b[0m cbar \u001b[38;5;241m=\u001b[39m fig\u001b[38;5;241m.\u001b[39mcolorbar(im, cax\u001b[38;5;241m=\u001b[39mcbar_ax, ticks\u001b[38;5;241m=\u001b[39m[\u001b[38;5;241m0\u001b[39m,\u001b[38;5;241m1\u001b[39m,\u001b[38;5;241m2\u001b[39m,\u001b[38;5;241m3\u001b[39m,\u001b[38;5;241m4\u001b[39m,\u001b[38;5;241m5\u001b[39m,\u001b[38;5;241m6\u001b[39m,\u001b[38;5;241m7\u001b[39m])\n",
      "Cell \u001b[0;32mIn[15], line 78\u001b[0m, in \u001b[0;36mplot_one\u001b[0;34m(i, axs)\u001b[0m\n\u001b[1;32m     75\u001b[0m         newtargetsy[objecttargetsy \u001b[38;5;241m==\u001b[39m i] \u001b[38;5;241m=\u001b[39m targetsy[objecttargetsy \u001b[38;5;241m==\u001b[39m i]\u001b[38;5;241m.\u001b[39mmode()\u001b[38;5;241m.\u001b[39mvalues\n\u001b[1;32m     77\u001b[0m ax \u001b[38;5;241m=\u001b[39m axs[\u001b[38;5;241m0\u001b[39m][\u001b[38;5;241m0\u001b[39m]\n\u001b[0;32m---> 78\u001b[0m im \u001b[38;5;241m=\u001b[39m \u001b[43mimshow_labels\u001b[49m\u001b[43m(\u001b[49m\u001b[43mcoordsx\u001b[49m\u001b[43m,\u001b[49m\u001b[43m \u001b[49m\u001b[43mnewtargetsx\u001b[49m\u001b[43m,\u001b[49m\u001b[43m \u001b[49m\u001b[43max\u001b[49m\u001b[43m)\u001b[49m\n\u001b[1;32m     79\u001b[0m ax\u001b[38;5;241m.\u001b[39mset_xlabel(\u001b[38;5;124m\"\u001b[39m\u001b[38;5;124mZ\u001b[39m\u001b[38;5;124m\"\u001b[39m)\n\u001b[1;32m     80\u001b[0m ax\u001b[38;5;241m.\u001b[39mset_ylabel(\u001b[38;5;124m\"\u001b[39m\u001b[38;5;124mX\u001b[39m\u001b[38;5;124m\"\u001b[39m)\n",
      "Cell \u001b[0;32mIn[15], line 19\u001b[0m, in \u001b[0;36mimshow_labels\u001b[0;34m(coords, targets, ax)\u001b[0m\n\u001b[1;32m     17\u001b[0m coords \u001b[38;5;241m=\u001b[39m coords\u001b[38;5;241m.\u001b[39mlong()\n\u001b[1;32m     18\u001b[0m targets \u001b[38;5;241m=\u001b[39m targets\u001b[38;5;241m.\u001b[39mfloat()\n\u001b[0;32m---> 19\u001b[0m \u001b[43mdense_targets\u001b[49m\u001b[43m[\u001b[49m\u001b[43mcoords\u001b[49m\u001b[43m[\u001b[49m\u001b[43m:\u001b[49m\u001b[43m,\u001b[49m\u001b[38;5;241;43m0\u001b[39;49m\u001b[43m]\u001b[49m\u001b[43m,\u001b[49m\u001b[43m \u001b[49m\u001b[43mcoords\u001b[49m\u001b[43m[\u001b[49m\u001b[43m:\u001b[49m\u001b[43m,\u001b[49m\u001b[38;5;241;43m1\u001b[39;49m\u001b[43m]\u001b[49m\u001b[43m]\u001b[49m \u001b[38;5;241m=\u001b[39m targets\n\u001b[1;32m     20\u001b[0m targets_cmap \u001b[38;5;241m=\u001b[39m matplotlib\u001b[38;5;241m.\u001b[39mcolors\u001b[38;5;241m.\u001b[39mLinearSegmentedColormap\u001b[38;5;241m.\u001b[39mfrom_list(\u001b[38;5;124m\"\u001b[39m\u001b[38;5;124mtargets\u001b[39m\u001b[38;5;124m\"\u001b[39m, colors\u001b[38;5;241m=\u001b[39m[\u001b[38;5;124m\"\u001b[39m\u001b[38;5;124m#FFFFFF\u001b[39m\u001b[38;5;124m\"\u001b[39m, \u001b[38;5;124m\"\u001b[39m\u001b[38;5;124m#1f77b4\u001b[39m\u001b[38;5;124m\"\u001b[39m, \u001b[38;5;124m\"\u001b[39m\u001b[38;5;124m#ff7f0e\u001b[39m\u001b[38;5;124m\"\u001b[39m, \u001b[38;5;124m\"\u001b[39m\u001b[38;5;124m#2ca02c\u001b[39m\u001b[38;5;124m\"\u001b[39m, \u001b[38;5;124m\"\u001b[39m\u001b[38;5;124m#d62728\u001b[39m\u001b[38;5;124m\"\u001b[39m, \u001b[38;5;124m\"\u001b[39m\u001b[38;5;124m#9467bd\u001b[39m\u001b[38;5;124m\"\u001b[39m, \u001b[38;5;124m'\u001b[39m\u001b[38;5;124m#8c564b\u001b[39m\u001b[38;5;124m'\u001b[39m, \u001b[38;5;124m'\u001b[39m\u001b[38;5;124m#e377c2\u001b[39m\u001b[38;5;124m'\u001b[39m], N\u001b[38;5;241m=\u001b[39m\u001b[38;5;241m8\u001b[39m)\n\u001b[1;32m     21\u001b[0m im \u001b[38;5;241m=\u001b[39m ax\u001b[38;5;241m.\u001b[39mimshow(dense_targets\u001b[38;5;241m.\u001b[39mT, cmap\u001b[38;5;241m=\u001b[39mtargets_cmap, vmin\u001b[38;5;241m=\u001b[39m\u001b[38;5;241m-\u001b[39m\u001b[38;5;241m0.5\u001b[39m, vmax\u001b[38;5;241m=\u001b[39m\u001b[38;5;241m7.5\u001b[39m, aspect\u001b[38;5;241m=\u001b[39m\u001b[38;5;124m\"\u001b[39m\u001b[38;5;124mequal\u001b[39m\u001b[38;5;124m\"\u001b[39m)\n",
      "\u001b[0;31mIndexError\u001b[0m: index 733 is out of bounds for dimension 0 with size 160"
     ]
    },
    {
     "data": {
      "image/png": "[encoded data removed]",
      "text/plain": [
       "<Figure size 4000x1000 with 9 Axes>"
      ]
     },
     "metadata": {},
     "output_type": "display_data"
    }
   ],
   "source": [
    "plot_results(110, 17536)"
   ]
  },
  {
   "cell_type": "code",
   "execution_count": null,
   "id": "ed653692-86eb-447d-b145-efef654d2dca",
   "metadata": {},
   "outputs": [],
   "source": [
    "#110 670 1300"
   ]
  }
 ],
 "metadata": {
  "kernelspec": {
   "display_name": "Python 3 (ipykernel)",
   "language": "python",
   "name": "python3"
  },
  "language_info": {
   "codemirror_mode": {
    "name": "ipython",
    "version": 3
   },
   "file_extension": ".py",
   "mimetype": "text/x-python",
   "name": "python",
   "nbconvert_exporter": "python",
   "pygments_lexer": "ipython3",
   "version": "3.10.16"
  }
 },
 "nbformat": 4,
 "nbformat_minor": 5
}
