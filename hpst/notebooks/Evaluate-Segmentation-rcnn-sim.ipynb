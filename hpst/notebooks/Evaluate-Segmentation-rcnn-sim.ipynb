{
 "cells": [
  {
   "cell_type": "code",
   "execution_count": 1,
   "id": "df2f8bf4-0430-4a57-a222-dbab190f824c",
   "metadata": {
    "tags": []
   },
   "outputs": [],
   "source": [
    "import os\n",
    "import sys\n",
    "# os.environ[\"CUDA_VISIBLE_DEVICES\"] = \"\""
   ]
  },
  {
   "cell_type": "code",
   "execution_count": 2,
   "id": "e9cba2fe-a823-4519-b8e8-e1d8e8530977",
   "metadata": {
    "tags": []
   },
   "outputs": [],
   "source": [
    "sys.path.append('..')"
   ]
  },
  {
   "cell_type": "code",
   "execution_count": 3,
   "id": "2592ae86-bb75-4b65-9b47-61e29764b589",
   "metadata": {
    "tags": []
   },
   "outputs": [],
   "source": [
    "import numpy as np\n",
    "\n",
    "import torch\n",
    "from torch import nn\n",
    "from torch.nn import functional as F\n",
    "from torchvision.transforms.functional import gaussian_blur\n",
    "torch.jit.script = lambda x: x\n",
    "\n",
    "import re \n",
    "import h5py\n",
    "from glob import glob\n",
    "from functools import partial\n",
    "from tqdm import tqdm\n",
    "\n",
    "from sklearn import metrics\n",
    "from sklearn.metrics import roc_curve, auc\n",
    "from sklearn.metrics import roc_auc_score\n",
    "\n",
    "from scipy.spatial.distance import pdist, cdist\n",
    "from scipy import stats\n",
    "\n",
    "from hpst.trainers.masked_rcnn_sim_trainer import MaskedRNNSimTrainer\n",
    "from hpst.dataset.heterogenous_sparse_sim_dataset import HeterogenousSparseDataset\n",
    "from hpst.utils.options import Options\n",
    "\n",
    "\n",
    "# from pytorch_grad_cam import GradCAM, ScoreCAM, GradCAMPlusPlus, AblationCAM, XGradCAM, EigenCAM, FullGrad, EigenGradCAM\n",
    "# from pytorch_grad_cam.utils.model_targets import ClassifierOutputTarget\n",
    "# from pytorch_grad_cam.utils.image import show_cam_on_image\n",
    "\n",
    "from matplotlib import pyplot as plt\n",
    "from mpl_toolkits.axes_grid1 import make_axes_locatable\n",
    "# import cmasher as cmr\n",
    "import seaborn as sb"
   ]
  },
  {
   "cell_type": "code",
   "execution_count": 4,
   "id": "add5f62e-64d6-4a1a-a149-67d0c91b9f6a",
   "metadata": {},
   "outputs": [],
   "source": [
    "from torch_scatter import scatter\n",
    "from scipy.optimize import linear_sum_assignment"
   ]
  },
  {
   "cell_type": "code",
   "execution_count": 5,
   "id": "753a7ce0-8c07-4b01-bd8d-c8d78d264aae",
   "metadata": {
    "tags": []
   },
   "outputs": [],
   "source": [
    "from pathlib import Path"
   ]
  },
  {
   "cell_type": "code",
   "execution_count": 6,
   "id": "9a697d5a-9aad-48c0-84ef-90f8fd116170",
   "metadata": {
    "tags": []
   },
   "outputs": [],
   "source": [
    "BASE_DIR = Path(\"/home/roblesee/dune/hpst/data/sim_data/train\")"
   ]
  },
  {
   "cell_type": "code",
   "execution_count": 7,
   "id": "72ff1df8-37a4-40e1-b80e-8ff7cec7c578",
   "metadata": {
    "tags": []
   },
   "outputs": [],
   "source": [
    "CACHE_DIR = (BASE_DIR / \"..\" / f\"{BASE_DIR.name}_cache\").resolve()"
   ]
  },
  {
   "cell_type": "code",
   "execution_count": 8,
   "id": "21bfa2f4-33dc-42bf-afff-6a243f5ec2f8",
   "metadata": {
    "tags": []
   },
   "outputs": [
    {
     "data": {
      "text/plain": [
       "PosixPath('/baldig/physicsprojects/roblesee/sim_data/train_cache')"
      ]
     },
     "execution_count": 8,
     "metadata": {},
     "output_type": "execute_result"
    }
   ],
   "source": [
    "CACHE_DIR"
   ]
  },
  {
   "cell_type": "code",
   "execution_count": 9,
   "id": "2ec0e769-a532-4735-906a-ca6249855d16",
   "metadata": {
    "tags": []
   },
   "outputs": [],
   "source": [
    "CUDA = True\n",
    "CUDA_DEVICE = 0\n",
    "USE_TEX = False\n",
    "TESTING_FILE = None\n",
    "\n",
    "# TESTING_SOURCE = \"interpretation\"\n",
    "# GRADIENT = False\n",
    "\n",
    "# TESTING_SOURCE = \"production\"\n",
    "# GRADIENT = False\n",
    "\n",
    "TESTING_SOURCE= \"testing\"\n",
    "GRADIENT = False\n",
    "\n",
    "NETWORK = MaskedRNNSimTrainer"
   ]
  },
  {
   "cell_type": "code",
   "execution_count": 10,
   "id": "a62479fd-b9d5-4a80-b9e6-35440debad89",
   "metadata": {
    "tags": []
   },
   "outputs": [
    {
     "name": "stderr",
     "output_type": "stream",
     "text": [
      "/tmp/ipykernel_15144/2554872926.py:22: FutureWarning: You are using `torch.load` with `weights_only=False` (the current default value), which uses the default pickle module implicitly. It is possible to construct malicious pickle data which will execute arbitrary code during unpickling (See https://github.com/pytorch/pytorch/blob/main/SECURITY.md#untrusted-models for more details). In a future release, the default value for `weights_only` will be flipped to `True`. This limits the functions that could be executed during unpickling. Arbitrary objects will no longer be allowed to be loaded via this mode unless they are explicitly allowlisted by the user via `torch.serialization.add_safe_globals`. We recommend you start setting `weights_only=True` for any use case where you don't have full control of the loaded file. Please open an issue on GitHub for any issues related to this experimental feature.\n",
      "  checkpoint = torch.load(checkpoint_path, map_location='cpu')\n"
     ]
    },
    {
     "name": "stdout",
     "output_type": "stream",
     "text": [
      "Loading from: ../results/mask_rcnn/lightning_logs/version_263/checkpoints/last.ckpt\n",
      "loading training\n",
      "/home/roblesee/dune/hpst/data/sim_data/train\n"
     ]
    },
    {
     "name": "stderr",
     "output_type": "stream",
     "text": [
      "/home/roblesee/dune/hpst/notebooks/../hpst/dataset/bbox_mask_sim_dataset_2d.py:60: FutureWarning: You are using `torch.load` with `weights_only=False` (the current default value), which uses the default pickle module implicitly. It is possible to construct malicious pickle data which will execute arbitrary code during unpickling (See https://github.com/pytorch/pytorch/blob/main/SECURITY.md#untrusted-models for more details). In a future release, the default value for `weights_only` will be flipped to `True`. This limits the functions that could be executed during unpickling. Arbitrary objects will no longer be allowed to be loaded via this mode unless they are explicitly allowlisted by the user via `torch.serialization.add_safe_globals`. We recommend you start setting `weights_only=True` for any use case where you don't have full control of the loaded file. Please open an issue on GitHub for any issues related to this experimental feature.\n",
      "  cache = torch.load(CACHE_FILE)\n"
     ]
    },
    {
     "name": "stdout",
     "output_type": "stream",
     "text": [
      "/home/roblesee/dune/hpst/data/sim_data/train\n",
      "loading testing\n"
     ]
    }
   ],
   "source": [
    "TESTING_FILE = \"/home/roblesee/dune/hpst/data/sim_data/train\"\n",
    "BASE_DIRECTORY =  \"../results/mask_rcnn/lightning_logs/version_263\"\n",
    "CHECKPOINT_PATH = \"../results/mask_rcnn/lightning_logs/version_263/checkpoints/last.ckpt\"\n",
    "\n",
    "# Load checkpoint and add the test file location\n",
    "options = Options.load(f\"{BASE_DIRECTORY}/options.json\")\n",
    "\"\"\"\n",
    "if TESTING_FILE:\n",
    "    options.testing_file = TESTING_FILE\n",
    "else:\n",
    "    options.testing_file = options.training_file.replace(\"training\", TESTING_SOURCE)\n",
    "options.num_dataloader_workers = 0\n",
    "\"\"\"\n",
    "options.training_file = TESTING_FILE\n",
    "\n",
    "if CHECKPOINT_PATH is None:\n",
    "    checkpoints = glob(f\"{BASE_DIRECTORY}/checkpoints/epoch*.ckpt\")\n",
    "    last_checkpoint = np.argmax([int(re.search(\"step=(.*).ckpt\", s)[1]) for s in checkpoints])\n",
    "    checkpoint_path = checkpoints[last_checkpoint]\n",
    "else:\n",
    "    checkpoint_path = CHECKPOINT_PATH\n",
    "checkpoint = torch.load(checkpoint_path, map_location='cpu')\n",
    "state_dict = checkpoint[\"state_dict\"]\n",
    "print(f\"Loading from: {checkpoint_path}\")\n",
    "\n",
    "network = NETWORK(options)\n",
    "network.load_state_dict(state_dict)\n",
    "\n",
    "network = network.eval()\n",
    "\n",
    "if not GRADIENT:\n",
    "    for parameter in network.parameters():\n",
    "        parameter.requires_grad_(False)\n",
    "\n",
    "if CUDA:\n",
    "    network = network.cuda(CUDA_DEVICE)"
   ]
  },
  {
   "cell_type": "code",
   "execution_count": 11,
   "id": "228bacb6-4342-47f6-9cf0-cdc95e6e6e4b",
   "metadata": {
    "tags": []
   },
   "outputs": [],
   "source": [
    "DATASET = network.validation_dataset"
   ]
  },
  {
   "cell_type": "code",
   "execution_count": 12,
   "id": "20a8bfc5-1d70-4e9c-9512-5897b2943a62",
   "metadata": {
    "tags": []
   },
   "outputs": [],
   "source": [
    "DATASET.return_index = True"
   ]
  },
  {
   "cell_type": "code",
   "execution_count": 13,
   "id": "72ebbbea-b9e1-4c0a-8f01-e726ee2ecc6c",
   "metadata": {
    "tags": []
   },
   "outputs": [],
   "source": [
    "dataloader_options = network.dataloader_options\n",
    "dataloader_options[\"pin_memory\"] = False\n",
    "dataloader_options[\"num_workers\"] = 0\n",
    "dataloader_options[\"batch_size\"] = 32\n",
    "dataloader_options[\"drop_last\"] = False\n",
    "\n",
    "test_dataloader = network.dataloader(DATASET, **dataloader_options)"
   ]
  },
  {
   "cell_type": "code",
   "execution_count": 20,
   "id": "fd847ada-8235-4244-89a7-215db4227eb2",
   "metadata": {
    "tags": []
   },
   "outputs": [
    {
     "name": "stderr",
     "output_type": "stream",
     "text": [
      "100%|████████████████████████████████████████████████████████████████| 728/728 [13:32<00:00,  1.12s/it]\n"
     ]
    }
   ],
   "source": [
    "total_coords1 = []\n",
    "total_coords2 = []\n",
    "\n",
    "total_predictions1 = []\n",
    "total_predictions2 = []\n",
    "\n",
    "total_object_predictions1 = []\n",
    "total_object_predictions2 = []\n",
    "\n",
    "\n",
    "total_targets1 = []\n",
    "total_targets2 = []\n",
    "\n",
    "total_object_targets1 = []\n",
    "total_object_targets2 = []\n",
    "\n",
    "total_scores1 = []\n",
    "total_scores2 = []\n",
    "\n",
    "total_batch_idx1 = []\n",
    "total_batch_idx2 = []\n",
    "\n",
    "current_batch1 = 0\n",
    "current_batch2 = 0\n",
    "\n",
    "num_objects = 32\n",
    "\n",
    "total_ids = []\n",
    "for batch_idx, batch in enumerate(tqdm(test_dataloader)):\n",
    "    \n",
    "    if CUDA:\n",
    "        (ids, features_x, targets_x, features_y, targets_y) = batch\n",
    "        ids = ids.cuda(CUDA_DEVICE)\n",
    "        features_x = [b.cuda(CUDA_DEVICE) for b in features_x]\n",
    "        targets_x = [{k: b[k].cuda(CUDA_DEVICE) for k in b} for b in targets_x]\n",
    "\n",
    "        features_y = [b.cuda(CUDA_DEVICE) for b in features_y]\n",
    "        targets_y = [{k: b[k].cuda(CUDA_DEVICE) for k in b} for b in targets_y]\n",
    "        \n",
    "        #batch = [b.cuda(CUDA_DEVICE) for b in batch]\n",
    "    \n",
    "    \n",
    "    \n",
    "    # coordinates1 = torch.nn.functional.pad(coordinates1, (0,1), \"constant\", 0)\n",
    "    # coordinates1[:,-1] = coordinates1[:,1]\n",
    "    # coordinates2 = torch.nn.functional.pad(coordinates2, (0,1), \"constant\", 0)\n",
    "    # coordinates2[:,-1] = coordinates2[:,1]\n",
    "    \n",
    "    output1, output2 = network.forward(features_x, features_y, targets_x, targets_y)\n",
    "\n",
    "    for iter_, (o, t) in enumerate(zip(output1, targets_x)):\n",
    "        #print(o[\"masks\"])\n",
    "        true_object_labels = torch.argmax(t[\"masks\"], axis=0)\n",
    "        mask = true_object_labels != 0\n",
    "        coords = torch.nonzero(mask)\n",
    "        true_object_labels = true_object_labels[mask]\n",
    "        true_labels = t[\"labels\"][true_object_labels]\n",
    "        if o[\"masks\"].shape[0] > 0:\n",
    "            object_predictions = torch.argmax(o[\"masks\"], axis=0)[0, mask]\n",
    "            predictions = o[\"labels\"][object_predictions]\n",
    "\n",
    "            dist = (o[\"masks\"][:, 0, mask] * o[\"scores\"].unsqueeze(1))\n",
    "            ds = dist.sum(axis=0)\n",
    "            dist[:, ds != 0] = dist[:, ds != 0] / ds[ds != 0].unsqueeze(0)\n",
    "            \n",
    "            scores = torch.zeros((dist.shape[-1], 8), device=dist.device)\n",
    "            for i, l in enumerate(o[\"labels\"]):\n",
    "                scores[:, l] += dist[i]\n",
    "            scores[ds == 0, 0] = 1.0\n",
    "        else:\n",
    "            predictions = torch.zeros_like(true_object_labels)\n",
    "            object_predictions = torch.zeros_like(true_object_labels)\n",
    "            scores = torch.zeros((true_object_labels.shape[-1], 8), device=true_object_labels.device)\n",
    "            scores[:, 0] = 1.0\n",
    "\n",
    "        batch = iter_*torch.ones_like(true_object_labels)\n",
    "\n",
    "        total_coords1.append(coords.cpu())\n",
    "    \n",
    "        total_predictions1.append(predictions.cpu())\n",
    "    \n",
    "        total_object_predictions1.append(object_predictions.cpu())\n",
    "    \n",
    "        total_targets1.append(true_labels.cpu())\n",
    "    \n",
    "        total_object_targets1.append(true_object_labels.cpu())\n",
    "    \n",
    "        total_batch_idx1.append(batch + current_batch1 + 1)\n",
    "\n",
    "        total_scores1.append(scores.cpu())\n",
    "        \n",
    "    current_batch1 += len(output1)\n",
    "\n",
    "    for iter_, (o, t) in enumerate(zip(output2, targets_y)):\n",
    "        #print(o[\"masks\"])\n",
    "        true_object_labels = torch.argmax(t[\"masks\"], axis=0)\n",
    "        mask = true_object_labels != 0\n",
    "        coords = torch.nonzero(mask)\n",
    "        true_object_labels = true_object_labels[mask]\n",
    "        true_labels = t[\"labels\"][true_object_labels]\n",
    "        if o[\"masks\"].shape[0] > 0:\n",
    "            object_predictions = torch.argmax(o[\"masks\"], axis=0)[0, mask]\n",
    "            predictions = o[\"labels\"][object_predictions]\n",
    "\n",
    "            dist = (o[\"masks\"][:, 0, mask] * o[\"scores\"].unsqueeze(1))\n",
    "            ds = dist.sum(axis=0)\n",
    "            dist[:, ds != 0] = dist[:, ds != 0] / ds[ds != 0].unsqueeze(0)\n",
    "            \n",
    "            scores = torch.zeros((dist.shape[-1], 8), device=dist.device)\n",
    "            for i, l in enumerate(o[\"labels\"]):\n",
    "                scores[:, l] += dist[i]\n",
    "            scores[ds == 0, 0] = 1.0\n",
    "        else:\n",
    "            predictions = torch.zeros_like(true_object_labels)\n",
    "            object_predictions = torch.zeros_like(true_object_labels)\n",
    "            scores = torch.zeros((true_object_labels.shape[-1], 8), device=true_object_labels.device)\n",
    "            scores[:, 0] = 1.0\n",
    "\n",
    "        batch = iter_*torch.ones_like(true_object_labels)\n",
    "\n",
    "        total_coords2.append(coords.cpu())\n",
    "    \n",
    "        total_predictions2.append(predictions.cpu())\n",
    "    \n",
    "        total_object_predictions2.append(object_predictions.cpu())\n",
    "    \n",
    "        total_targets2.append(true_labels.cpu())\n",
    "    \n",
    "        total_object_targets2.append(true_object_labels.cpu())\n",
    "    \n",
    "        total_batch_idx2.append(batch + current_batch2 + 1)\n",
    "\n",
    "        total_scores2.append(scores.cpu())\n",
    "        \n",
    "    current_batch2 += len(output2)"
   ]
  },
  {
   "cell_type": "code",
   "execution_count": 21,
   "id": "8edfef15-5b95-44bf-808d-bc38ab024931",
   "metadata": {},
   "outputs": [],
   "source": [
    "total_predictions1 = torch.cat(total_predictions1)\n",
    "total_targets1 = torch.cat(total_targets1)\n",
    "total_batch_idx1 = torch.cat(total_batch_idx1)\n",
    "total_coords1 = torch.cat(total_coords1)\n",
    "total_object_predictions1 = torch.cat(total_object_predictions1)\n",
    "total_object_targets1 = torch.cat(total_object_targets1)\n",
    "total_scores1 = torch.cat(total_scores1)\n",
    "\n",
    "total_predictions2 = torch.cat(total_predictions2)\n",
    "total_targets2 = torch.cat(total_targets2)\n",
    "total_batch_idx2 = torch.cat(total_batch_idx2)\n",
    "total_coords2 = torch.cat(total_coords2)\n",
    "total_object_predictions2 = torch.cat(total_object_predictions2)\n",
    "total_object_targets2 = torch.cat(total_object_targets2)\n",
    "total_scores2 = torch.cat(total_scores2)"
   ]
  },
  {
   "cell_type": "code",
   "execution_count": 22,
   "id": "d05e430b-ac60-43fa-96f5-15a232e416d2",
   "metadata": {
    "tags": []
   },
   "outputs": [],
   "source": [
    "unique = torch.cat([total_targets1[:].unique().long()]).unique()"
   ]
  },
  {
   "cell_type": "code",
   "execution_count": 23,
   "id": "0afe934d-95ae-46a6-8a0c-139e28ca6bc3",
   "metadata": {
    "tags": []
   },
   "outputs": [
    {
     "data": {
      "text/plain": [
       "tensor([0, 1, 2, 3, 4, 5, 6, 7])"
      ]
     },
     "execution_count": 23,
     "metadata": {},
     "output_type": "execute_result"
    }
   ],
   "source": [
    "unique"
   ]
  },
  {
   "cell_type": "code",
   "execution_count": 24,
   "id": "b4973494-2dfe-4fc5-b9eb-7c0e0b777392",
   "metadata": {
    "tags": []
   },
   "outputs": [],
   "source": [
    "tp = torch.cat([total_scores1, total_scores2], axis=0)\n",
    "total_targets = torch.cat([total_targets1, total_targets2], axis=0)\n",
    "total_predictions = torch.cat([total_predictions1, total_predictions2], axis=0)\n",
    "total_object_predictions = torch.cat([total_object_predictions1, total_object_predictions2], axis=0)\n",
    "total_batch_idx = torch.cat([total_batch_idx1, total_batch_idx2], axis=0)"
   ]
  },
  {
   "cell_type": "code",
   "execution_count": 25,
   "id": "9f75b346-2ae9-4f91-8079-e821820bf7b1",
   "metadata": {},
   "outputs": [
    {
     "data": {
      "text/plain": [
       "(tensor([2, 2, 2,  ..., 5, 5, 5]), tensor([4, 4, 4,  ..., 6, 6, 6]))"
      ]
     },
     "execution_count": 25,
     "metadata": {},
     "output_type": "execute_result"
    }
   ],
   "source": [
    "total_targets, total_predictions"
   ]
  },
  {
   "cell_type": "code",
   "execution_count": 26,
   "id": "b96af44d-9ac6-4299-ade8-a9fb00785353",
   "metadata": {
    "tags": []
   },
   "outputs": [
    {
     "data": {
      "text/plain": [
       "(torch.Size([27390337, 8]), torch.Size([27390337]))"
      ]
     },
     "execution_count": 26,
     "metadata": {},
     "output_type": "execute_result"
    }
   ],
   "source": [
    "tp.shape, total_targets.shape"
   ]
  },
  {
   "cell_type": "code",
   "execution_count": 27,
   "id": "bfff5576-7716-4ff1-805b-c39bd9398ec3",
   "metadata": {
    "tags": []
   },
   "outputs": [
    {
     "data": {
      "text/plain": [
       "tensor([0, 1, 2, 3, 4, 5, 6, 7])"
      ]
     },
     "execution_count": 27,
     "metadata": {},
     "output_type": "execute_result"
    }
   ],
   "source": [
    "torch.unique(total_targets)"
   ]
  },
  {
   "cell_type": "code",
   "execution_count": 28,
   "id": "e7913d52-0194-46c8-b47b-c95c9543f445",
   "metadata": {},
   "outputs": [
    {
     "data": {
      "text/plain": [
       "tensor([0, 1, 2, 3, 4, 5, 6, 7])"
      ]
     },
     "execution_count": 28,
     "metadata": {},
     "output_type": "execute_result"
    }
   ],
   "source": [
    "torch.unique(total_predictions)"
   ]
  },
  {
   "cell_type": "code",
   "execution_count": null,
   "id": "055253a7-2462-419b-a23c-4978eaedce3e",
   "metadata": {},
   "outputs": [],
   "source": []
  },
  {
   "cell_type": "code",
   "execution_count": 29,
   "id": "c55d23a2-9ff1-4c61-a139-49f47c39e1ed",
   "metadata": {
    "tags": []
   },
   "outputs": [
    {
     "name": "stdout",
     "output_type": "stream",
     "text": [
      "ROC AUC: 0.526\n"
     ]
    }
   ],
   "source": [
    "print(f\"ROC AUC: {roc_auc_score(total_targets, tp/tp.sum(axis=-1,keepdims=True), multi_class='ovr', average='weighted'):.3f}\")"
   ]
  },
  {
   "cell_type": "code",
   "execution_count": 30,
   "id": "f44401c2-5724-4962-9b2b-a919878a84a5",
   "metadata": {
    "tags": []
   },
   "outputs": [],
   "source": [
    "CLASS_NAMES = {\n",
    "    0: \"other\",\n",
    "    1: \"electron\",\n",
    "    2: \"muon\",\n",
    "    3: \"proton\",\n",
    "    4: \"neutron\",\n",
    "    5: \"charged pion\",\n",
    "    6: \"neutral pion\",\n",
    "    7: \"photon\"\n",
    "}"
   ]
  },
  {
   "cell_type": "code",
   "execution_count": 31,
   "id": "7b9be4b7-9976-4032-8c06-1e58c72692ff",
   "metadata": {
    "tags": []
   },
   "outputs": [
    {
     "data": {
      "image/png": "[encoded data removed]",
      "text/plain": [
       "<Figure size 1000x800 with 1 Axes>"
      ]
     },
     "metadata": {},
     "output_type": "display_data"
    }
   ],
   "source": [
    "LABEL_ORDER = total_targets[:].unique()[1:].long()\n",
    "\n",
    "confusion_matrix_pred = metrics.confusion_matrix(\n",
    "    total_targets[:].numpy(), \n",
    "    total_predictions.numpy(), \n",
    "    normalize='true',\n",
    "    labels=LABEL_ORDER\n",
    ")\n",
    "\n",
    "fig, ax = plt.subplots(figsize=(10, 8))\n",
    "display = metrics.ConfusionMatrixDisplay(\n",
    "    confusion_matrix_pred * 100, \n",
    "    display_labels=[CLASS_NAMES[i.item()] for i in LABEL_ORDER]\n",
    ")\n",
    "display.plot(cmap='magma', ax=ax, values_format=\".2f\", colorbar=False)\n",
    "ax.set_xlabel(\"Predicted Label\", labelpad=16)\n",
    "ax.set_ylabel(\"Truth Label\", labelpad=-8)\n",
    "plt.title(\"Efficiency\")\n",
    "plt.tight_layout()"
   ]
  },
  {
   "cell_type": "code",
   "execution_count": 32,
   "id": "041d3440-c0ae-4e08-8c4c-4f399df87fb4",
   "metadata": {
    "tags": []
   },
   "outputs": [
    {
     "data": {
      "image/png": "[encoded data removed]",
      "text/plain": [
       "<Figure size 1000x800 with 1 Axes>"
      ]
     },
     "metadata": {},
     "output_type": "display_data"
    }
   ],
   "source": [
    "LABEL_ORDER = total_targets[:].unique()[1:].long()\n",
    "\n",
    "confusion_matrix_pred = metrics.confusion_matrix(\n",
    "    total_targets[:].numpy(), \n",
    "    total_predictions.numpy(), \n",
    "    normalize='pred',\n",
    "    labels=LABEL_ORDER\n",
    ")\n",
    "\n",
    "fig, ax = plt.subplots(figsize=(10, 8))\n",
    "display = metrics.ConfusionMatrixDisplay(\n",
    "    confusion_matrix_pred * 100, \n",
    "    display_labels=[CLASS_NAMES[i.item()] for i in LABEL_ORDER]\n",
    ")\n",
    "display.plot(cmap='magma', ax=ax, values_format=\".2f\", colorbar=False)\n",
    "ax.set_xlabel(\"Predicted Label\", labelpad=16)\n",
    "ax.set_ylabel(\"Truth Label\", labelpad=-8)\n",
    "plt.title(\"Purity\")\n",
    "plt.tight_layout()"
   ]
  },
  {
   "cell_type": "code",
   "execution_count": 33,
   "id": "5a4d52e2-2f72-4263-82e4-9d20aeef4ef2",
   "metadata": {
    "tags": []
   },
   "outputs": [],
   "source": [
    "from sklearn.metrics import roc_curve, auc"
   ]
  },
  {
   "cell_type": "code",
   "execution_count": 34,
   "id": "dab66407-8bc1-420e-94d2-8d1c801cf73e",
   "metadata": {
    "tags": []
   },
   "outputs": [
    {
     "ename": "NameError",
     "evalue": "name 'total_raws' is not defined",
     "output_type": "error",
     "traceback": [
      "\u001b[0;31m---------------------------------------------------------------------------\u001b[0m",
      "\u001b[0;31mNameError\u001b[0m                                 Traceback (most recent call last)",
      "Cell \u001b[0;32mIn[34], line 7\u001b[0m\n\u001b[1;32m      3\u001b[0m \u001b[38;5;28;01mfor\u001b[39;00m class_index \u001b[38;5;129;01min\u001b[39;00m LABEL_ORDER:\n\u001b[1;32m      4\u001b[0m     class_index \u001b[38;5;241m=\u001b[39m class_index\u001b[38;5;241m.\u001b[39mitem()\n\u001b[1;32m      5\u001b[0m     fpr, tpr, thresholds \u001b[38;5;241m=\u001b[39m roc_curve(\n\u001b[1;32m      6\u001b[0m         total_targets\u001b[38;5;241m.\u001b[39mnumpy()[:],\n\u001b[0;32m----> 7\u001b[0m         \u001b[43mtotal_raws\u001b[49m\u001b[38;5;241m.\u001b[39mnumpy()[:,class_index],\n\u001b[1;32m      8\u001b[0m         pos_label\u001b[38;5;241m=\u001b[39mclass_index\n\u001b[1;32m      9\u001b[0m     )\n\u001b[1;32m     11\u001b[0m     ax\u001b[38;5;241m.\u001b[39mplot(fpr, tpr, label\u001b[38;5;241m=\u001b[39mCLASS_NAMES[class_index])\n\u001b[1;32m     12\u001b[0m     ax\u001b[38;5;241m.\u001b[39mset_xlabel(\u001b[38;5;124m\"\u001b[39m\u001b[38;5;124mFPR\u001b[39m\u001b[38;5;124m\"\u001b[39m)\n",
      "\u001b[0;31mNameError\u001b[0m: name 'total_raws' is not defined"
     ]
    },
    {
     "data": {
      "image/png": "[encoded data removed]",
      "text/plain": [
       "<Figure size 1200x1200 with 1 Axes>"
      ]
     },
     "metadata": {},
     "output_type": "display_data"
    }
   ],
   "source": [
    "fig, ax = plt.subplots(figsize=(12, 12))\n",
    "\n",
    "for class_index in LABEL_ORDER:\n",
    "    class_index = class_index.item()\n",
    "    fpr, tpr, thresholds = roc_curve(\n",
    "        total_targets.numpy()[:],\n",
    "        total_raws.numpy()[:,class_index],\n",
    "        pos_label=class_index\n",
    "    )\n",
    "\n",
    "    ax.plot(fpr, tpr, label=CLASS_NAMES[class_index])\n",
    "    ax.set_xlabel(\"FPR\")\n",
    "    ax.set_ylabel(\"TPR\")\n",
    "\n",
    "ax.set_title(\"OVR ROC\")\n",
    "ax.legend()\n",
    "plt.show()"
   ]
  },
  {
   "cell_type": "code",
   "execution_count": null,
   "id": "83802d9b-ade4-4b2c-9c0b-90cfb8052e1f",
   "metadata": {},
   "outputs": [],
   "source": [
    "skip = 16*30\n",
    "fig, axs = plt.subplots(4, 4, sharex=False, sharey=False, figsize=(4*3, 4*3))\n",
    "for i, ax in enumerate(axs.ravel()):\n",
    "    c = total_coords1[total_batch_idx1 == i+1+skip]\n",
    "    t = total_targets1[total_batch_idx1 == i+1+skip]\n",
    "    ids = int(total_ids[i+1+skip].item())\n",
    "    im = ax.scatter(c[:,2], c[:,0], s=1, vmin=-0.5, vmax=9.5, c=t, cmap=\"tab10\")\n",
    "    # ax.set_title(\"id: %d, unique: %s\" % (ids, str(t[:,0].unique().tolist())))\n",
    "    ax.set_title(\"id: %d\" % (ids))\n",
    "fig.subplots_adjust(right=0.8)\n",
    "cbar_ax = fig.add_axes([0.85, 0.15, 0.05, 0.7])\n",
    "cbar = fig.colorbar(im, cax=cbar_ax)\n",
    "cbar.set_ticks(list(CLASS_NAMES.keys()))\n",
    "cbar.set_ticklabels(list(CLASS_NAMES.values()))\n",
    "plt.suptitle(\"Ground truth XZ view\")\n",
    "plt.show()"
   ]
  },
  {
   "cell_type": "code",
   "execution_count": null,
   "id": "943476d3-cd5b-4a14-a693-01eb14a681a3",
   "metadata": {
    "tags": []
   },
   "outputs": [],
   "source": [
    "skip = 16*30\n",
    "fig, axs = plt.subplots(4, 4, sharex=False, sharey=False, figsize=(4*3, 4*3))\n",
    "for i, ax in enumerate(axs.ravel()):\n",
    "    c = total_coords1[total_batch_idx1 == i+1+skip]\n",
    "    t = total_targets1[total_batch_idx1 == i+1+skip]\n",
    "    im = ax.scatter(c[:,2], c[:,1], s=1, vmin=-0.5, vmax=9.5, c=t, cmap=\"tab10\")\n",
    "    ids = int(total_ids[i+1+skip].item())\n",
    "    # ax.set_title(\"unique: %s\" % str(t[:,0].unique().tolist()))\n",
    "    ax.set_title(\"id: %d\" % (ids))\n",
    "fig.subplots_adjust(right=0.8)\n",
    "cbar_ax = fig.add_axes([0.85, 0.15, 0.05, 0.7])\n",
    "cbar = fig.colorbar(im, cax=cbar_ax)\n",
    "cbar.set_ticks(list(CLASS_NAMES.keys()))\n",
    "cbar.set_ticklabels(list(CLASS_NAMES.values()))\n",
    "plt.suptitle(\"Ground truth YZ view\")\n",
    "plt.show()"
   ]
  },
  {
   "cell_type": "code",
   "execution_count": null,
   "id": "0be1a888-4c71-4a8f-9d66-392887966bbd",
   "metadata": {},
   "outputs": [],
   "source": [
    "skip = 16*30\n",
    "fig, axs = plt.subplots(4, 4, sharex=False, sharey=False, figsize=(4*3, 4*3))\n",
    "for i, ax in enumerate(axs.ravel()):\n",
    "    c = total_coords1[total_batch_idx1 == i+1+skip]\n",
    "    t = total_predictions1[total_batch_idx1 == i+1+skip]\n",
    "    im = ax.scatter(c[:,0], c[:,2], s=1, vmin=-0.5, vmax=9.5, c=t[:], cmap=\"tab10\")\n",
    "    ax.set_title(\"unique: %s\" % str(t[:].unique().tolist()))\n",
    "fig.subplots_adjust(right=0.8)\n",
    "cbar_ax = fig.add_axes([0.85, 0.15, 0.05, 0.7])\n",
    "cbar = fig.colorbar(im, cax=cbar_ax)\n",
    "cbar.set_ticks(list(CLASS_NAMES.keys()))\n",
    "cbar.set_ticklabels(list(CLASS_NAMES.values()))\n",
    "plt.suptitle(\"Predicted segmentations XZ view\")\n",
    "plt.show()"
   ]
  },
  {
   "cell_type": "code",
   "execution_count": null,
   "id": "07022342-7e08-4586-8313-fb0eac497138",
   "metadata": {},
   "outputs": [],
   "source": [
    "skip = 16*30\n",
    "fig, axs = plt.subplots(4, 4, figsize=(4*3, 4*3))\n",
    "for i, ax in enumerate(axs.ravel()):\n",
    "    c = total_coords1[total_batch_idx1 == i+1+skip]\n",
    "    t = total_predictions1[total_batch_idx1 == i+1+skip]\n",
    "    im = ax.scatter(c[:,1], c[:,2], s=1, vmin=-0.5, vmax=9.5, c=t[:], cmap=\"tab10\")\n",
    "    ax.set_title(\"unique: %s\" % str(t[:].unique().tolist()))\n",
    "fig.subplots_adjust(right=0.8)\n",
    "cbar_ax = fig.add_axes([0.85, 0.15, 0.05, 0.7])\n",
    "cbar = fig.colorbar(im, cax=cbar_ax)\n",
    "cbar.set_ticks(list(CLASS_NAMES.keys()))\n",
    "cbar.set_ticklabels(list(CLASS_NAMES.values()))\n",
    "plt.suptitle(\"Predicted segmentations YZ view\")\n",
    "plt.show()"
   ]
  },
  {
   "cell_type": "code",
   "execution_count": null,
   "id": "9aac3969-5fbc-4917-b8a2-1be56022f4b4",
   "metadata": {},
   "outputs": [],
   "source": [
    "data = range(6)\n",
    "data = np.array(total_targets)\n",
    "\n",
    "d = np.diff(np.unique(data)).min()\n",
    "left_of_first_bin = data.min() - float(d)/2\n",
    "right_of_last_bin = data.max() + float(d)/2\n",
    "hist = plt.hist(data, np.arange(left_of_first_bin, right_of_last_bin + d, d))\n",
    "plt.xticks(range(11))\n",
    "plt.show()"
   ]
  },
  {
   "cell_type": "code",
   "execution_count": null,
   "id": "f191ec1d-3413-4aa2-9fd1-b5761804c7ad",
   "metadata": {
    "tags": []
   },
   "outputs": [],
   "source": [
    "total_targets.shape"
   ]
  },
  {
   "cell_type": "markdown",
   "id": "14c3a6fc-f129-463c-bbcf-ed274a5351cb",
   "metadata": {},
   "source": [
    "# Distribution of values"
   ]
  },
  {
   "cell_type": "code",
   "execution_count": null,
   "id": "0cc8eccd-3415-4709-ac57-ff116777fb57",
   "metadata": {
    "tags": []
   },
   "outputs": [],
   "source": [
    "from matplotlib.ticker import MultipleLocator, AutoMinorLocator\n",
    "\n",
    "fig, ax = plt.subplots(figsize=(12, 8))\n",
    "\n",
    "target_class = 1\n",
    "LINEWIDTH = 2.0\n",
    "BINS = 5 * 8\n",
    "\n",
    "binary_scores = tp[:, target_class].numpy()\n",
    "\n",
    "for bin_class in range(1,6):\n",
    "    label = \"Signal\" if bin_class == target_class else \"Background\"\n",
    "        \n",
    "    plt.hist(binary_scores[total_targets == bin_class], histtype='step', bins=BINS, linewidth=LINEWIDTH, label=f\"{CLASS_NAMES[bin_class]} {label}\");\n",
    "\n",
    "plt.yscale(\"log\")\n",
    "plt.yticks(np.concatenate((np.linspace(10**0, 10**1, num=10), np.linspace(10**1, 10**2, num=10), np.linspace(10**2, 10**3, num=10), np.linspace(10**3, 10**4, num=10), np.linspace(10**4, 10**5, num=10))))\n",
    "plt.xticks(np.linspace(0, 1, 21), labels=[\"0.0\", \"\", \"\", \"\", \"0.2\", \"\", \"\", \"\", \"0.4\", \"\", \"\", \"\", \"0.6\", \"\", \"\", \"\", \"0.8\", \"\", \"\", \"\", \"1.0\"])\n",
    "plt.xlim(0, 1)\n",
    "plt.ylim(10**0, 10**8)\n",
    "\n",
    "plt.ylabel(\"Events\")\n",
    "plt.xlabel(f\"Transformer {CLASS_NAMES[target_class]} Score\")\n",
    "plt.legend(loc=\"upper center\")"
   ]
  },
  {
   "cell_type": "code",
   "execution_count": null,
   "id": "5dc1e6d6-ffb2-42d9-9889-ade6c3303535",
   "metadata": {
    "tags": []
   },
   "outputs": [],
   "source": [
    "from matplotlib.ticker import MultipleLocator, AutoMinorLocator\n",
    "\n",
    "fig, ax = plt.subplots(figsize=(12, 8))\n",
    "\n",
    "target_class = 2\n",
    "LINEWIDTH = 2.0\n",
    "BINS = 5 * 8\n",
    "\n",
    "binary_scores = tp[:, target_class].numpy()\n",
    "\n",
    "for bin_class in range(1,6):\n",
    "    label = \"Signal\" if bin_class == target_class else \"Background\"\n",
    "        \n",
    "    plt.hist(binary_scores[total_targets == bin_class], histtype='step', bins=BINS, linewidth=LINEWIDTH, label=f\"{CLASS_NAMES[bin_class]} {label}\");\n",
    "\n",
    "plt.yscale(\"log\")\n",
    "plt.yticks(np.concatenate((np.linspace(10**0, 10**1, num=10), np.linspace(10**1, 10**2, num=10), np.linspace(10**2, 10**3, num=10), np.linspace(10**3, 10**4, num=10), np.linspace(10**4, 10**5, num=10))))\n",
    "plt.xticks(np.linspace(0, 1, 21), labels=[\"0.0\", \"\", \"\", \"\", \"0.2\", \"\", \"\", \"\", \"0.4\", \"\", \"\", \"\", \"0.6\", \"\", \"\", \"\", \"0.8\", \"\", \"\", \"\", \"1.0\"])\n",
    "plt.xlim(0, 1)\n",
    "plt.ylim(10**0, 10**8)\n",
    "\n",
    "plt.ylabel(\"Events\")\n",
    "plt.xlabel(f\"Transformer {CLASS_NAMES[target_class]} Score\")\n",
    "plt.legend(loc=\"upper center\")"
   ]
  },
  {
   "cell_type": "code",
   "execution_count": null,
   "id": "70b3856a-c396-4444-843b-a10836ffff68",
   "metadata": {
    "tags": []
   },
   "outputs": [],
   "source": [
    "from matplotlib.ticker import MultipleLocator, AutoMinorLocator\n",
    "\n",
    "fig, ax = plt.subplots(figsize=(12, 8))\n",
    "\n",
    "target_class = 3\n",
    "LINEWIDTH = 2.0\n",
    "BINS = 5 * 8\n",
    "\n",
    "binary_scores = tp[:, target_class].numpy()\n",
    "\n",
    "for bin_class in range(1,6):\n",
    "    label = \"Signal\" if bin_class == target_class else \"Background\"\n",
    "        \n",
    "    plt.hist(binary_scores[total_targets == bin_class], histtype='step', bins=BINS, linewidth=LINEWIDTH, label=f\"{CLASS_NAMES[bin_class]} {label}\");\n",
    "\n",
    "plt.yscale(\"log\")\n",
    "plt.yticks(np.concatenate((np.linspace(10**0, 10**1, num=10), np.linspace(10**1, 10**2, num=10), np.linspace(10**2, 10**3, num=10), np.linspace(10**3, 10**4, num=10), np.linspace(10**4, 10**5, num=10))))\n",
    "plt.xticks(np.linspace(0, 1, 21), labels=[\"0.0\", \"\", \"\", \"\", \"0.2\", \"\", \"\", \"\", \"0.4\", \"\", \"\", \"\", \"0.6\", \"\", \"\", \"\", \"0.8\", \"\", \"\", \"\", \"1.0\"])\n",
    "plt.xlim(0, 1)\n",
    "plt.ylim(10**0, 10**8)\n",
    "\n",
    "plt.ylabel(\"Events\")\n",
    "plt.xlabel(f\"Transformer {CLASS_NAMES[target_class]} Score\")\n",
    "plt.legend(loc=\"upper center\")"
   ]
  },
  {
   "cell_type": "code",
   "execution_count": null,
   "id": "79b5b62d-ca49-4e72-bdc8-51869b49f27a",
   "metadata": {
    "tags": []
   },
   "outputs": [],
   "source": [
    "from matplotlib.ticker import MultipleLocator, AutoMinorLocator\n",
    "\n",
    "fig, ax = plt.subplots(figsize=(12, 8))\n",
    "\n",
    "target_class = 4\n",
    "LINEWIDTH = 2.0\n",
    "BINS = 5 * 8\n",
    "\n",
    "binary_scores = tp[:, target_class].numpy()\n",
    "\n",
    "for bin_class in range(1,6):\n",
    "    label = \"Signal\" if bin_class == target_class else \"Background\"\n",
    "        \n",
    "    plt.hist(binary_scores[total_targets == bin_class], histtype='step', bins=BINS, linewidth=LINEWIDTH, label=f\"{CLASS_NAMES[bin_class]} {label}\");\n",
    "\n",
    "plt.yscale(\"log\")\n",
    "plt.yticks(np.concatenate((np.linspace(10**0, 10**1, num=10), np.linspace(10**1, 10**2, num=10), np.linspace(10**2, 10**3, num=10), np.linspace(10**3, 10**4, num=10), np.linspace(10**4, 10**5, num=10))))\n",
    "plt.xticks(np.linspace(0, 1, 21), labels=[\"0.0\", \"\", \"\", \"\", \"0.2\", \"\", \"\", \"\", \"0.4\", \"\", \"\", \"\", \"0.6\", \"\", \"\", \"\", \"0.8\", \"\", \"\", \"\", \"1.0\"])\n",
    "plt.xlim(0, 1)\n",
    "plt.ylim(10**0, 10**8)\n",
    "\n",
    "plt.ylabel(\"Events\")\n",
    "plt.xlabel(f\"Transformer {CLASS_NAMES[target_class]} Score\")\n",
    "plt.legend(loc=\"upper center\")"
   ]
  },
  {
   "cell_type": "code",
   "execution_count": null,
   "id": "ab802470-af3f-4943-a0dc-5acb2c5bf703",
   "metadata": {
    "tags": []
   },
   "outputs": [],
   "source": [
    "from matplotlib.ticker import MultipleLocator, AutoMinorLocator\n",
    "\n",
    "fig, ax = plt.subplots(figsize=(12, 8))\n",
    "\n",
    "target_class = 5\n",
    "LINEWIDTH = 2.0\n",
    "BINS = 5 * 8\n",
    "\n",
    "binary_scores = tp[:, target_class].numpy()\n",
    "\n",
    "for bin_class in range(1,6):\n",
    "    label = \"Signal\" if bin_class == target_class else \"Background\"\n",
    "        \n",
    "    plt.hist(binary_scores[total_targets == bin_class], histtype='step', bins=BINS, linewidth=LINEWIDTH, label=f\"{CLASS_NAMES[bin_class]} {label}\");\n",
    "\n",
    "plt.yscale(\"log\")\n",
    "plt.yticks(np.concatenate((np.linspace(10**0, 10**1, num=10), np.linspace(10**1, 10**2, num=10), np.linspace(10**2, 10**3, num=10), np.linspace(10**3, 10**4, num=10), np.linspace(10**4, 10**5, num=10))))\n",
    "plt.xticks(np.linspace(0, 1, 21), labels=[\"0.0\", \"\", \"\", \"\", \"0.2\", \"\", \"\", \"\", \"0.4\", \"\", \"\", \"\", \"0.6\", \"\", \"\", \"\", \"0.8\", \"\", \"\", \"\", \"1.0\"])\n",
    "plt.xlim(0, 1)\n",
    "plt.ylim(10**0, 10**8)\n",
    "\n",
    "plt.ylabel(\"Events\")\n",
    "plt.xlabel(f\"Transformer {CLASS_NAMES[target_class]} Score\")\n",
    "plt.legend(loc=\"upper center\")"
   ]
  },
  {
   "cell_type": "markdown",
   "id": "ff75c446-0431-436d-a168-e2a37899714e",
   "metadata": {},
   "source": [
    "# Per class distribution"
   ]
  },
  {
   "cell_type": "code",
   "execution_count": null,
   "id": "2cfaaa7a-1a73-4c05-8242-5fa2afba3424",
   "metadata": {},
   "outputs": [],
   "source": [
    "from matplotlib.ticker import MultipleLocator, AutoMinorLocator\n",
    "\n",
    "fig, ax = plt.subplots(figsize=(12, 8))\n",
    "\n",
    "target_class = 1\n",
    "LINEWIDTH = 2.0\n",
    "BINS = 5 * 8\n",
    "\n",
    "binary_scores = tp[:, target_class].numpy()\n",
    "\n",
    "for bin_class in range(1,6):\n",
    "    label = \"Signal\" if bin_class == target_class else \"Background\"\n",
    "        \n",
    "    plt.hist(binary_scores[total_targets == bin_class], histtype='step', bins=BINS, linewidth=LINEWIDTH, label=f\"{CLASS_NAMES[bin_class]} {label}\");\n",
    "\n",
    "plt.yscale(\"log\")\n",
    "plt.yticks(np.concatenate((np.linspace(10**0, 10**1, num=10), np.linspace(10**1, 10**2, num=10), np.linspace(10**2, 10**3, num=10), np.linspace(10**3, 10**4, num=10), np.linspace(10**4, 10**5, num=10))))\n",
    "plt.xticks(np.linspace(0, 1, 21), labels=[\"0.0\", \"\", \"\", \"\", \"0.2\", \"\", \"\", \"\", \"0.4\", \"\", \"\", \"\", \"0.6\", \"\", \"\", \"\", \"0.8\", \"\", \"\", \"\", \"1.0\"])\n",
    "plt.xlim(0, 1)\n",
    "plt.ylim(10**0, 10**8)\n",
    "\n",
    "plt.ylabel(\"Events\")\n",
    "plt.xlabel(f\"Transformer {CLASS_NAMES[target_class]} Score\")\n",
    "plt.legend(loc=\"upper center\")"
   ]
  },
  {
   "cell_type": "raw",
   "id": "5941c2c0-71c5-454e-bcc5-3f3eda99d24b",
   "metadata": {},
   "source": [
    "# Other"
   ]
  },
  {
   "cell_type": "code",
   "execution_count": null,
   "id": "e514d255-d0a0-4993-8777-2af85736a849",
   "metadata": {
    "tags": []
   },
   "outputs": [],
   "source": [
    "total_targets.shape"
   ]
  },
  {
   "cell_type": "code",
   "execution_count": null,
   "id": "d642f308-b35d-4fb7-978a-e05418c2ae2e",
   "metadata": {
    "tags": []
   },
   "outputs": [],
   "source": [
    "tp.shape"
   ]
  },
  {
   "cell_type": "code",
   "execution_count": null,
   "id": "64c21ebe-cc02-4d25-bd09-7351d8a2d93d",
   "metadata": {
    "tags": []
   },
   "outputs": [],
   "source": [
    "from matplotlib.ticker import MultipleLocator, AutoMinorLocator\n",
    "\n",
    "fig, ax = plt.subplots(figsize=(12, 8))\n",
    "\n",
    "target_class = 1\n",
    "LINEWIDTH = 2.0\n",
    "BINS = 5 * 8\n",
    "\n",
    "binary_scores = tp[total_targets == target_class].numpy()\n",
    "\n",
    "for bin_class in range(1,6):        \n",
    "    plt.hist(binary_scores[:, bin_class], histtype='step', bins=BINS, linewidth=LINEWIDTH, label=f\"{CLASS_NAMES[bin_class]}\");\n",
    "\n",
    "plt.yscale(\"log\")\n",
    "plt.yticks(np.concatenate((np.linspace(10**0, 10**1, num=10), np.linspace(10**1, 10**2, num=10), np.linspace(10**2, 10**3, num=10), np.linspace(10**3, 10**4, num=10), np.linspace(10**4, 10**5, num=10), np.linspace(10**5, 10**6, num=10), np.linspace(10**6, 10**7, num=10), np.linspace(10**7, 10**8, num=10))))\n",
    "plt.xticks(np.linspace(0, 1, 21), labels=[\"0.0\", \"\", \"\", \"\", \"0.2\", \"\", \"\", \"\", \"0.4\", \"\", \"\", \"\", \"0.6\", \"\", \"\", \"\", \"0.8\", \"\", \"\", \"\", \"1.0\"])\n",
    "plt.xlim(0, 1)\n",
    "plt.ylim(10**0, 10**8)\n",
    "plt.title(f\"Density distribution for {CLASS_NAMES[target_class]}\")\n",
    "plt.ylabel(\"Events\")\n",
    "plt.xlabel(f\"Transformer Score\")\n",
    "plt.legend(loc=\"upper center\")"
   ]
  },
  {
   "cell_type": "code",
   "execution_count": null,
   "id": "2c0fd2e1-e380-46aa-a752-84a61e270183",
   "metadata": {
    "tags": []
   },
   "outputs": [],
   "source": [
    "from matplotlib.ticker import MultipleLocator, AutoMinorLocator\n",
    "\n",
    "fig, ax = plt.subplots(figsize=(12, 8))\n",
    "\n",
    "target_class = 2\n",
    "LINEWIDTH = 2.0\n",
    "BINS = 5 * 8\n",
    "\n",
    "binary_scores = tp[total_targets == target_class].numpy()\n",
    "\n",
    "for bin_class in range(1,6):        \n",
    "    plt.hist(binary_scores[:, bin_class], histtype='step', bins=BINS, linewidth=LINEWIDTH, label=f\"{CLASS_NAMES[bin_class]}\");\n",
    "\n",
    "plt.yscale(\"log\")\n",
    "plt.yticks(np.concatenate((np.linspace(10**0, 10**1, num=10), np.linspace(10**1, 10**2, num=10), np.linspace(10**2, 10**3, num=10), np.linspace(10**3, 10**4, num=10), np.linspace(10**4, 10**5, num=10), np.linspace(10**5, 10**6, num=10), np.linspace(10**6, 10**7, num=10), np.linspace(10**7, 10**8, num=10))))\n",
    "plt.xticks(np.linspace(0, 1, 21), labels=[\"0.0\", \"\", \"\", \"\", \"0.2\", \"\", \"\", \"\", \"0.4\", \"\", \"\", \"\", \"0.6\", \"\", \"\", \"\", \"0.8\", \"\", \"\", \"\", \"1.0\"])\n",
    "plt.xlim(0, 1)\n",
    "plt.ylim(10**0, 10**8)\n",
    "plt.title(f\"Density distribution for {CLASS_NAMES[target_class]}\")\n",
    "plt.ylabel(\"Events\")\n",
    "plt.xlabel(f\"Transformer Score\")\n",
    "plt.legend(loc=\"upper center\")"
   ]
  },
  {
   "cell_type": "code",
   "execution_count": null,
   "id": "309a5daf-3bc0-42ab-89f6-c8a0f8b42423",
   "metadata": {
    "tags": []
   },
   "outputs": [],
   "source": [
    "from matplotlib.ticker import MultipleLocator, AutoMinorLocator\n",
    "\n",
    "fig, ax = plt.subplots(figsize=(12, 8))\n",
    "\n",
    "target_class = 3\n",
    "LINEWIDTH = 2.0\n",
    "BINS = 5 * 8\n",
    "\n",
    "binary_scores = tp[total_targets == target_class].numpy()\n",
    "\n",
    "for bin_class in range(1,6):        \n",
    "    plt.hist(binary_scores[:, bin_class], histtype='step', bins=BINS, linewidth=LINEWIDTH, label=f\"{CLASS_NAMES[bin_class]}\");\n",
    "\n",
    "plt.yscale(\"log\")\n",
    "plt.yticks(np.concatenate((np.linspace(10**0, 10**1, num=10), np.linspace(10**1, 10**2, num=10), np.linspace(10**2, 10**3, num=10), np.linspace(10**3, 10**4, num=10), np.linspace(10**4, 10**5, num=10), np.linspace(10**5, 10**6, num=10), np.linspace(10**6, 10**7, num=10), np.linspace(10**7, 10**8, num=10))))\n",
    "plt.xticks(np.linspace(0, 1, 21), labels=[\"0.0\", \"\", \"\", \"\", \"0.2\", \"\", \"\", \"\", \"0.4\", \"\", \"\", \"\", \"0.6\", \"\", \"\", \"\", \"0.8\", \"\", \"\", \"\", \"1.0\"])\n",
    "plt.xlim(0, 1)\n",
    "plt.ylim(10**0, 10**8)\n",
    "plt.title(f\"Density distribution for {CLASS_NAMES[target_class]}\")\n",
    "plt.ylabel(\"Events\")\n",
    "plt.xlabel(f\"Transformer Score\")\n",
    "plt.legend(loc=\"upper center\")"
   ]
  },
  {
   "cell_type": "code",
   "execution_count": null,
   "id": "d8ad5798-938b-4e10-b1af-3e60762fd806",
   "metadata": {
    "tags": []
   },
   "outputs": [],
   "source": [
    "from matplotlib.ticker import MultipleLocator, AutoMinorLocator\n",
    "\n",
    "fig, ax = plt.subplots(figsize=(12, 8))\n",
    "\n",
    "target_class = 4\n",
    "LINEWIDTH = 2.0\n",
    "BINS = 5 * 8\n",
    "\n",
    "binary_scores = tp[total_targets == target_class].numpy()\n",
    "\n",
    "for bin_class in range(1,6):        \n",
    "    plt.hist(binary_scores[:, bin_class], histtype='step', bins=BINS, linewidth=LINEWIDTH, label=f\"{CLASS_NAMES[bin_class]}\");\n",
    "\n",
    "plt.yscale(\"log\")\n",
    "plt.yticks(np.concatenate((np.linspace(10**0, 10**1, num=10), np.linspace(10**1, 10**2, num=10), np.linspace(10**2, 10**3, num=10), np.linspace(10**3, 10**4, num=10), np.linspace(10**4, 10**5, num=10), np.linspace(10**5, 10**6, num=10), np.linspace(10**6, 10**7, num=10), np.linspace(10**7, 10**8, num=10))))\n",
    "plt.xticks(np.linspace(0, 1, 21), labels=[\"0.0\", \"\", \"\", \"\", \"0.2\", \"\", \"\", \"\", \"0.4\", \"\", \"\", \"\", \"0.6\", \"\", \"\", \"\", \"0.8\", \"\", \"\", \"\", \"1.0\"])\n",
    "plt.xlim(0, 1)\n",
    "plt.ylim(10**0, 10**8)\n",
    "plt.title(f\"Density distribution for {CLASS_NAMES[target_class]}\")\n",
    "plt.ylabel(\"Events\")\n",
    "plt.xlabel(f\"Transformer Score\")\n",
    "plt.legend(loc=\"upper center\")"
   ]
  },
  {
   "cell_type": "code",
   "execution_count": null,
   "id": "3468cba6-9adb-447a-a1a4-8a1b18919df9",
   "metadata": {
    "tags": []
   },
   "outputs": [],
   "source": [
    "from matplotlib.ticker import MultipleLocator, AutoMinorLocator\n",
    "\n",
    "fig, ax = plt.subplots(figsize=(12, 8))\n",
    "\n",
    "target_class = 5\n",
    "LINEWIDTH = 2.0\n",
    "BINS = 5 * 8\n",
    "\n",
    "binary_scores = tp[total_targets == target_class].numpy()\n",
    "\n",
    "for bin_class in range(1,6):        \n",
    "    plt.hist(binary_scores[:, bin_class], histtype='step', bins=BINS, linewidth=LINEWIDTH, label=f\"{CLASS_NAMES[bin_class]}\");\n",
    "\n",
    "plt.yscale(\"log\")\n",
    "plt.yticks(np.concatenate((np.linspace(10**0, 10**1, num=10), np.linspace(10**1, 10**2, num=10), np.linspace(10**2, 10**3, num=10), np.linspace(10**3, 10**4, num=10), np.linspace(10**4, 10**5, num=10), np.linspace(10**5, 10**6, num=10), np.linspace(10**6, 10**7, num=10), np.linspace(10**7, 10**8, num=10))))\n",
    "plt.xticks(np.linspace(0, 1, 21), labels=[\"0.0\", \"\", \"\", \"\", \"0.2\", \"\", \"\", \"\", \"0.4\", \"\", \"\", \"\", \"0.6\", \"\", \"\", \"\", \"0.8\", \"\", \"\", \"\", \"1.0\"])\n",
    "plt.xlim(0, 1)\n",
    "plt.ylim(10**0, 10**8)\n",
    "plt.title(f\"Density distribution for {CLASS_NAMES[target_class]}\")\n",
    "plt.ylabel(\"Events\")\n",
    "plt.xlabel(f\"Transformer Score\")\n",
    "plt.legend(loc=\"upper center\")"
   ]
  },
  {
   "cell_type": "code",
   "execution_count": null,
   "id": "bb74a1fe-7ae3-41fe-975d-9cc042af00cd",
   "metadata": {
    "tags": []
   },
   "outputs": [],
   "source": [
    "total_object_targets1"
   ]
  },
  {
   "cell_type": "code",
   "execution_count": null,
   "id": "5f8076e8-cbac-4554-8b06-30cb18a871ad",
   "metadata": {
    "tags": []
   },
   "outputs": [],
   "source": [
    "total_object_predictions1"
   ]
  },
  {
   "cell_type": "code",
   "execution_count": null,
   "id": "277ae4e6-24c6-42da-8302-29378c5d63aa",
   "metadata": {
    "tags": []
   },
   "outputs": [],
   "source": [
    "fig, axs = plt.subplots(4, 4, sharex=False, sharey=False, figsize=(4*3, 4*3))\n",
    "for i, ax in enumerate(axs.ravel()):\n",
    "    c = total_coords1[total_batch_idx1 == i+1]\n",
    "    t = total_object_targets1[total_batch_idx1 == i+1]\n",
    "    im = ax.scatter(c[:,0], c[:,1], s=1, vmin=-0.5, vmax=9.5, c=t[:], cmap=\"tab10\")\n",
    "    ax.set_title(\"unique: %s\" % str(t[:].unique().tolist()))\n",
    "plt.suptitle(\"GT instance segmentations XZ view\")\n",
    "plt.show()"
   ]
  },
  {
   "cell_type": "code",
   "execution_count": null,
   "id": "5fb67dc7-629b-402d-b1bd-0dffa77ba4ee",
   "metadata": {},
   "outputs": [],
   "source": [
    "fig, axs = plt.subplots(4, 4, sharex=False, sharey=False, figsize=(4*3, 4*3))\n",
    "for i, ax in enumerate(axs.ravel()):\n",
    "    c = total_coords1[total_batch_idx1 == i+1]\n",
    "    t = total_object_predictions1[total_batch_idx1 == i+1]\n",
    "    im = ax.scatter(c[:,0], c[:,1], s=1, vmin=-0.5, vmax=9.5, c=t[:], cmap=\"tab10\")\n",
    "    ax.set_title(\"unique: %s\" % str(t[:].unique().tolist()))\n",
    "plt.suptitle(\"Predicted instance segmentations XZ view\")\n",
    "plt.show()"
   ]
  },
  {
   "cell_type": "code",
   "execution_count": null,
   "id": "a10bc36c-3617-4cc2-b059-61e1042e0d00",
   "metadata": {},
   "outputs": [],
   "source": [
    "skip = 16*0+1\n",
    "fig, axs = plt.subplots(4, 4, sharex=False, sharey=False, figsize=(4*3, 4*3))\n",
    "for i, ax in enumerate(axs.ravel()):\n",
    "    c = total_coords1[total_batch_idx1 == i+skip]\n",
    "    t = total_targets1[total_batch_idx1 == i+skip]\n",
    "    to = total_object_targets1[total_batch_idx1 == i+skip]\n",
    "    toc = plt.cm.Set3(to)\n",
    "    ids = int(total_ids[i+skip].item())\n",
    "    im = ax.scatter(c[:,0], c[:,1], \n",
    "                    s=10, linewidth=-1, marker='s',\n",
    "                    vmin=-0.5, vmax=9.5, \n",
    "                    c=t, edgecolors=toc, \n",
    "                    cmap=\"tab10\")\n",
    "    # ax.set_title(\"id: %d, unique: %s\" % (ids, str(t[:,0].unique().tolist())))\n",
    "    ax.set_title(\"id: %d\" % (ids))\n",
    "fig.subplots_adjust(right=0.8)\n",
    "cbar_ax = fig.add_axes([0.85, 0.15, 0.05, 0.7])\n",
    "cbar = fig.colorbar(im, cax=cbar_ax)\n",
    "cbar.set_ticks(list(CLASS_NAMES.keys()))\n",
    "cbar.set_ticklabels(list(CLASS_NAMES.values()))\n",
    "plt.suptitle(\"Ground truth XZ view\")\n",
    "plt.show()"
   ]
  },
  {
   "cell_type": "code",
   "execution_count": null,
   "id": "a2fa24b9-45df-4e5c-a32f-0668c21528fd",
   "metadata": {},
   "outputs": [],
   "source": [
    "skip = 16*0+1\n",
    "fig, axs = plt.subplots(4, 4, sharex=False, sharey=False, figsize=(4*3, 4*3))\n",
    "for i, ax in enumerate(axs.ravel()):\n",
    "    c = total_coords1[total_batch_idx1 == i+skip]\n",
    "    t = total_predictions1[total_batch_idx1 == i+skip]\n",
    "    to = total_object_predictions1[total_batch_idx1 == i+skip]\n",
    "    toc = plt.cm.Set3(to)\n",
    "    im = ax.scatter(c[:,0], c[:,1], \n",
    "                    s=10, linewidth=-1, marker='s',\n",
    "                    vmin=-0.5, vmax=9.5, \n",
    "                    c=t, edgecolors=toc, \n",
    "                    cmap=\"tab10\")\n",
    "    ax.set_title(\"unique: %s\" % str(t[:].unique().tolist()))\n",
    "fig.subplots_adjust(right=0.8)\n",
    "cbar_ax = fig.add_axes([0.85, 0.15, 0.05, 0.7])\n",
    "cbar = fig.colorbar(im, cax=cbar_ax)\n",
    "cbar.set_ticks(list(CLASS_NAMES.keys()))\n",
    "cbar.set_ticklabels(list(CLASS_NAMES.values()))\n",
    "plt.suptitle(\"Predicted segmentations XZ view\")\n",
    "plt.show()"
   ]
  },
  {
   "cell_type": "code",
   "execution_count": null,
   "id": "8384a14a-e2b5-4962-a778-5bc83b4c50d9",
   "metadata": {},
   "outputs": [],
   "source": [
    "skip = 16*0+1\n",
    "fig, axs = plt.subplots(4, 4, sharex=False, sharey=False, figsize=(4*3, 4*3))\n",
    "for i, ax in enumerate(axs.ravel()):\n",
    "    c = total_coords2[total_batch_idx2 == i+skip]\n",
    "    t = total_targets2[total_batch_idx2 == i+skip]\n",
    "    to = total_object_targets2[total_batch_idx2 == i+skip]\n",
    "    toc = plt.cm.Set3(to)\n",
    "    ids = int(total_ids[i+skip].item())\n",
    "    im = ax.scatter(c[:,0], c[:,1], \n",
    "                    s=10, linewidth=-1, marker='s',\n",
    "                    vmin=-0.5, vmax=9.5, \n",
    "                    c=t, edgecolors=toc, \n",
    "                    cmap=\"tab10\")\n",
    "    # ax.set_title(\"id: %d, unique: %s\" % (ids, str(t[:,0].unique().tolist())))\n",
    "    ax.set_title(\"id: %d\" % (ids))\n",
    "fig.subplots_adjust(right=0.8)\n",
    "cbar_ax = fig.add_axes([0.85, 0.15, 0.05, 0.7])\n",
    "cbar = fig.colorbar(im, cax=cbar_ax)\n",
    "cbar.set_ticks(list(CLASS_NAMES.keys()))\n",
    "cbar.set_ticklabels(list(CLASS_NAMES.values()))\n",
    "plt.suptitle(\"Ground truth YZ view\")\n",
    "plt.show()"
   ]
  },
  {
   "cell_type": "code",
   "execution_count": null,
   "id": "375faecb-087c-42ea-8ed0-b3d343bdbdb2",
   "metadata": {
    "tags": []
   },
   "outputs": [],
   "source": [
    "skip = 16*0+1\n",
    "fig, axs = plt.subplots(4, 4, sharex=False, sharey=False, figsize=(4*3, 4*3))\n",
    "for i, ax in enumerate(axs.ravel()):\n",
    "    c = total_coords2[total_batch_idx2 == i+skip]\n",
    "    t = total_predictions2[total_batch_idx2 == i+skip]\n",
    "    to = total_object_predictions2[total_batch_idx2 == i+skip]\n",
    "    toc = plt.cm.Set3(to)\n",
    "    im = ax.scatter(c[:,0], c[:,1], \n",
    "                    s=10, linewidth=-1, marker='s',\n",
    "                    vmin=-0.5, vmax=9.5, \n",
    "                    c=t, edgecolors=toc, \n",
    "                    cmap=\"tab10\")\n",
    "    ax.set_title(\"unique: %s\" % str(t[:].unique().tolist()))\n",
    "fig.subplots_adjust(right=0.8)\n",
    "cbar_ax = fig.add_axes([0.85, 0.15, 0.05, 0.7])\n",
    "cbar = fig.colorbar(im, cax=cbar_ax)\n",
    "cbar.set_ticks(list(CLASS_NAMES.keys()))\n",
    "cbar.set_ticklabels(list(CLASS_NAMES.values()))\n",
    "plt.suptitle(\"Predicted segmentations YZ view\")\n",
    "plt.show()"
   ]
  },
  {
   "cell_type": "code",
   "execution_count": null,
   "id": "6c84441d-2a5d-4cf3-8726-83da718562d2",
   "metadata": {},
   "outputs": [],
   "source": []
  },
  {
   "cell_type": "code",
   "execution_count": null,
   "id": "52290d67-119c-4a94-bfc6-1caba76b54b6",
   "metadata": {},
   "outputs": [],
   "source": [
    "# debug block\n",
    "\"\"\"\n",
    "from torch_scatter import scatter\n",
    "from scipy.optimize import linear_sum_assignment\n",
    "\n",
    "for batch_idx, batch in enumerate(tqdm(test_dataloader)):\n",
    "    if CUDA:\n",
    "        batch = [b.cuda(CUDA_DEVICE) for b in batch]\n",
    "    \n",
    "    (\n",
    "        ids,\n",
    "        batches1, \n",
    "        features1, \n",
    "        coordinates1, \n",
    "        targets1,\n",
    "        object_targets1,\n",
    "        batches2, \n",
    "        features2,\n",
    "        coordinates2,\n",
    "        targets2,\n",
    "        object_targets2\n",
    "    ) = batch\n",
    "    \n",
    "    # coordinates1 = torch.nn.functional.pad(coordinates1, (0,1), \"constant\", 0)\n",
    "    # coordinates1[:,-1] = coordinates1[:,1]\n",
    "    # coordinates2 = torch.nn.functional.pad(coordinates2, (0,1), \"constant\", 0)\n",
    "    # coordinates2[:,-1] = coordinates2[:,1]\n",
    "    \n",
    "    predictions1, object_predictions1, predictions2, object_predictions2 = network.forward(\n",
    "        features1, coordinates1, batches1, features2, coordinates2, batches2\n",
    "    )\n",
    "    \n",
    "    mask1 = ((targets1 != -1) & (object_targets1 < num_objects))\n",
    "    mask2 = ((targets2 != -1) & (object_targets2 < num_objects))\n",
    "    \n",
    "    logits = torch.cat((object_predictions1[mask1], object_predictions2[mask2]), dim=0)\n",
    "    targets = torch.cat((object_targets1[mask1], object_targets2[mask2]), dim=0)\n",
    "    batches = torch.cat((batches1[mask1], batches2[mask2]), dim=0)\n",
    "    \n",
    "    object_preds = -F.log_softmax(logits, dim=-1)\n",
    "\n",
    "    batch_size = batches.max()\n",
    "    batch_size = batch_size + 1\n",
    "    pre_reshape_cost_matrix = scatter(object_preds, (batches*10)+targets, dim_size=10*batch_size, reduce=\"sum\", dim=0)\n",
    "    \n",
    "    # cost_matrix = cost_matrix.reshape((10, batch_size, -1)).transpose(0,1)\n",
    "    cost_matrix = pre_reshape_cost_matrix.reshape((batch_size, 10, -1))\n",
    "    cpu_cm = cost_matrix.detach().cpu().numpy()\n",
    "    row_inds, col_inds, indices = [], [], []\n",
    "    for i, cm in enumerate(cpu_cm):\n",
    "        print(i)\n",
    "        print(((batches)*10+targets)[batches==i])\n",
    "        print(targets[batches==i])\n",
    "        print(torch.unique(targets[batches==i]))\n",
    "        print(pre_reshape_cost_matrix[(i)*10:(i+1)*10])\n",
    "        print(cm)\n",
    "        \n",
    "        if i == 3: break\n",
    "        \n",
    "        row_ind, col_ind = linear_sum_assignment(cm, maximize=False)\n",
    "        row_ind = torch.from_numpy(row_ind)\n",
    "        col_ind = torch.from_numpy(col_ind)\n",
    "        index = i*torch.ones_like(row_ind)\n",
    "        \n",
    "        print(row_ind, col_ind)\n",
    "        \n",
    "        row_inds.append(row_ind)\n",
    "        col_inds.append(col_ind)\n",
    "        indices.append(index)\n",
    "\n",
    "    #row_inds = torch.cat(row_inds, dim=0).to(cost_matrix.device)\n",
    "    #col_inds = torch.cat(col_inds, dim=0).to(cost_matrix.device)\n",
    "    #indices = torch.cat(indices, dim=0).to(cost_matrix.device)\n",
    "    \n",
    "    break\n",
    "\"\"\";"
   ]
  },
  {
   "cell_type": "code",
   "execution_count": null,
   "id": "f1a57907-0b7e-4126-8456-9223c0777357",
   "metadata": {
    "tags": []
   },
   "outputs": [],
   "source": [
    "fig, axs = plt.subplots(2, 5, sharex=False, sharey=False, figsize=(5*3, 2*3))\n",
    "n = 15\n",
    "for i, ax in enumerate(axs[0]):\n",
    "    c = total_coords1[total_batch_idx1 == n+1]\n",
    "    t = total_probabilities1[total_batch_idx1 == n+1, i+1]\n",
    "    im = ax.scatter(c[:,0], c[:,1], s=1, vmin=0, vmax=1, c=t[:], cmap=\"magma\")\n",
    "    plt.colorbar(im, ax=ax)\n",
    "    ax.set_title(f\"XZ view, {CLASS_NAMES[i+1]}\")\n",
    "    \n",
    "for i, ax in enumerate(axs[1]):\n",
    "    c = total_coords2[total_batch_idx2 == n+1]\n",
    "    t = total_probabilities2[total_batch_idx2 == n+1, i+1]\n",
    "    im = ax.scatter(c[:,0], c[:,1], s=1, vmin=0, vmax=1, c=t[:], cmap=\"magma\")\n",
    "    plt.colorbar(im, ax=ax)\n",
    "    ax.set_title(f\"YZ view, {CLASS_NAMES[i+1]}\")\n",
    "plt.suptitle(\"Predicted segmentations\")\n",
    "plt.show()"
   ]
  },
  {
   "cell_type": "code",
   "execution_count": 16,
   "id": "0487de36-8dc5-4014-a659-1b802cdf5880",
   "metadata": {
    "tags": []
   },
   "outputs": [
    {
     "name": "stderr",
     "output_type": "stream",
     "text": [
      "100%|████████████████████████████████████████████████████████████████| 728/728 [13:33<00:00,  1.12s/it]\n"
     ]
    }
   ],
   "source": [
    "sum_efficiencies = [0]*8\n",
    "n_efficiencies = [0]*8\n",
    "sum_purities = [0]*8\n",
    "n_purities = [0]*8\n",
    "\n",
    "n_corr = 0\n",
    "n_tot = 0\n",
    "for batch_idx, batch in enumerate(tqdm(test_dataloader)):\n",
    "    if CUDA:\n",
    "        (ids, features_x, targets_x, features_y, targets_y) = batch\n",
    "        ids = ids.cuda(CUDA_DEVICE)\n",
    "        features_x = [b.cuda(CUDA_DEVICE) for b in features_x]\n",
    "        targets_x = [{k: b[k].cuda(CUDA_DEVICE) for k in b} for b in targets_x]\n",
    "\n",
    "        features_y = [b.cuda(CUDA_DEVICE) for b in features_y]\n",
    "        targets_y = [{k: b[k].cuda(CUDA_DEVICE) for k in b} for b in targets_y]\n",
    "    \n",
    "    output1, output2 = network.forward(features_x, features_y, targets_x, targets_y)\n",
    "\n",
    "    total_coords1 = []\n",
    "    total_coords2 = []\n",
    "    \n",
    "    total_predictions1 = []\n",
    "    total_predictions2 = []\n",
    "    \n",
    "    total_object_predictions1 = []\n",
    "    total_object_predictions2 = []\n",
    "    \n",
    "    \n",
    "    total_targets1 = []\n",
    "    total_targets2 = []\n",
    "    \n",
    "    total_object_targets1 = []\n",
    "    total_object_targets2 = []\n",
    "    \n",
    "    total_scores1 = []\n",
    "    total_scores2 = []\n",
    "    \n",
    "    total_batch_idx1 = []\n",
    "    total_batch_idx2 = []\n",
    "    \n",
    "    current_batch1 = 0\n",
    "    current_batch2 = 0\n",
    "    \n",
    "    \n",
    "    for iter_, (o, t) in enumerate(zip(output1, targets_x)):\n",
    "        #print(o[\"masks\"])\n",
    "        true_object_labels = torch.argmax(t[\"masks\"], axis=0)\n",
    "        mask = true_object_labels != 0\n",
    "        coords = torch.nonzero(mask)\n",
    "        true_object_labels = true_object_labels[mask]\n",
    "        true_labels = t[\"labels\"][true_object_labels]\n",
    "        if o[\"masks\"].shape[0] > 0:\n",
    "            object_predictions = torch.argmax(o[\"masks\"], axis=0)[0, mask]\n",
    "            predictions = o[\"labels\"][object_predictions]\n",
    "\n",
    "            dist = (o[\"masks\"][:, 0, mask] * o[\"scores\"].unsqueeze(1))\n",
    "            ds = dist.sum(axis=0)\n",
    "            dist[:, ds != 0] = dist[:, ds != 0] / ds[ds != 0].unsqueeze(0)\n",
    "            \n",
    "            scores = torch.zeros((dist.shape[-1], 8), device=dist.device)\n",
    "            for i, l in enumerate(o[\"labels\"]):\n",
    "                scores[:, l] += dist[i]\n",
    "            scores[ds == 0, 0] = 1.0\n",
    "        else:\n",
    "            predictions = torch.zeros_like(true_object_labels)\n",
    "            object_predictions = torch.zeros_like(true_object_labels)\n",
    "            scores = torch.zeros((true_object_labels.shape[-1], 8), device=true_object_labels.device)\n",
    "            scores[:, 0] = 1.0\n",
    "\n",
    "        batch = iter_*torch.ones_like(true_object_labels)\n",
    "\n",
    "        total_coords1.append(coords)\n",
    "    \n",
    "        total_predictions1.append(predictions)\n",
    "    \n",
    "        total_object_predictions1.append(object_predictions)\n",
    "    \n",
    "        total_targets1.append(true_labels)\n",
    "    \n",
    "        total_object_targets1.append(true_object_labels)\n",
    "    \n",
    "        total_batch_idx1.append(batch)\n",
    "\n",
    "        total_scores1.append(scores)\n",
    "        \n",
    "    current_batch1 += len(output1)\n",
    "\n",
    "    for iter_, (o, t) in enumerate(zip(output2, targets_y)):\n",
    "        #print(o[\"masks\"])\n",
    "        true_object_labels = torch.argmax(t[\"masks\"], axis=0)\n",
    "        mask = true_object_labels != 0\n",
    "        coords = torch.nonzero(mask)\n",
    "        true_object_labels = true_object_labels[mask]\n",
    "        true_labels = t[\"labels\"][true_object_labels]\n",
    "        if o[\"masks\"].shape[0] > 0:\n",
    "            object_predictions = torch.argmax(o[\"masks\"], axis=0)[0, mask]\n",
    "            predictions = o[\"labels\"][object_predictions]\n",
    "\n",
    "            dist = (o[\"masks\"][:, 0, mask] * o[\"scores\"].unsqueeze(1))\n",
    "            ds = dist.sum(axis=0)\n",
    "            dist[:, ds != 0] = dist[:, ds != 0] / ds[ds != 0].unsqueeze(0)\n",
    "            \n",
    "            scores = torch.zeros((dist.shape[-1], 8), device=dist.device)\n",
    "            for i, l in enumerate(o[\"labels\"]):\n",
    "                scores[:, l] += dist[i]\n",
    "            scores[ds == 0, 0] = 1.0\n",
    "        else:\n",
    "            predictions = torch.zeros_like(true_object_labels)\n",
    "            object_predictions = torch.zeros_like(true_object_labels)\n",
    "            scores = torch.zeros((true_object_labels.shape[-1], 8), device=true_object_labels.device)\n",
    "            scores[:, 0] = 1.0\n",
    "\n",
    "        batch = iter_*torch.ones_like(true_object_labels)\n",
    "\n",
    "        total_coords2.append(coords)\n",
    "    \n",
    "        total_predictions2.append(predictions)\n",
    "    \n",
    "        total_object_predictions2.append(object_predictions)\n",
    "    \n",
    "        total_targets2.append(true_labels)\n",
    "    \n",
    "        total_object_targets2.append(true_object_labels)\n",
    "    \n",
    "        total_batch_idx2.append(batch)\n",
    "\n",
    "        total_scores2.append(scores)\n",
    "    \n",
    "    num_objects = 100\n",
    "\n",
    "    predictions1 = torch.cat(total_predictions1 + total_predictions2)\n",
    "    targets1 = torch.cat(total_targets1 + total_targets2)\n",
    "    batch_idx1 = torch.cat(total_batch_idx1 + total_batch_idx2)\n",
    "    coords1 = torch.cat(total_coords1 + total_coords2)\n",
    "    object_predictions1 = torch.cat(total_object_predictions1 + total_object_predictions2)\n",
    "    object_targets1 = torch.cat(total_object_targets1 + total_object_targets2)\n",
    "    scores1 = torch.cat(total_scores1 + total_scores2)\n",
    "    \n",
    "    mask1 = ((targets1 != -1) & (object_targets1 != -1) & (object_targets1 < num_objects))\n",
    "    #mask2 = ((targets2 != -1) & (object_targets2 != -1) & (object_targets2 < 10))\n",
    "    \n",
    "    #logits = scores1 #[mask1] #torch.cat((object_predictions1[mask1], object_predictions2[mask2]), dim=0)\n",
    "    targets = object_targets1[mask1] #torch.cat((object_targets1[mask1], object_targets2[mask2]), dim=0)\n",
    "    batches = batch_idx1[mask1] #torch.cat((batches1[mask1], batches2[mask2]), dim=0)\n",
    "\n",
    "    object_preds = object_predictions1[mask1]\n",
    "    object_preds = F.one_hot(object_preds, num_classes=num_objects)\n",
    "    \n",
    "    batch_size = batches.max()\n",
    "    batch_size = batch_size + 1\n",
    "    \n",
    "    \n",
    "\n",
    "    pre_reshape_cost_matrix = scatter(object_preds, (batches*num_objects)+targets, dim_size=num_objects*batch_size, reduce=\"sum\", dim=0)\n",
    "    n_predictions_per_prong = scatter(object_preds, batches, dim_size=batch_size, reduce=\"sum\", dim=0) # -> (batch_size, 10) this 10 belongs to the column\n",
    "    n_true_per_prong = scatter(F.one_hot(targets, num_classes=num_objects), batches, dim_size=batch_size, reduce=\"sum\", dim=0) # -> (batch_size, 10) this 10 belongs to the rows\n",
    "    batch_target = scatter(targets, (batches*num_objects)+targets, dim_size=num_objects*batch_size, reduce=\"mean\", dim=0)\n",
    "    \n",
    "    # cost_matrix = cost_matrix.reshape((10, batch_size, -1)).transpose(0,1)\n",
    "    cost_matrix = pre_reshape_cost_matrix.reshape((batch_size, num_objects, -1)) # (batch_size, 10, 10)\n",
    "    cpu_cm = cost_matrix.detach().cpu().numpy()\n",
    "    row_inds, col_inds, indices = [], [], []\n",
    "    for i, cm in enumerate(cpu_cm):\n",
    "        row_ind, col_ind = linear_sum_assignment(cm, maximize=True)\n",
    "        row_ind = torch.from_numpy(row_ind)\n",
    "        col_ind = torch.from_numpy(col_ind)\n",
    "        index = i*torch.ones_like(row_ind)\n",
    "        \n",
    "        row_inds.append(row_ind)\n",
    "        col_inds.append(col_ind)\n",
    "        indices.append(index)\n",
    "\n",
    "    row_inds = torch.cat(row_inds, dim=0).to(cost_matrix.device)\n",
    "    col_inds = torch.cat(col_inds, dim=0).to(cost_matrix.device)\n",
    "    indices = torch.cat(indices, dim=0).to(cost_matrix.device)\n",
    "    \n",
    "    effs = cost_matrix[indices, row_inds, col_inds]/n_true_per_prong[indices, row_inds]\n",
    "    purs = cost_matrix[indices, row_inds, col_inds]/n_predictions_per_prong[indices, col_inds]\n",
    "    n_corr += cost_matrix[indices, row_inds, col_inds].sum()\n",
    "    n_tot += n_predictions_per_prong[indices, col_inds].sum()\n",
    "    \n",
    "    for i in range(8):\n",
    "        ieffs = effs[batch_target == i]\n",
    "        n_efficiencies[i] += torch.isfinite(ieffs).sum()\n",
    "        sum_efficiencies[i] += ieffs[torch.isfinite(ieffs)].sum()\n",
    "        ipurs = purs[batch_target == i]\n",
    "        n_purities[i] += torch.isfinite(ipurs).sum()\n",
    "        sum_purities[i] += ipurs[torch.isfinite(ipurs)].sum()\n"
   ]
  },
  {
   "cell_type": "code",
   "execution_count": 17,
   "id": "d22af3d7-9fe2-4349-b13d-e55f9539c79d",
   "metadata": {
    "tags": []
   },
   "outputs": [
    {
     "name": "stdout",
     "output_type": "stream",
     "text": [
      "Prong accuracy: 0.517\n"
     ]
    }
   ],
   "source": [
    "print(\"Prong accuracy: %.03f\" % (n_corr/n_tot))"
   ]
  },
  {
   "cell_type": "code",
   "execution_count": 18,
   "id": "2aaf43a7-7a02-433e-bf18-5bd9eaf70349",
   "metadata": {
    "tags": []
   },
   "outputs": [],
   "source": [
    "sum_efficiencies = torch.tensor(sum_efficiencies)\n",
    "n_efficiencies = torch.tensor(n_efficiencies)\n",
    "sum_purities = torch.tensor(sum_purities)\n",
    "n_purities = torch.tensor(n_purities)"
   ]
  },
  {
   "cell_type": "code",
   "execution_count": 19,
   "id": "016f2cbf-9f59-4e23-b515-64d1e7d4e195",
   "metadata": {
    "tags": []
   },
   "outputs": [
    {
     "ename": "NameError",
     "evalue": "name 'CLASS_NAMES' is not defined",
     "output_type": "error",
     "traceback": [
      "\u001b[0;31m---------------------------------------------------------------------------\u001b[0m",
      "\u001b[0;31mNameError\u001b[0m                                 Traceback (most recent call last)",
      "Cell \u001b[0;32mIn[19], line 2\u001b[0m\n\u001b[1;32m      1\u001b[0m \u001b[38;5;28;01mfor\u001b[39;00m i \u001b[38;5;129;01min\u001b[39;00m \u001b[38;5;28mrange\u001b[39m(\u001b[38;5;241m8\u001b[39m):\n\u001b[0;32m----> 2\u001b[0m     \u001b[38;5;28mprint\u001b[39m(\u001b[43mCLASS_NAMES\u001b[49m[i])\n\u001b[1;32m      3\u001b[0m     \u001b[38;5;28mprint\u001b[39m(\u001b[38;5;124m\"\u001b[39m\u001b[38;5;124mEfficiency: \u001b[39m\u001b[38;5;124m\"\u001b[39m, (sum_efficiencies[i]\u001b[38;5;241m/\u001b[39mn_efficiencies[i])\u001b[38;5;241m.\u001b[39mitem())\n\u001b[1;32m      4\u001b[0m     \u001b[38;5;28mprint\u001b[39m(\u001b[38;5;124m\"\u001b[39m\u001b[38;5;124mPurity: \u001b[39m\u001b[38;5;124m\"\u001b[39m, (sum_purities[i]\u001b[38;5;241m/\u001b[39mn_purities[i])\u001b[38;5;241m.\u001b[39mitem())\n",
      "\u001b[0;31mNameError\u001b[0m: name 'CLASS_NAMES' is not defined"
     ]
    }
   ],
   "source": [
    "for i in range(8):\n",
    "    print(CLASS_NAMES[i])\n",
    "    print(\"Efficiency: \", (sum_efficiencies[i]/n_efficiencies[i]).item())\n",
    "    print(\"Purity: \", (sum_purities[i]/n_purities[i]).item())"
   ]
  },
  {
   "cell_type": "code",
   "execution_count": null,
   "id": "e7e2dac4-0f6b-479f-b2b5-28edbf23eaf5",
   "metadata": {
    "tags": []
   },
   "outputs": [],
   "source": [
    "from torch_scatter import scatter\n",
    "from scipy.optimize import linear_sum_assignment\n",
    "\n",
    "sum_efficiencies = [[] for _ in range(6)]\n",
    "n_efficiencies = [[] for _ in range(6)]\n",
    "sum_purities = [[] for _ in range(6)]\n",
    "n_purities = [[] for _ in range(6)]\n",
    "n_trues = [[] for _ in range(6)]\n",
    "n_predicteds = [[] for _ in range(6)]\n",
    "\n",
    "for batch_idx, batch in enumerate(tqdm(test_dataloader)): \n",
    "    if CUDA:\n",
    "        (ids, features_x, targets_x, features_y, targets_y) = batch\n",
    "        ids = ids.cuda(CUDA_DEVICE)\n",
    "        features_x = [b.cuda(CUDA_DEVICE) for b in features_x]\n",
    "        targets_x = [{k: b[k].cuda(CUDA_DEVICE) for k in b} for b in targets_x]\n",
    "\n",
    "        features_y = [b.cuda(CUDA_DEVICE) for b in features_y]\n",
    "        targets_y = [{k: b[k].cuda(CUDA_DEVICE) for k in b} for b in targets_y]\n",
    "        \n",
    "    output1, output2 = network.forward(features_x, features_y, targets_x, targets_y)\n",
    "\n",
    "    for i, (o, t) in enumerate(zip(output1, targets_x)):\n",
    "        #print(o[\"masks\"])\n",
    "        true_object_labels = torch.argmax(t[\"masks\"], axis=0)\n",
    "        mask = true_object_labels != 0\n",
    "        coords = torch.nonzero(mask)\n",
    "        true_object_labels = true_object_labels[mask]-1\n",
    "        true_labels = t[\"labels\"][true_object_labels]\n",
    "        if o[\"masks\"].shape[0] > 0:\n",
    "            object_predictions = torch.argmax(o[\"masks\"], axis=0)[0, mask]\n",
    "            predictions = o[\"labels\"][object_predictions]\n",
    "\n",
    "            dist = (o[\"masks\"][:, 0, mask] * o[\"scores\"].unsqueeze(1))\n",
    "            ds = dist.sum(axis=0)\n",
    "            dist[:, ds != 0] = dist[:, ds != 0] / ds[ds != 0].unsqueeze(0)\n",
    "            \n",
    "            scores = torch.zeros((dist.shape[-1], 8), device=dist.device)\n",
    "            for i, l in enumerate(o[\"labels\"]):\n",
    "                scores[:, l] += dist[i]\n",
    "            scores[ds == 0, 0] = 1.0\n",
    "        else:\n",
    "            predictions = torch.zeros_like(true_object_labels)\n",
    "            object_predictions = torch.zeros_like(true_object_labels)\n",
    "            scores = torch.zeros((true_object_labels.shape[-1], 8), device=true_object_labels.device)\n",
    "            scores[:, 0] = 1.0\n",
    "    \n",
    "    logits = torch.cat((object_predictions1[mask1], object_predictions2[mask2]), dim=0)\n",
    "    class_targets = torch.cat((targets1[mask1], targets2[mask2]), dim=0)\n",
    "    targets = torch.cat((object_targets1[mask1], object_targets2[mask2]), dim=0)\n",
    "    batches = torch.cat((batches1[mask1], batches2[mask2]), dim=0)\n",
    "    \n",
    "    _, object_preds = torch.max(logits, dim=-1)\n",
    "    object_preds = F.one_hot(object_preds, num_classes=10)\n",
    "    \n",
    "    batch_size = batches.max()\n",
    "    batch_size = batch_size + 1\n",
    "    pre_reshape_cost_matrix = scatter(object_preds, (batches*10)+targets, dim_size=10*batch_size, reduce=\"sum\", dim=0)\n",
    "    n_predictions_per_prong = scatter(object_preds, batches, dim_size=batch_size, reduce=\"sum\", dim=0) # -> (batch_size, 10) this 10 belongs to the column\n",
    "    n_true_per_prong = scatter(F.one_hot(targets, num_classes=10), batches, dim_size=batch_size, reduce=\"sum\", dim=0) # -> (batch_size, 10) this 10 belongs to the rows\n",
    "    batch_target = scatter(class_targets, (batches*10)+targets, dim_size=10*batch_size, reduce=\"mean\", dim=0)\n",
    "    \n",
    "    # cost_matrix = cost_matrix.reshape((10, batch_size, -1)).transpose(0,1)\n",
    "    cost_matrix = pre_reshape_cost_matrix.reshape((batch_size, 10, -1)) # (batch_size, 10, 10)\n",
    "    cpu_cm = cost_matrix.detach().cpu().numpy()\n",
    "    row_inds, col_inds, indices = [], [], []\n",
    "    for i, cm in enumerate(cpu_cm):\n",
    "        row_ind, col_ind = linear_sum_assignment(cm, maximize=True)\n",
    "        row_ind = torch.from_numpy(row_ind)\n",
    "        col_ind = torch.from_numpy(col_ind)\n",
    "        index = i*torch.ones_like(row_ind)\n",
    "        \n",
    "        row_inds.append(row_ind)\n",
    "        col_inds.append(col_ind)\n",
    "        indices.append(index)\n",
    "\n",
    "    row_inds = torch.cat(row_inds, dim=0).to(cost_matrix.device)\n",
    "    col_inds = torch.cat(col_inds, dim=0).to(cost_matrix.device)\n",
    "    indices = torch.cat(indices, dim=0).to(cost_matrix.device)\n",
    "    \n",
    "    effs = cost_matrix[indices, row_inds, col_inds].to(float)/n_true_per_prong[indices, row_inds].to(float)\n",
    "    purs = cost_matrix[indices, row_inds, col_inds].to(float)/n_predictions_per_prong[indices, col_inds].to(float)\n",
    "    \n",
    "    for i in range(6):\n",
    "        ntrues = n_true_per_prong[indices, row_inds][batch_target == i]\n",
    "        npredicteds = n_predictions_per_prong[indices, col_inds][batch_target == i]\n",
    "        \n",
    "        ieffs = effs[batch_target == i]\n",
    "        ipurs = purs[batch_target == i]\n",
    "        mask = torch.isfinite(ieffs) & torch.isfinite(ipurs)\n",
    "        sum_efficiencies[i].append(ieffs[mask].detach().cpu())\n",
    "        sum_purities[i].append(ipurs[mask].detach().cpu())\n",
    "        n_trues[i].append(ntrues[mask].detach().cpu())\n",
    "        n_predicteds[i].append(npredicteds[mask].detach().cpu())"
   ]
  },
  {
   "cell_type": "markdown",
   "id": "06fd307e-f148-4446-b0ba-0db53badfe23",
   "metadata": {
    "tags": []
   },
   "source": [
    "from torch_scatter import scatter\n",
    "from scipy.optimize import linear_sum_assignment\n",
    "\n",
    "for batch_idx, batch in enumerate(tqdm(test_dataloader)):\n",
    "    if CUDA:\n",
    "        batch = [b.cuda(CUDA_DEVICE) for b in batch]\n",
    "    \n",
    "    (\n",
    "        ids,\n",
    "        batches1, \n",
    "        features1, \n",
    "        coordinates1, \n",
    "        targets1,\n",
    "        object_targets1,\n",
    "        batches2, \n",
    "        features2,\n",
    "        coordinates2,\n",
    "        targets2,\n",
    "        object_targets2\n",
    "    ) = batch\n",
    "    \n",
    "    # coordinates1 = torch.nn.functional.pad(coordinates1, (0,1), \"constant\", 0)\n",
    "    # coordinates1[:,-1] = coordinates1[:,1]\n",
    "    # coordinates2 = torch.nn.functional.pad(coordinates2, (0,1), \"constant\", 0)\n",
    "    # coordinates2[:,-1] = coordinates2[:,1]\n",
    "    \n",
    "    predictions1, object_predictions1, predictions2, object_predictions2 = network.forward(\n",
    "        features1, coordinates1, batches1, features2, coordinates2, batches2\n",
    "    )\n",
    "    \n",
    "    mask1 = ((targets1 != -1) & (object_targets1 != -1) & (object_targets1 < 10))\n",
    "    mask2 = ((targets2 != -1) & (object_targets2 != -1) & (object_targets2 < 10))\n",
    "    \n",
    "    logits = torch.cat((object_predictions1[mask1], object_predictions2[mask2]), dim=0)\n",
    "    class_targets = torch.cat((targets1[mask1], targets2[mask2]), dim=0)\n",
    "    targets = torch.cat((object_targets1[mask1], object_targets2[mask2]), dim=0)\n",
    "    batches = torch.cat((batches1[mask1], batches2[mask2]), dim=0)\n",
    "    \n",
    "    _, object_preds = torch.max(logits, dim=-1)\n",
    "    object_preds = F.one_hot(object_preds, num_classes=10)\n",
    "    \n",
    "    batch_size = batches.max()\n",
    "    batch_size = batch_size + 1\n",
    "    pre_reshape_cost_matrix = scatter(object_preds, (batches*10)+targets, dim_size=10*batch_size, reduce=\"sum\", dim=0)\n",
    "    n_predictions_per_prong = scatter(object_preds, batches, dim_size=batch_size, reduce=\"sum\", dim=0) # -> (batch_size, 10) this 10 belongs to the column\n",
    "    n_true_per_prong = scatter(F.one_hot(targets, num_classes=10), batches, dim_size=batch_size, reduce=\"sum\", dim=0) # -> (batch_size, 10) this 10 belongs to the rows\n",
    "    batch_target = scatter(class_targets, (batches*10)+targets, dim_size=10*batch_size, reduce=\"mean\", dim=0)\n",
    "    \n",
    "    # cost_matrix = cost_matrix.reshape((10, batch_size, -1)).transpose(0,1)\n",
    "    cost_matrix = pre_reshape_cost_matrix.reshape((batch_size, 10, -1)) # (batch_size, 10, 10)\n",
    "    cpu_cm = cost_matrix.detach().cpu().numpy()\n",
    "    row_inds, col_inds, indices = [], [], []\n",
    "    for i, cm in enumerate(cpu_cm):\n",
    "        row_ind, col_ind = linear_sum_assignment(cm, maximize=True)\n",
    "        row_ind = torch.from_numpy(row_ind)\n",
    "        col_ind = torch.from_numpy(col_ind)\n",
    "        index = i*torch.ones_like(row_ind)\n",
    "        \n",
    "        row_inds.append(row_ind)\n",
    "        col_inds.append(col_ind)\n",
    "        indices.append(index)\n",
    "\n",
    "    row_inds = torch.cat(row_inds, dim=0).to(cost_matrix.device)\n",
    "    col_inds = torch.cat(col_inds, dim=0).to(cost_matrix.device)\n",
    "    indices = torch.cat(indices, dim=0).to(cost_matrix.device)\n",
    "    \n",
    "    localmask=indices==12\n",
    "    effs = cost_matrix[indices[localmask], row_inds[localmask], col_inds[localmask]].to(float)/n_true_per_prong[indices[localmask], row_inds[localmask]].to(float)\n",
    "    purs = cost_matrix[indices, row_inds, col_inds].to(float)/n_predictions_per_prong[indices, col_inds].to(float)\n",
    "    print(ids[indices[localmask]])\n",
    "    print(cost_matrix[indices[localmask], row_inds[localmask], col_inds[localmask]].to(float))\n",
    "    # print(cost_matrix[indices[localmask], row_inds[localmask], col_inds[localmask]].to(float).sum())\n",
    "    print(n_true_per_prong[indices[localmask], row_inds[localmask]].to(float))\n",
    "    # print(n_true_per_prong[indices[localmask], row_inds[localmask]].to(float).sum())\n",
    "    print([CLASS_NAMES[t.item()] for t in batch_target[localmask]])\n",
    "    print(effs)\n",
    "    \n",
    "    for i in range(6):\n",
    "        ieffs = effs[batch_target == i]\n",
    "        ipurs = purs[batch_target == i]\n",
    "        mask = torch.isfinite(ieffs) & torch.isfinite(ipurs)\n",
    "        sum_efficiencies[i].append(ieffs[mask].detach().cpu())\n",
    "        print(ieffs.detach().cpu())\n",
    "        asdsf\n",
    "        sum_purities[i].append(ipurs[mask].detach().cpu())"
   ]
  },
  {
   "cell_type": "code",
   "execution_count": null,
   "id": "7226d3dd-f4f3-40e3-8971-cca0460af0a2",
   "metadata": {
    "tags": []
   },
   "outputs": [],
   "source": [
    "fig, axs = plt.subplots(2,3,figsize=(3*4, 2*4))\n",
    "for i in range(6):\n",
    "    ax = axs.ravel()[i]\n",
    "    name = CLASS_NAMES[i]\n",
    "    efficiencies = torch.cat(sum_efficiencies[i])\n",
    "    mean_eff = efficiencies.mean()\n",
    "    ax.set_title(f\"Efficiency distribution of class {name}\")\n",
    "    ax.set_xlabel(\"Efficiency\")\n",
    "    ax.set_ylabel(\"Count\")\n",
    "    ax.hist(efficiencies.numpy(), bins=100, histtype='step')\n",
    "    ax.vlines(mean_eff, 0, 1, linestyles='dashed', label=f\"mean eff=%.02f\"%mean_eff)\n",
    "    ax.legend()\n",
    "plt.tight_layout()\n",
    "plt.show()"
   ]
  },
  {
   "cell_type": "code",
   "execution_count": null,
   "id": "4d7d40d9-0dd0-4c7d-bb26-8a31672195a4",
   "metadata": {
    "tags": []
   },
   "outputs": [],
   "source": [
    "fig, axs = plt.subplots(2,3,figsize=(3*4, 2*4))\n",
    "for i in range(6):\n",
    "    ax = axs.ravel()[i]\n",
    "    name = CLASS_NAMES[i]\n",
    "    purities = torch.cat(sum_purities[i])\n",
    "    mean_pur = purities.mean()\n",
    "    ax.set_title(f\"Purity distribution of class {name}\")\n",
    "    ax.set_xlabel(\"Purity\")\n",
    "    ax.set_ylabel(\"Count\")\n",
    "    ax.hist(purities.numpy(), bins=100, histtype='step')\n",
    "    ax.vlines(mean_eff, 0, 1, linestyles='dashed', label=f\"mean pur=%.02f\"%mean_pur)\n",
    "    ax.legend()\n",
    "plt.tight_layout()\n",
    "plt.show()"
   ]
  },
  {
   "cell_type": "code",
   "execution_count": null,
   "id": "f5210934-4d32-43c7-babf-89532110351e",
   "metadata": {
    "tags": []
   },
   "outputs": [],
   "source": [
    "fig, axs = plt.subplots(2,3,figsize=(3*4, 2*4))\n",
    "for i in range(6):\n",
    "    ax = axs.ravel()[i]\n",
    "    name = CLASS_NAMES[i]\n",
    "    efficiencies = torch.cat(sum_efficiencies[i]).numpy()\n",
    "    nt = torch.cat(n_trues[i]).detach().cpu().numpy()\n",
    "    mean_eff = efficiencies[nt>=3].mean()\n",
    "    ax.set_title(f\"Efficiency distribution of class {name}\")\n",
    "    ax.set_xlabel(\"Efficiency\")\n",
    "    ax.set_ylabel(\"Count\")\n",
    "    ax.hist(efficiencies[nt>=3], bins=100, histtype='step')\n",
    "    ax.vlines(mean_eff, 0, 1, linestyles='dashed', label=f\"mean eff=%.02f\"%mean_eff)\n",
    "    ax.legend()\n",
    "plt.suptitle(\"Efficiency distributions for prongs with num_hits>=3\")\n",
    "plt.tight_layout()\n",
    "plt.show()"
   ]
  },
  {
   "cell_type": "code",
   "execution_count": null,
   "id": "9da8774d-68e1-4f7f-95c0-e979a4e63281",
   "metadata": {
    "tags": []
   },
   "outputs": [],
   "source": [
    "fig, axs = plt.subplots(2,3,figsize=(3*4, 2*4))\n",
    "for i in range(6):\n",
    "    ax = axs.ravel()[i]\n",
    "    name = CLASS_NAMES[i]\n",
    "    purities = torch.cat(sum_purities[i])\n",
    "    nt = torch.cat(n_trues[i]).detach().cpu().numpy()\n",
    "    mean_pur = purities[nt>=3].mean()\n",
    "    ax.set_title(f\"Purity distribution of class {name}\")\n",
    "    ax.set_xlabel(\"Purity\")\n",
    "    ax.set_ylabel(\"Count\")\n",
    "    ax.hist(purities[nt>=3].numpy(), bins=100, histtype='step')\n",
    "    ax.vlines(mean_eff, 0, 1, linestyles='dashed', label=f\"mean pur=%.02f\"%mean_pur)\n",
    "    ax.legend()\n",
    "plt.suptitle(\"Purity distributions for prongs with num_hits>=3\")\n",
    "plt.tight_layout()\n",
    "plt.show()"
   ]
  },
  {
   "cell_type": "code",
   "execution_count": null,
   "id": "80616602-1956-4818-9683-5df57e0c014f",
   "metadata": {
    "tags": []
   },
   "outputs": [],
   "source": [
    "fig, axs = plt.subplots(2,3,figsize=(4*4, 2*4))\n",
    "for i in range(1,6):\n",
    "    ax = axs.ravel()[i]\n",
    "    name = CLASS_NAMES[i]\n",
    "    ax.set_title(f\"Efficiency vs size of prong for class {name}\")\n",
    "    nt = torch.cat(n_trues[i]).detach().cpu().numpy()\n",
    "    efficiencies = torch.cat(sum_efficiencies[i]).detach().cpu().numpy()\n",
    "    im = ax.hist2d(nt, efficiencies, bins=100)\n",
    "    ax.set_xlabel(\"Size of prong\")\n",
    "    ax.set_ylabel(\"Efficiency\")\n",
    "    cbar = plt.colorbar(im[3], ax=ax)\n",
    "    cbar.set_label(\"Count\")\n",
    "plt.tight_layout()\n",
    "plt.show()"
   ]
  },
  {
   "cell_type": "code",
   "execution_count": null,
   "id": "195685c2-002c-4907-808f-572d4686d91d",
   "metadata": {
    "tags": []
   },
   "outputs": [],
   "source": [
    "fig, axs = plt.subplots(2,3,figsize=(4*4, 2*4))\n",
    "for i in range(1,6):\n",
    "    ax = axs.ravel()[i]\n",
    "    name = CLASS_NAMES[i]\n",
    "    ax.set_title(f\"Efficiency vs size of prong for class {name}\")\n",
    "    nt = torch.cat(n_trues[i]).detach().cpu().numpy()\n",
    "    efficiencies = torch.cat(sum_efficiencies[i]).detach().cpu().numpy()\n",
    "    mask = (nt < nt.max()*0.1) & (efficiencies > 0.8)\n",
    "    im = ax.hist2d(nt[mask], efficiencies[mask], bins=100)\n",
    "    ax.set_xlabel(\"Size of prong\")\n",
    "    ax.set_ylabel(\"Efficiency\")\n",
    "    cbar = plt.colorbar(im[3], ax=ax)\n",
    "    cbar.set_label(\"Count\")\n",
    "plt.tight_layout()\n",
    "plt.show()"
   ]
  },
  {
   "cell_type": "code",
   "execution_count": null,
   "id": "371cb97f-6a4d-4c08-841d-e7bff8fa0f22",
   "metadata": {
    "tags": []
   },
   "outputs": [],
   "source": [
    "fig, axs = plt.subplots(2,3,figsize=(4*4, 2*4))\n",
    "for i in range(1,6):\n",
    "    ax = axs.ravel()[i]\n",
    "    name = CLASS_NAMES[i]\n",
    "    ax.set_title(f\"Efficiency vs size of prong for class {name}\")\n",
    "    nt = torch.cat(n_trues[i]).detach().cpu().numpy()\n",
    "    efficiencies = torch.cat(sum_efficiencies[i]).detach().cpu().numpy()\n",
    "    mask = (nt < nt.max()*0.1) & (efficiencies < 0.2)\n",
    "    im = ax.hist2d(nt[mask], efficiencies[mask], bins=100)\n",
    "    ax.set_xlabel(\"Size of prong\")\n",
    "    ax.set_ylabel(\"Efficiency\")\n",
    "    cbar = plt.colorbar(im[3], ax=ax)\n",
    "    cbar.set_label(\"Count\")\n",
    "plt.tight_layout()\n",
    "plt.show()"
   ]
  },
  {
   "cell_type": "code",
   "execution_count": null,
   "id": "04426fc2-b84c-455d-8d88-a71bb0f0b904",
   "metadata": {
    "tags": []
   },
   "outputs": [],
   "source": [
    "nhits = 10\n",
    "fig, axs = plt.subplots(2,3,figsize=(3*4, 2*4))\n",
    "for i in range(6):\n",
    "    ax = axs.ravel()[i]\n",
    "    name = CLASS_NAMES[i]\n",
    "    efficiencies = torch.cat(sum_efficiencies[i]).numpy()\n",
    "    nt = torch.cat(n_trues[i]).detach().cpu().numpy()\n",
    "    mean_eff = efficiencies[nt>=nhits].mean()\n",
    "    ax.set_title(f\"Efficiency distribution of class {name}\")\n",
    "    ax.set_xlabel(\"Efficiency\")\n",
    "    ax.set_ylabel(\"Count\")\n",
    "    ax.hist(efficiencies[nt>=nhits], bins=100, histtype='step')\n",
    "    ax.vlines(mean_eff, 0, 1, linestyles='dashed', label=f\"mean eff=%.02f\"%mean_eff)\n",
    "    ax.legend()\n",
    "plt.suptitle(f\"Efficiency distributions for prongs with num_hits>={nhits}\")\n",
    "plt.tight_layout()\n",
    "plt.show()"
   ]
  },
  {
   "cell_type": "code",
   "execution_count": null,
   "id": "a677ad63-d074-4b42-8a7f-4a164e7098eb",
   "metadata": {
    "tags": []
   },
   "outputs": [],
   "source": [
    "nhits=10\n",
    "fig, axs = plt.subplots(2,3,figsize=(3*4, 2*4))\n",
    "for i in range(6):\n",
    "    ax = axs.ravel()[i]\n",
    "    name = CLASS_NAMES[i]\n",
    "    purities = torch.cat(sum_purities[i])\n",
    "    nt = torch.cat(n_trues[i]).detach().cpu().numpy()\n",
    "    mean_pur = purities[nt>=nhits].mean()\n",
    "    ax.set_title(f\"Purity distribution of class {name}\")\n",
    "    ax.set_xlabel(\"Purity\")\n",
    "    ax.set_ylabel(\"Count\")\n",
    "    ax.hist(purities[nt>=nhits].numpy(), bins=100, histtype='step')\n",
    "    ax.vlines(mean_eff, 0, 1, linestyles='dashed', label=f\"mean pur=%.02f\"%mean_pur)\n",
    "    ax.legend()\n",
    "plt.suptitle(f\"Purity distributions for prongs with num_hits>={nhits}\")\n",
    "plt.tight_layout()\n",
    "plt.show()"
   ]
  },
  {
   "cell_type": "code",
   "execution_count": null,
   "id": "6d98136c-2979-4079-8973-2fed5524df1a",
   "metadata": {
    "tags": []
   },
   "outputs": [],
   "source": [
    "from torch_scatter import scatter\n",
    "from scipy.optimize import linear_sum_assignment\n",
    "\n",
    "predicted_prongs_per_prong = [[] for _ in range(6)]\n",
    "\n",
    "for batch_idx, batch in enumerate(tqdm(test_dataloader)):\n",
    "    if CUDA:\n",
    "        batch = [b.cuda(CUDA_DEVICE) for b in batch]\n",
    "    \n",
    "    (\n",
    "        ids,\n",
    "        batches1, \n",
    "        features1, \n",
    "        coordinates1, \n",
    "        targets1,\n",
    "        object_targets1,\n",
    "        batches2, \n",
    "        features2,\n",
    "        coordinates2,\n",
    "        targets2,\n",
    "        object_targets2\n",
    "    ) = batch\n",
    "    \n",
    "    # coordinates1 = torch.nn.functional.pad(coordinates1, (0,1), \"constant\", 0)\n",
    "    # coordinates1[:,-1] = coordinates1[:,1]\n",
    "    # coordinates2 = torch.nn.functional.pad(coordinates2, (0,1), \"constant\", 0)\n",
    "    # coordinates2[:,-1] = coordinates2[:,1]\n",
    "    \n",
    "    predictions1, object_predictions1, predictions2, object_predictions2 = network.forward(\n",
    "        features1, coordinates1, batches1, features2, coordinates2, batches2\n",
    "    )\n",
    "    \n",
    "    mask1 = ((targets1 != -1) & (object_targets1 != -1) & (object_targets1 < 10))\n",
    "    mask2 = ((targets2 != -1) & (object_targets2 != -1) & (object_targets2 < 10))\n",
    "    \n",
    "    logits = torch.cat((object_predictions1[mask1], object_predictions2[mask2]), dim=0)\n",
    "    class_targets = torch.cat((targets1[mask1], targets2[mask2]), dim=0)\n",
    "    targets = torch.cat((object_targets1[mask1], object_targets2[mask2]), dim=0)\n",
    "    batches = torch.cat((batches1[mask1], batches2[mask2]), dim=0)\n",
    "    \n",
    "    _, object_preds = torch.max(logits, dim=-1)\n",
    "    object_preds = F.one_hot(object_preds, num_classes=10)\n",
    "    \n",
    "    batch_size = batches.max()\n",
    "    batch_size = batch_size + 1\n",
    "    pre_reshape_cost_matrix = scatter(object_preds, (batches*10)+targets, dim_size=10*batch_size, reduce=\"sum\", dim=0)\n",
    "    n_predictions_per_prong = scatter(object_preds, batches, dim_size=batch_size, reduce=\"sum\", dim=0) # -> (batch_size, 10) this 10 belongs to the column\n",
    "    n_true_per_prong = scatter(F.one_hot(targets, num_classes=10), batches, dim_size=batch_size, reduce=\"sum\", dim=0) # -> (batch_size, 10) this 10 belongs to the rows\n",
    "    batch_target = scatter(class_targets, (batches*10)+targets, dim_size=10*batch_size, reduce=\"mean\", dim=0)\n",
    "    \n",
    "    # cost_matrix = cost_matrix.reshape((10, batch_size, -1)).transpose(0,1)\n",
    "    cost_matrix = pre_reshape_cost_matrix.reshape((batch_size, 10, -1)) # (batch_size, 10, 10)\n",
    "    cost_matrix = (cost_matrix > 0).to(torch.int64)\n",
    "    predicted_prongs = cost_matrix.sum(dim=-1).reshape((-1))\n",
    "    for i in range(6):\n",
    "        predicted_prongs_per_prong[i].append(predicted_prongs[batch_target==i].detach().cpu())"
   ]
  },
  {
   "cell_type": "code",
   "execution_count": null,
   "id": "d08de915-c362-4cf6-8399-c5e945b0d5df",
   "metadata": {
    "tags": []
   },
   "outputs": [],
   "source": [
    "fig, axs = plt.subplots(2,3,figsize=(3*4, 2*4))\n",
    "for i in range(6):\n",
    "    ax = axs.ravel()[i]\n",
    "    name = CLASS_NAMES[i]\n",
    "    nprongs = torch.cat(predicted_prongs_per_prong[i]).cpu()\n",
    "    mean_prong = nprongs.float().mean()\n",
    "    ax.set_title(f\"{name}\")\n",
    "    ax.set_xlabel(\"Number of clusters\")\n",
    "    ax.set_ylabel(\"Count\")\n",
    "    # ax.hist(nprongs.numpy(), bins=11, histtype='step')\n",
    "    ax.bar(*np.unique(nprongs.numpy(), return_counts=True))\n",
    "    ax.vlines(mean_prong, 0, 1, linestyles='dashed', label=f\"mean n_prongs=%.02f\"%mean_prong)\n",
    "    ax.set_xticks(range(11), labels=range(11))\n",
    "    ax.legend()\n",
    "plt.suptitle(\"Distribution of number of predicted clusters per real cluster\")\n",
    "plt.tight_layout()\n",
    "plt.show()"
   ]
  },
  {
   "cell_type": "code",
   "execution_count": null,
   "id": "b2130127-d64d-4cbb-bef9-a7b410b640da",
   "metadata": {
    "tags": []
   },
   "outputs": [],
   "source": [
    "from torch_scatter import scatter\n",
    "from scipy.optimize import linear_sum_assignment\n",
    "\n",
    "sum_efficiencies = [[] for _ in range(6)]\n",
    "n_efficiencies = [[] for _ in range(6)]\n",
    "sum_purities = [[] for _ in range(6)]\n",
    "n_purities = [[] for _ in range(6)]\n",
    "n_trues = [[] for _ in range(6)]\n",
    "n_predicteds = [[] for _ in range(6)]\n",
    "\n",
    "for batch_idx, batch in enumerate(tqdm(test_dataloader)):\n",
    "    if CUDA:\n",
    "        batch = [b.cuda(CUDA_DEVICE) for b in batch]\n",
    "    \n",
    "    (\n",
    "        ids,\n",
    "        batches1, \n",
    "        features1, \n",
    "        coordinates1, \n",
    "        targets1,\n",
    "        object_targets1,\n",
    "        batches2, \n",
    "        features2,\n",
    "        coordinates2,\n",
    "        targets2,\n",
    "        object_targets2\n",
    "    ) = batch\n",
    "    \n",
    "    # coordinates1 = torch.nn.functional.pad(coordinates1, (0,1), \"constant\", 0)\n",
    "    # coordinates1[:,-1] = coordinates1[:,1]\n",
    "    # coordinates2 = torch.nn.functional.pad(coordinates2, (0,1), \"constant\", 0)\n",
    "    # coordinates2[:,-1] = coordinates2[:,1]\n",
    "    \n",
    "    predictions1, object_predictions1, predictions2, object_predictions2 = network.forward(\n",
    "        features1, coordinates1, batches1, features2, coordinates2, batches2\n",
    "    )\n",
    "    \n",
    "    mask1 = ((targets1 != -1) & (object_targets1 != -1) & (object_targets1 < 10))\n",
    "    mask2 = ((targets2 != -1) & (object_targets2 != -1) & (object_targets2 < 10))\n",
    "    \n",
    "    logits = torch.cat((object_predictions1[mask1], object_predictions2[mask2]), dim=0)\n",
    "    class_targets = torch.cat((targets1[mask1], targets2[mask2]), dim=0)\n",
    "    targets = torch.cat((object_targets1[mask1], object_targets2[mask2]), dim=0)\n",
    "    batches = torch.cat((batches1[mask1], batches2[mask2]), dim=0)\n",
    "    \n",
    "    _, object_preds = torch.max(logits, dim=-1)\n",
    "    object_preds = F.one_hot(object_preds, num_classes=10)\n",
    "    \n",
    "    batch_size = batches.max()\n",
    "    batch_size = batch_size + 1\n",
    "    pre_reshape_cost_matrix = scatter(object_preds, (batches*10)+targets, dim_size=10*batch_size, reduce=\"sum\", dim=0)\n",
    "    n_predictions_per_prong = scatter(object_preds, batches, dim_size=batch_size, reduce=\"sum\", dim=0) # -> (batch_size, 10) this 10 belongs to the column\n",
    "    n_true_per_prong = scatter(F.one_hot(targets, num_classes=10), batches, dim_size=batch_size, reduce=\"sum\", dim=0) # -> (batch_size, 10) this 10 belongs to the rows\n",
    "    batch_target = scatter(class_targets, (batches*10)+targets, dim_size=10*batch_size, reduce=\"mean\", dim=0)\n",
    "    \n",
    "    # cost_matrix = cost_matrix.reshape((10, batch_size, -1)).transpose(0,1)\n",
    "    cost_matrix = pre_reshape_cost_matrix.reshape((batch_size, 10, -1)) # (batch_size, 10, 10)\n",
    "    assigned_costs, assigned_cost_idx = cost_matrix.max(dim=-1)\n",
    "    \n",
    "    effs = assigned_costs.to(float)/n_true_per_prong.to(float)\n",
    "    purs = assigned_costs.to(float)/n_predictions_per_prong.to(float)\n",
    "    \n",
    "    for i in range(6):\n",
    "        ntrues = n_true_per_prong.reshape((-1))[batch_target == i]\n",
    "        npredicteds = n_predictions_per_prong.reshape((-1))[batch_target == i]\n",
    "        \n",
    "        ieffs = effs.reshape((-1))[batch_target == i]\n",
    "        ipurs = purs.reshape((-1))[batch_target == i]\n",
    "        mask = torch.isfinite(ieffs) & torch.isfinite(ipurs)\n",
    "        sum_efficiencies[i].append(ieffs[mask].detach().cpu())\n",
    "        sum_purities[i].append(ipurs[mask].detach().cpu())\n",
    "        n_trues[i].append(ntrues[mask].detach().cpu())\n",
    "        n_predicteds[i].append(npredicteds[mask].detach().cpu())"
   ]
  },
  {
   "cell_type": "code",
   "execution_count": null,
   "id": "4c9c29d9-d4db-4147-a44f-bed8f2081b5f",
   "metadata": {
    "tags": []
   },
   "outputs": [],
   "source": [
    "fig, axs = plt.subplots(2,3,figsize=(3*4, 2*4))\n",
    "for i in range(6):\n",
    "    ax = axs.ravel()[i]\n",
    "    name = CLASS_NAMES[i]\n",
    "    efficiencies = torch.cat(sum_efficiencies[i])\n",
    "    mean_eff = efficiencies.mean()\n",
    "    ax.set_title(f\"Efficiency distribution of class {name}\")\n",
    "    ax.set_xlabel(\"Efficiency\")\n",
    "    ax.set_ylabel(\"Count\")\n",
    "    ax.hist(efficiencies.numpy(), bins=100, histtype='step')\n",
    "    ax.vlines(mean_eff, 0, 1, linestyles='dashed', label=f\"mean eff=%.02f\"%mean_eff)\n",
    "    ax.legend()\n",
    "plt.suptitle(\"Efficiency distribution after allowing merged prongs\")\n",
    "plt.tight_layout()\n",
    "plt.show()"
   ]
  },
  {
   "cell_type": "code",
   "execution_count": null,
   "id": "39e53e6f-8c86-4655-b4cb-7580eab919b3",
   "metadata": {
    "tags": []
   },
   "outputs": [],
   "source": [
    "fig, axs = plt.subplots(2,3,figsize=(3*4, 2*4))\n",
    "for i in range(6):\n",
    "    ax = axs.ravel()[i]\n",
    "    name = CLASS_NAMES[i]\n",
    "    purities = torch.cat(sum_purities[i])\n",
    "    mean_pur = purities.mean()\n",
    "    ax.set_title(f\"Purity distribution of class {name}\")\n",
    "    ax.set_xlabel(\"Purity\")\n",
    "    ax.set_ylabel(\"Count\")\n",
    "    ax.hist(purities.numpy(), bins=100, histtype='step')\n",
    "    ax.vlines(mean_eff, 0, 1, linestyles='dashed', label=f\"mean pur=%.02f\"%mean_pur)\n",
    "    ax.legend()\n",
    "plt.suptitle(\"Purity distribution after allowing merged prongs\")\n",
    "plt.tight_layout()\n",
    "plt.show()"
   ]
  },
  {
   "cell_type": "code",
   "execution_count": null,
   "id": "574b5bd7-95c3-4f8b-9afa-d229886622d1",
   "metadata": {
    "tags": []
   },
   "outputs": [],
   "source": [
    "total_predictions.shape, total_object_predictions.shape"
   ]
  },
  {
   "cell_type": "code",
   "execution_count": null,
   "id": "33f78fab-ab5c-4dff-96ea-8f313d6d6835",
   "metadata": {
    "tags": []
   },
   "outputs": [],
   "source": [
    "tp.shape"
   ]
  },
  {
   "cell_type": "code",
   "execution_count": null,
   "id": "d56e93e8-596c-4906-a6a4-09eb0f7fbb8c",
   "metadata": {
    "tags": []
   },
   "outputs": [],
   "source": [
    "batch_size = total_batch_idx.max().item() + 1\n",
    "mean_prong_probability = scatter(tp, (total_batch_idx*10)+total_object_predictions, dim_size=10*batch_size, reduce=\"mean\", dim=0)"
   ]
  },
  {
   "cell_type": "code",
   "execution_count": null,
   "id": "7225bf23-402f-48f7-bc69-bc1f074b3fdc",
   "metadata": {
    "tags": []
   },
   "outputs": [],
   "source": [
    "predicted_prong_probability = mean_prong_probability.max(dim=-1).indices"
   ]
  },
  {
   "cell_type": "code",
   "execution_count": null,
   "id": "bd1e7e70-5bc0-4b72-9985-88dab8d642ae",
   "metadata": {
    "tags": []
   },
   "outputs": [],
   "source": [
    "grouped_predicted_tp = predicted_prong_probability[(total_batch_idx*10)+total_object_predictions]\n",
    "\n",
    "grouped_tp = mean_prong_probability[(total_batch_idx*10)+total_object_predictions]"
   ]
  },
  {
   "cell_type": "code",
   "execution_count": null,
   "id": "f3b76a55-385d-4cb9-ae56-905451b777d9",
   "metadata": {
    "tags": []
   },
   "outputs": [],
   "source": [
    "LABEL_ORDER = total_targets[:].unique()[1:].long()\n",
    "\n",
    "confusion_matrix_pred = metrics.confusion_matrix(\n",
    "    total_targets[:].numpy(), \n",
    "    grouped_predicted_tp.numpy(), \n",
    "    normalize='true',\n",
    "    labels=LABEL_ORDER\n",
    ")\n",
    "\n",
    "fig, ax = plt.subplots(figsize=(10, 8))\n",
    "display = metrics.ConfusionMatrixDisplay(\n",
    "    confusion_matrix_pred * 100, \n",
    "    display_labels=[CLASS_NAMES[i.item()] for i in LABEL_ORDER]\n",
    ")\n",
    "display.plot(cmap='magma', ax=ax, values_format=\".2f\", colorbar=False)\n",
    "ax.set_xlabel(\"Predicted Label\", labelpad=16)\n",
    "ax.set_ylabel(\"Truth Label\", labelpad=-8)\n",
    "plt.title(\"Efficiency\")\n",
    "plt.tight_layout()"
   ]
  },
  {
   "cell_type": "code",
   "execution_count": null,
   "id": "426b2181-7d4e-49b4-bb82-5350451e72b0",
   "metadata": {
    "tags": []
   },
   "outputs": [],
   "source": [
    "LABEL_ORDER = total_targets[:].unique()[1:].long()\n",
    "\n",
    "confusion_matrix_pred = metrics.confusion_matrix(\n",
    "    total_targets[:].numpy(), \n",
    "    grouped_predicted_tp.numpy(), \n",
    "    normalize='pred',\n",
    "    labels=LABEL_ORDER\n",
    ")\n",
    "\n",
    "fig, ax = plt.subplots(figsize=(10, 8))\n",
    "display = metrics.ConfusionMatrixDisplay(\n",
    "    confusion_matrix_pred * 100, \n",
    "    display_labels=[CLASS_NAMES[i.item()] for i in LABEL_ORDER]\n",
    ")\n",
    "display.plot(cmap='magma', ax=ax, values_format=\".2f\", colorbar=False)\n",
    "ax.set_xlabel(\"Predicted Label\", labelpad=16)\n",
    "ax.set_ylabel(\"Truth Label\", labelpad=-8)\n",
    "plt.title(\"Purity\")\n",
    "plt.tight_layout()"
   ]
  },
  {
   "cell_type": "code",
   "execution_count": null,
   "id": "e40c5d1b-5698-45ea-b522-3cd386c6475e",
   "metadata": {
    "tags": []
   },
   "outputs": [],
   "source": [
    "fig, ax = plt.subplots(figsize=(12, 12))\n",
    "\n",
    "for class_index in LABEL_ORDER:\n",
    "    class_index = class_index.item()\n",
    "    fpr, tpr, thresholds = roc_curve(\n",
    "        total_targets.numpy()[:],\n",
    "        grouped_tp.numpy()[:,class_index],\n",
    "        pos_label=class_index\n",
    "    )\n",
    "\n",
    "    ax.plot(fpr, tpr, label=CLASS_NAMES[class_index])\n",
    "    ax.set_xlabel(\"FPR\")\n",
    "    ax.set_ylabel(\"TPR\")\n",
    "\n",
    "ax.set_title(\"OVR ROC\")\n",
    "ax.legend()\n",
    "plt.show()"
   ]
  },
  {
   "cell_type": "code",
   "execution_count": null,
   "id": "11edd52d-2cf5-4289-8408-71dee018d27c",
   "metadata": {
    "tags": []
   },
   "outputs": [],
   "source": [
    "grouped_top_ps = tp[torch.nn.functional.one_hot(grouped_predicted_tp).to(bool)]"
   ]
  },
  {
   "cell_type": "code",
   "execution_count": null,
   "id": "95600378-5bd3-41e9-9949-d37df2527281",
   "metadata": {
    "tags": []
   },
   "outputs": [],
   "source": [
    "eps = 1e-1\n",
    "mask = grouped_top_ps > eps"
   ]
  },
  {
   "cell_type": "code",
   "execution_count": null,
   "id": "f782547c-2417-4718-be26-2ffda10cd6be",
   "metadata": {
    "tags": []
   },
   "outputs": [],
   "source": [
    "LABEL_ORDER = total_targets[:].unique()[1:].long()\n",
    "\n",
    "confusion_matrix_pred = metrics.confusion_matrix(\n",
    "    total_targets[mask].numpy(), \n",
    "    total_predictions[mask].numpy(), \n",
    "    normalize='true',\n",
    "    labels=LABEL_ORDER\n",
    ")\n",
    "\n",
    "fig, ax = plt.subplots(figsize=(10, 8))\n",
    "display = metrics.ConfusionMatrixDisplay(\n",
    "    confusion_matrix_pred * 100, \n",
    "    display_labels=[CLASS_NAMES[i.item()] for i in LABEL_ORDER]\n",
    ")\n",
    "display.plot(cmap='magma', ax=ax, values_format=\".2f\", colorbar=False)\n",
    "ax.set_xlabel(\"Predicted Label\", labelpad=16)\n",
    "ax.set_ylabel(\"Truth Label\", labelpad=-8)\n",
    "plt.title(\"Efficiency\")\n",
    "plt.tight_layout()"
   ]
  },
  {
   "cell_type": "code",
   "execution_count": null,
   "id": "fea472ce-5c35-44e7-8110-3ce9581dc30c",
   "metadata": {
    "tags": []
   },
   "outputs": [],
   "source": [
    "LABEL_ORDER = total_targets[:].unique()[1:].long()\n",
    "\n",
    "confusion_matrix_pred = metrics.confusion_matrix(\n",
    "    total_targets[mask].numpy(), \n",
    "    total_predictions[mask].numpy(), \n",
    "    normalize='pred',\n",
    "    labels=LABEL_ORDER\n",
    ")\n",
    "\n",
    "fig, ax = plt.subplots(figsize=(10, 8))\n",
    "display = metrics.ConfusionMatrixDisplay(\n",
    "    confusion_matrix_pred * 100, \n",
    "    display_labels=[CLASS_NAMES[i.item()] for i in LABEL_ORDER]\n",
    ")\n",
    "display.plot(cmap='magma', ax=ax, values_format=\".2f\", colorbar=False)\n",
    "ax.set_xlabel(\"Predicted Label\", labelpad=16)\n",
    "ax.set_ylabel(\"Truth Label\", labelpad=-8)\n",
    "plt.title(\"Purity\")\n",
    "plt.tight_layout()"
   ]
  },
  {
   "cell_type": "code",
   "execution_count": null,
   "id": "72558d82-5c01-4ba5-b3fc-3754e344a72c",
   "metadata": {},
   "outputs": [],
   "source": []
  },
  {
   "cell_type": "code",
   "execution_count": null,
   "id": "45e78d45-c5da-4451-b831-a83849a52c89",
   "metadata": {},
   "outputs": [],
   "source": []
  }
 ],
 "metadata": {
  "kernelspec": {
   "display_name": "Python 3 (ipykernel)",
   "language": "python",
   "name": "python3"
  },
  "language_info": {
   "codemirror_mode": {
    "name": "ipython",
    "version": 3
   },
   "file_extension": ".py",
   "mimetype": "text/x-python",
   "name": "python",
   "nbconvert_exporter": "python",
   "pygments_lexer": "ipython3",
   "version": "3.10.15"
  }
 },
 "nbformat": 4,
 "nbformat_minor": 5
}
