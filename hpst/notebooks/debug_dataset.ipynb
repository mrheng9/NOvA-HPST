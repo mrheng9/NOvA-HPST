{
 "cells": [
  {
   "cell_type": "code",
   "execution_count": 1,
   "id": "f57d95bc-0907-40c7-ae6e-312a71e76e74",
   "metadata": {
    "tags": []
   },
   "outputs": [],
   "source": [
    "import sys"
   ]
  },
  {
   "cell_type": "code",
   "execution_count": 2,
   "id": "05830027-4d80-4bc3-84db-79154d7db1cc",
   "metadata": {
    "tags": []
   },
   "outputs": [],
   "source": [
    "sys.path.append(\"..\")"
   ]
  },
  {
   "cell_type": "code",
   "execution_count": 3,
   "id": "a1b90e2f-af2f-4eec-bdf3-737a89f9a993",
   "metadata": {
    "tags": []
   },
   "outputs": [],
   "source": [
    "from hpst.dataset.bbox_mask_dataset import BboxMaskDataset\n",
    "import torch\n",
    "import torchvision.transforms.functional as F\n",
    "import numpy as np\n",
    "import matplotlib.patches as patches"
   ]
  },
  {
   "cell_type": "code",
   "execution_count": 4,
   "id": "cf73c57c-d444-48b6-8bf4-1096ef54b220",
   "metadata": {
    "tags": []
   },
   "outputs": [],
   "source": [
    "dataset = BboxMaskDataset(\"../data/preprocessed_nova_miniprod6_1_cvnlabmaps.h5\")"
   ]
  },
  {
   "cell_type": "code",
   "execution_count": 5,
   "id": "d0bbfcc0-e156-4669-80d6-f59ee7fd364e",
   "metadata": {
    "tags": []
   },
   "outputs": [],
   "source": [
    "hits_index, (features_x, targets_x), (features_y, targets_y) = dataset[641]"
   ]
  },
  {
   "cell_type": "code",
   "execution_count": 6,
   "id": "b15f3f99-1c01-4f7e-a311-9a13213eb8e5",
   "metadata": {
    "tags": []
   },
   "outputs": [
    {
     "data": {
      "text/plain": [
       "tensor(71647180)"
      ]
     },
     "execution_count": 6,
     "metadata": {},
     "output_type": "execute_result"
    }
   ],
   "source": [
    "dataset.bbox_offsets.max()"
   ]
  },
  {
   "cell_type": "code",
   "execution_count": 7,
   "id": "07ca2756-031f-4e0e-8224-ef6379d53320",
   "metadata": {
    "tags": []
   },
   "outputs": [
    {
     "data": {
      "text/plain": [
       "tensor([       0,       23,       36,  ..., 71647171, 71647177, 71647180])"
      ]
     },
     "execution_count": 7,
     "metadata": {},
     "output_type": "execute_result"
    }
   ],
   "source": [
    "dataset.bbox_offsets"
   ]
  },
  {
   "cell_type": "code",
   "execution_count": 8,
   "id": "dc8bd60e-fb59-4a64-9dd0-e4d254f4a6cc",
   "metadata": {
    "tags": []
   },
   "outputs": [
    {
     "data": {
      "text/plain": [
       "torch.Size([71647180, 4])"
      ]
     },
     "execution_count": 8,
     "metadata": {},
     "output_type": "execute_result"
    }
   ],
   "source": [
    "dataset.bbox_y.shape"
   ]
  },
  {
   "cell_type": "code",
   "execution_count": 9,
   "id": "67347e71-6980-4df6-83de-dfc17edf7044",
   "metadata": {
    "tags": []
   },
   "outputs": [
    {
     "data": {
      "text/plain": [
       "641"
      ]
     },
     "execution_count": 9,
     "metadata": {},
     "output_type": "execute_result"
    }
   ],
   "source": [
    "hits_index"
   ]
  },
  {
   "cell_type": "code",
   "execution_count": 10,
   "id": "0cdf2a59-c090-4b0a-bdd0-3451184108c6",
   "metadata": {
    "tags": []
   },
   "outputs": [
    {
     "data": {
      "text/plain": [
       "tensor([        0,       412,       446,  ..., 647444961, 647445330,\n",
       "        647445418])"
      ]
     },
     "execution_count": 10,
     "metadata": {},
     "output_type": "execute_result"
    }
   ],
   "source": [
    "dataset.hitlim_lo"
   ]
  },
  {
   "cell_type": "code",
   "execution_count": 11,
   "id": "af14ff72-a2d0-4615-b859-51a3d796ab8f",
   "metadata": {
    "tags": []
   },
   "outputs": [],
   "source": [
    "import matplotlib.pyplot as plt"
   ]
  },
  {
   "cell_type": "code",
   "execution_count": 12,
   "id": "2076149b-f953-4221-9ad8-5da049837cd3",
   "metadata": {
    "tags": []
   },
   "outputs": [],
   "source": [
    "from torchvision.utils import draw_segmentation_masks, draw_bounding_boxes, make_grid"
   ]
  },
  {
   "cell_type": "code",
   "execution_count": 13,
   "id": "cf15313b-a746-4e40-b4e7-c4827fa2ff86",
   "metadata": {
    "tags": []
   },
   "outputs": [],
   "source": [
    "def show(imgs):\n",
    "    if not isinstance(imgs, list):\n",
    "        imgs = [imgs]\n",
    "    fix, axs = plt.subplots(ncols=len(imgs), squeeze=False)\n",
    "    for i, img in enumerate(imgs):\n",
    "        img = img.detach()\n",
    "        img = F.to_pil_image(img)\n",
    "        axs[0, i].imshow(np.asarray(img))\n",
    "        axs[0, i].set(xticklabels=[], yticklabels=[], xticks=[], yticks=[])"
   ]
  },
  {
   "cell_type": "code",
   "execution_count": 14,
   "id": "ed8e0296-9c01-4edd-835d-99311ee8dd01",
   "metadata": {
    "tags": []
   },
   "outputs": [],
   "source": [
    "features_x = (256*(features_x - features_x.min()) / (features_x.max() - features_x.min())).to(torch.uint8)"
   ]
  },
  {
   "cell_type": "code",
   "execution_count": 15,
   "id": "07b11779-e1ff-4aca-b5e4-06541deea8f3",
   "metadata": {
    "tags": []
   },
   "outputs": [],
   "source": [
    "features_y = (256*(features_y - features_y.min()) / (features_y.max() - features_y.min())).to(torch.uint8)"
   ]
  },
  {
   "cell_type": "code",
   "execution_count": 16,
   "id": "9cd7d1d6-f943-41d0-b484-57bdf5e36e12",
   "metadata": {
    "tags": []
   },
   "outputs": [
    {
     "data": {
      "image/png": "[encoded data removed]",
      "text/plain": [
       "<Figure size 640x480 with 1 Axes>"
      ]
     },
     "metadata": {},
     "output_type": "display_data"
    }
   ],
   "source": [
    "results = draw_bounding_boxes(draw_segmentation_masks(features_x, masks=targets_x[\"masks\"].to(torch.bool)), targets_x[\"boxes\"])\n",
    "show(results)"
   ]
  },
  {
   "cell_type": "code",
   "execution_count": 17,
   "id": "4f6017b7-18b1-4dae-a96f-16504aa81691",
   "metadata": {
    "tags": []
   },
   "outputs": [
    {
     "data": {
      "image/png": "[encoded data removed]",
      "text/plain": [
       "<Figure size 640x480 with 1 Axes>"
      ]
     },
     "metadata": {},
     "output_type": "display_data"
    }
   ],
   "source": [
    "results = draw_bounding_boxes(draw_segmentation_masks(features_y, masks=targets_y[\"masks\"].to(torch.bool)), targets_y[\"boxes\"])\n",
    "show(results)"
   ]
  },
  {
   "cell_type": "code",
   "execution_count": 18,
   "id": "fcfb61e9-3546-4215-b090-0b4a6dee0952",
   "metadata": {
    "tags": []
   },
   "outputs": [],
   "source": [
    "item = 0\n",
    "event_low = dataset.hitlim_lo[item]\n",
    "event_high = dataset.hitlim_hi[item]"
   ]
  },
  {
   "cell_type": "code",
   "execution_count": 19,
   "id": "9fd178ed-8f39-433b-aae6-8e2792d13542",
   "metadata": {
    "tags": []
   },
   "outputs": [],
   "source": [
    "coordinates = torch.Tensor(dataset.coordinates[event_low:event_high]).clone()\n",
    "hitview = torch.Tensor(dataset.hitview[event_low:event_high]).clone()\n",
    "object_targets = torch.Tensor(dataset.object_targets[event_low:event_high]).clone()"
   ]
  },
  {
   "cell_type": "code",
   "execution_count": 20,
   "id": "d3e395cf-28bf-4e04-b02e-716b0c8dcf48",
   "metadata": {
    "tags": []
   },
   "outputs": [
    {
     "data": {
      "text/plain": [
       "<matplotlib.collections.PathCollection at 0x7f733dd09790>"
      ]
     },
     "execution_count": 20,
     "metadata": {},
     "output_type": "execute_result"
    },
    {
     "data": {
      "image/png": "[encoded data removed]",
      "text/plain": [
       "<Figure size 640x480 with 1 Axes>"
      ]
     },
     "metadata": {},
     "output_type": "display_data"
    }
   ],
   "source": [
    "plt.scatter(coordinates[hitview == 0].numpy()[:,0], coordinates[hitview == 0].numpy()[:,1], c=object_targets[hitview == 0])"
   ]
  },
  {
   "cell_type": "code",
   "execution_count": 21,
   "id": "09ab6335-d143-4679-a621-df74a6a3ab40",
   "metadata": {
    "tags": []
   },
   "outputs": [
    {
     "data": {
      "text/plain": [
       "<matplotlib.collections.PathCollection at 0x7f733dc881c0>"
      ]
     },
     "execution_count": 21,
     "metadata": {},
     "output_type": "execute_result"
    },
    {
     "data": {
      "image/png": "[encoded data removed]",
      "text/plain": [
       "<Figure size 640x480 with 1 Axes>"
      ]
     },
     "metadata": {},
     "output_type": "display_data"
    }
   ],
   "source": [
    "plt.scatter(coordinates[hitview == 1].numpy()[:,0], coordinates[hitview == 1].numpy()[:,1], c=object_targets[hitview == 1])"
   ]
  },
  {
   "cell_type": "code",
   "execution_count": 22,
   "id": "e844504d-d47f-41b8-9abd-7e12ea2a9905",
   "metadata": {
    "tags": []
   },
   "outputs": [
    {
     "data": {
      "text/plain": [
       "tensor([ 0,  1,  2,  3,  4,  5,  6,  7,  8,  9, 10, 11, 12, 13, 14, 15, 16, 17,\n",
       "        18, 19, 20, 21, 22, 23, 24, 25, 26, 27, 28, 29, 30, 31, 32, 33, 34, 35,\n",
       "        36, 37, 39, 40, 41, 42, 43, 44, 45, 46, 47, 48, 49, 50, 51, 52, 53, 54,\n",
       "        55, 56, 57, 58, 59, 60, 61, 62, 63, 64, 65, 66, 67, 68, 69, 70, 71, 72,\n",
       "        73, 74, 75, 76, 77, 78, 79, 80, 81, 82, 83, 84, 85, 86, 87, 88, 89, 90])"
      ]
     },
     "execution_count": 22,
     "metadata": {},
     "output_type": "execute_result"
    }
   ],
   "source": [
    "targets_x[\"masks\"].argmax(dim=0).unique()"
   ]
  },
  {
   "cell_type": "code",
   "execution_count": 23,
   "id": "d2f6569b-d5dd-4aff-b4fc-488147380fdf",
   "metadata": {
    "tags": []
   },
   "outputs": [
    {
     "data": {
      "text/plain": [
       "<matplotlib.image.AxesImage at 0x7f733dc477f0>"
      ]
     },
     "execution_count": 23,
     "metadata": {},
     "output_type": "execute_result"
    },
    {
     "data": {
      "image/png": "[encoded data removed]",
      "text/plain": [
       "<Figure size 640x480 with 1 Axes>"
      ]
     },
     "metadata": {},
     "output_type": "display_data"
    }
   ],
   "source": [
    "plt.imshow(targets_x[\"masks\"].argmax(dim=0).T)"
   ]
  },
  {
   "cell_type": "code",
   "execution_count": 24,
   "id": "d0bee588-f8fc-4a7b-8b52-3ca02fd02cf0",
   "metadata": {
    "tags": []
   },
   "outputs": [
    {
     "data": {
      "text/plain": [
       "<matplotlib.image.AxesImage at 0x7f733dbf3bb0>"
      ]
     },
     "execution_count": 24,
     "metadata": {},
     "output_type": "execute_result"
    },
    {
     "data": {
      "image/png": "[encoded data removed]",
      "text/plain": [
       "<Figure size 600x480 with 1 Axes>"
      ]
     },
     "metadata": {},
     "output_type": "display_data"
    }
   ],
   "source": [
    "plt.matshow(features_x[0].T)"
   ]
  },
  {
   "cell_type": "code",
   "execution_count": 25,
   "id": "e2d9ce29-3226-4824-8078-c180e77aaa58",
   "metadata": {
    "tags": []
   },
   "outputs": [
    {
     "data": {
      "text/plain": [
       "torch.Size([3, 100, 80])"
      ]
     },
     "execution_count": 25,
     "metadata": {},
     "output_type": "execute_result"
    }
   ],
   "source": [
    "features_x.shape"
   ]
  },
  {
   "cell_type": "code",
   "execution_count": 26,
   "id": "54c669b7-704c-4d07-840b-c49773f345b8",
   "metadata": {
    "tags": []
   },
   "outputs": [
    {
     "data": {
      "text/plain": [
       "tensor([[15., 46., 46., 89.],\n",
       "        [48., 44., 59., 50.],\n",
       "        [54., 49., 79., 51.],\n",
       "        [37., 60., 50., 69.],\n",
       "        [33., 60., 46., 75.],\n",
       "        [45., 56., 53., 77.],\n",
       "        [50., 58., 65., 80.],\n",
       "        [47., 59., 50., 61.],\n",
       "        [63., 55., 69., 57.],\n",
       "        [55., 58., 77., 73.],\n",
       "        [37., 56., 44., 60.],\n",
       "        [38., 58., 40., 60.],\n",
       "        [41., 69., 44., 72.],\n",
       "        [ 2., 53., 15., 56.],\n",
       "        [44., 55., 46., 57.],\n",
       "        [61., 58., 68., 62.],\n",
       "        [56., 63., 65., 68.],\n",
       "        [33., 71., 40., 73.],\n",
       "        [32., 49., 44., 54.],\n",
       "        [54., 57., 56., 59.],\n",
       "        [41., 58., 43., 60.],\n",
       "        [50., 67., 53., 69.],\n",
       "        [52., 61., 72., 76.],\n",
       "        [55., 83., 57., 85.],\n",
       "        [42., 45., 45., 47.],\n",
       "        [52., 56., 55., 59.],\n",
       "        [47., 58., 49., 60.],\n",
       "        [54., 59., 61., 64.],\n",
       "        [44., 63., 46., 65.],\n",
       "        [51., 72., 53., 74.],\n",
       "        [43., 69., 52., 76.],\n",
       "        [45., 45., 48., 50.],\n",
       "        [42., 55., 44., 57.],\n",
       "        [46., 55., 49., 58.],\n",
       "        [48., 57., 50., 59.],\n",
       "        [27., 59., 29., 61.],\n",
       "        [49., 57., 51., 63.],\n",
       "        [47., 66., 49., 68.],\n",
       "        [42., 47., 46., 49.],\n",
       "        [52., 50., 54., 52.],\n",
       "        [46., 54., 48., 56.],\n",
       "        [50., 55., 52., 57.],\n",
       "        [38., 62., 40., 64.],\n",
       "        [46., 62., 50., 68.],\n",
       "        [45., 68., 47., 70.],\n",
       "        [59., 68., 63., 74.],\n",
       "        [60., 75., 62., 77.],\n",
       "        [51., 46., 54., 53.],\n",
       "        [29., 52., 32., 54.],\n",
       "        [45., 54., 47., 56.],\n",
       "        [49., 55., 51., 57.],\n",
       "        [50., 57., 54., 60.],\n",
       "        [46., 65., 48., 67.],\n",
       "        [40., 68., 43., 70.],\n",
       "        [49., 40., 61., 45.],\n",
       "        [44., 44., 46., 46.],\n",
       "        [47., 51., 49., 54.],\n",
       "        [33., 53., 35., 55.],\n",
       "        [48., 53., 50., 55.],\n",
       "        [47., 54., 50., 56.],\n",
       "        [56., 54., 58., 56.],\n",
       "        [49., 56., 51., 58.],\n",
       "        [57., 57., 59., 59.],\n",
       "        [50., 59., 52., 61.],\n",
       "        [50., 60., 52., 62.],\n",
       "        [61., 61., 64., 63.],\n",
       "        [43., 64., 45., 66.],\n",
       "        [ 9., 76., 11., 78.],\n",
       "        [45., 44., 47., 46.],\n",
       "        [47., 53., 49., 55.],\n",
       "        [32., 60., 34., 62.],\n",
       "        [50., 68., 52., 70.],\n",
       "        [68., 69., 70., 72.],\n",
       "        [11., 51., 14., 53.],\n",
       "        [50., 54., 52., 56.],\n",
       "        [52., 56., 54., 58.],\n",
       "        [36., 58., 38., 60.],\n",
       "        [51., 59., 53., 61.],\n",
       "        [61., 63., 63., 65.],\n",
       "        [34., 64., 36., 66.],\n",
       "        [28., 65., 30., 67.],\n",
       "        [55., 71., 57., 73.],\n",
       "        [50., 72., 52., 74.],\n",
       "        [47., 49., 49., 51.],\n",
       "        [49., 54., 51., 56.],\n",
       "        [27., 55., 30., 57.],\n",
       "        [45., 55., 47., 57.],\n",
       "        [20., 65., 22., 67.],\n",
       "        [48., 55., 50., 57.]])"
      ]
     },
     "execution_count": 26,
     "metadata": {},
     "output_type": "execute_result"
    }
   ],
   "source": [
    "targets_x[\"boxes\"][targets_x[\"labels\"] != 0]"
   ]
  },
  {
   "cell_type": "code",
   "execution_count": 27,
   "id": "be7545fc-c5dc-4f88-ba18-2c60e6934d2d",
   "metadata": {
    "tags": []
   },
   "outputs": [
    {
     "data": {
      "text/plain": [
       "tensor([[ 0., 45., 33., 53.],\n",
       "        [15., 46., 46., 89.],\n",
       "        [48., 44., 59., 50.],\n",
       "        [54., 49., 79., 51.],\n",
       "        [37., 60., 50., 69.],\n",
       "        [33., 60., 46., 75.],\n",
       "        [45., 56., 53., 77.],\n",
       "        [50., 58., 65., 80.],\n",
       "        [47., 59., 50., 61.],\n",
       "        [63., 55., 69., 57.],\n",
       "        [55., 58., 77., 73.],\n",
       "        [37., 56., 44., 60.],\n",
       "        [38., 58., 40., 60.],\n",
       "        [41., 69., 44., 72.],\n",
       "        [ 2., 53., 15., 56.],\n",
       "        [44., 55., 46., 57.],\n",
       "        [61., 58., 68., 62.],\n",
       "        [56., 63., 65., 68.],\n",
       "        [33., 71., 40., 73.],\n",
       "        [32., 49., 44., 54.],\n",
       "        [54., 57., 56., 59.],\n",
       "        [41., 58., 43., 60.],\n",
       "        [50., 67., 53., 69.],\n",
       "        [52., 61., 72., 76.],\n",
       "        [55., 83., 57., 85.],\n",
       "        [42., 45., 45., 47.],\n",
       "        [52., 56., 55., 59.],\n",
       "        [47., 58., 49., 60.],\n",
       "        [54., 59., 61., 64.],\n",
       "        [44., 63., 46., 65.],\n",
       "        [51., 72., 53., 74.],\n",
       "        [43., 69., 52., 76.],\n",
       "        [45., 45., 48., 50.],\n",
       "        [42., 55., 44., 57.],\n",
       "        [46., 55., 49., 58.],\n",
       "        [48., 57., 50., 59.],\n",
       "        [27., 59., 29., 61.],\n",
       "        [49., 57., 51., 63.],\n",
       "        [ 0.,  0.,  1.,  1.],\n",
       "        [47., 66., 49., 68.],\n",
       "        [42., 47., 46., 49.],\n",
       "        [52., 50., 54., 52.],\n",
       "        [46., 54., 48., 56.],\n",
       "        [50., 55., 52., 57.],\n",
       "        [38., 62., 40., 64.],\n",
       "        [46., 62., 50., 68.],\n",
       "        [45., 68., 47., 70.],\n",
       "        [59., 68., 63., 74.],\n",
       "        [60., 75., 62., 77.],\n",
       "        [51., 46., 54., 53.],\n",
       "        [29., 52., 32., 54.],\n",
       "        [45., 54., 47., 56.],\n",
       "        [49., 55., 51., 57.],\n",
       "        [50., 57., 54., 60.],\n",
       "        [46., 65., 48., 67.],\n",
       "        [40., 68., 43., 70.],\n",
       "        [49., 40., 61., 45.],\n",
       "        [44., 44., 46., 46.],\n",
       "        [47., 51., 49., 54.],\n",
       "        [33., 53., 35., 55.],\n",
       "        [48., 53., 50., 55.],\n",
       "        [47., 54., 50., 56.],\n",
       "        [56., 54., 58., 56.],\n",
       "        [49., 56., 51., 58.],\n",
       "        [57., 57., 59., 59.],\n",
       "        [50., 59., 52., 61.],\n",
       "        [50., 60., 52., 62.],\n",
       "        [61., 61., 64., 63.],\n",
       "        [43., 64., 45., 66.],\n",
       "        [ 9., 76., 11., 78.],\n",
       "        [45., 44., 47., 46.],\n",
       "        [47., 53., 49., 55.],\n",
       "        [32., 60., 34., 62.],\n",
       "        [50., 68., 52., 70.],\n",
       "        [68., 69., 70., 72.],\n",
       "        [11., 51., 14., 53.],\n",
       "        [50., 54., 52., 56.],\n",
       "        [52., 56., 54., 58.],\n",
       "        [36., 58., 38., 60.],\n",
       "        [51., 59., 53., 61.],\n",
       "        [61., 63., 63., 65.],\n",
       "        [34., 64., 36., 66.],\n",
       "        [28., 65., 30., 67.],\n",
       "        [55., 71., 57., 73.],\n",
       "        [50., 72., 52., 74.],\n",
       "        [47., 49., 49., 51.],\n",
       "        [49., 54., 51., 56.],\n",
       "        [27., 55., 30., 57.],\n",
       "        [45., 55., 47., 57.],\n",
       "        [20., 65., 22., 67.],\n",
       "        [48., 55., 50., 57.],\n",
       "        [ 0.,  0.,  1.,  1.],\n",
       "        [ 0.,  0.,  1.,  1.],\n",
       "        [ 0.,  0.,  1.,  1.],\n",
       "        [ 0.,  0.,  1.,  1.],\n",
       "        [ 0.,  0.,  1.,  1.],\n",
       "        [ 0.,  0.,  1.,  1.],\n",
       "        [ 0.,  0.,  1.,  1.],\n",
       "        [ 0.,  0.,  1.,  1.],\n",
       "        [ 0.,  0.,  1.,  1.],\n",
       "        [ 0.,  0.,  1.,  1.],\n",
       "        [ 0.,  0.,  1.,  1.],\n",
       "        [ 0.,  0.,  1.,  1.],\n",
       "        [ 0.,  0.,  1.,  1.],\n",
       "        [ 0.,  0.,  1.,  1.],\n",
       "        [ 0.,  0.,  1.,  1.],\n",
       "        [ 0.,  0.,  1.,  1.],\n",
       "        [ 0.,  0.,  1.,  1.],\n",
       "        [ 0.,  0.,  1.,  1.],\n",
       "        [ 0.,  0.,  1.,  1.],\n",
       "        [ 0.,  0.,  1.,  1.],\n",
       "        [ 0.,  0.,  1.,  1.],\n",
       "        [ 0.,  0.,  1.,  1.],\n",
       "        [ 0.,  0.,  1.,  1.],\n",
       "        [ 0.,  0.,  1.,  1.],\n",
       "        [ 0.,  0.,  1.,  1.],\n",
       "        [ 0.,  0.,  1.,  1.],\n",
       "        [ 0.,  0.,  1.,  1.],\n",
       "        [ 0.,  0.,  1.,  1.],\n",
       "        [ 0.,  0.,  1.,  1.],\n",
       "        [ 0.,  0.,  1.,  1.],\n",
       "        [ 0.,  0.,  1.,  1.],\n",
       "        [ 0.,  0.,  1.,  1.],\n",
       "        [ 0.,  0.,  1.,  1.],\n",
       "        [ 0.,  0.,  1.,  1.],\n",
       "        [ 0.,  0.,  1.,  1.],\n",
       "        [ 0.,  0.,  1.,  1.],\n",
       "        [ 0.,  0.,  1.,  1.]])"
      ]
     },
     "execution_count": 27,
     "metadata": {},
     "output_type": "execute_result"
    }
   ],
   "source": [
    "targets_x[\"boxes\"]"
   ]
  },
  {
   "cell_type": "code",
   "execution_count": 28,
   "id": "e04e86b2-fe16-4659-ae82-9d813c653a17",
   "metadata": {
    "tags": []
   },
   "outputs": [
    {
     "data": {
      "text/plain": [
       "(torch.Size([128]), torch.Size([128, 100, 80]), torch.Size([128, 4]))"
      ]
     },
     "execution_count": 28,
     "metadata": {},
     "output_type": "execute_result"
    }
   ],
   "source": [
    "targets_y[\"labels\"].shape, targets_y[\"masks\"].shape, targets_y[\"boxes\"].shape"
   ]
  },
  {
   "cell_type": "code",
   "execution_count": 29,
   "id": "5b8b4a78-cc9b-4c34-9ee0-3469c562f32a",
   "metadata": {
    "tags": []
   },
   "outputs": [
    {
     "data": {
      "text/plain": [
       "tensor([ 0,  1,  2,  3,  4,  5,  6,  7,  8,  9, 10, 11, 12, 13, 14, 15, 16, 17,\n",
       "        18, 19, 20, 21, 22, 23, 24, 25, 26, 27, 28, 29, 30, 31, 32, 33, 34, 35,\n",
       "        36, 37, 39, 40, 41, 42, 43, 44, 45, 46, 47, 48, 49, 50, 51, 52, 53, 54,\n",
       "        55, 56, 57, 58, 59, 60, 61, 62, 63, 64, 65, 66, 67, 68, 69, 70, 71, 72,\n",
       "        73, 74, 75, 76, 77, 78, 79, 80, 81, 82, 83, 84, 85, 86, 87, 88, 89, 90])"
      ]
     },
     "execution_count": 29,
     "metadata": {},
     "output_type": "execute_result"
    }
   ],
   "source": [
    "targets_x[\"masks\"].argmax(dim=0).unique()"
   ]
  },
  {
   "cell_type": "code",
   "execution_count": 30,
   "id": "389bba99-d44b-49d3-a62e-d9ddfc87e5d0",
   "metadata": {
    "tags": []
   },
   "outputs": [
    {
     "data": {
      "text/plain": [
       "tensor([  0,   1,   2,   3,   4,   5,   6,   7,   8,   9,  10,  11,  13,  14,\n",
       "         15,  16,  17,  18,  19,  23,  25,  26,  27,  28,  29,  31,  32,  33,\n",
       "         34,  35,  37,  45,  46,  47,  49,  51,  53,  55,  56,  58,  62,  63,\n",
       "         66,  67,  72,  73,  74,  75,  84,  86,  91,  92,  93,  94,  95,  96,\n",
       "         98,  99, 100, 101, 102, 103, 104, 105, 107, 109, 110, 111, 112, 113,\n",
       "        114, 115, 116, 117, 118, 119, 120, 121, 122, 123, 124, 125, 126, 127])"
      ]
     },
     "execution_count": 30,
     "metadata": {},
     "output_type": "execute_result"
    }
   ],
   "source": [
    "targets_y[\"masks\"].argmax(dim=0).unique()"
   ]
  },
  {
   "cell_type": "code",
   "execution_count": 31,
   "id": "7dd463f8-cbd5-4a22-a9c2-2fe06ff5b810",
   "metadata": {
    "tags": []
   },
   "outputs": [
    {
     "data": {
      "text/plain": [
       "tensor([[ 0., 45., 33., 53.],\n",
       "        [15., 46., 46., 89.],\n",
       "        [48., 44., 59., 50.],\n",
       "        [54., 49., 79., 51.],\n",
       "        [37., 60., 50., 69.],\n",
       "        [33., 60., 46., 75.],\n",
       "        [45., 56., 53., 77.],\n",
       "        [50., 58., 65., 80.],\n",
       "        [47., 59., 50., 61.],\n",
       "        [63., 55., 69., 57.],\n",
       "        [55., 58., 77., 73.],\n",
       "        [37., 56., 44., 60.],\n",
       "        [38., 58., 40., 60.],\n",
       "        [41., 69., 44., 72.],\n",
       "        [ 2., 53., 15., 56.],\n",
       "        [44., 55., 46., 57.],\n",
       "        [61., 58., 68., 62.],\n",
       "        [56., 63., 65., 68.],\n",
       "        [33., 71., 40., 73.],\n",
       "        [32., 49., 44., 54.],\n",
       "        [54., 57., 56., 59.],\n",
       "        [41., 58., 43., 60.],\n",
       "        [50., 67., 53., 69.],\n",
       "        [52., 61., 72., 76.],\n",
       "        [55., 83., 57., 85.],\n",
       "        [42., 45., 45., 47.],\n",
       "        [52., 56., 55., 59.],\n",
       "        [47., 58., 49., 60.],\n",
       "        [54., 59., 61., 64.],\n",
       "        [44., 63., 46., 65.],\n",
       "        [51., 72., 53., 74.],\n",
       "        [43., 69., 52., 76.],\n",
       "        [45., 45., 48., 50.],\n",
       "        [42., 55., 44., 57.],\n",
       "        [46., 55., 49., 58.],\n",
       "        [48., 57., 50., 59.],\n",
       "        [27., 59., 29., 61.],\n",
       "        [49., 57., 51., 63.],\n",
       "        [ 0.,  0.,  1.,  1.],\n",
       "        [47., 66., 49., 68.],\n",
       "        [42., 47., 46., 49.],\n",
       "        [52., 50., 54., 52.],\n",
       "        [46., 54., 48., 56.],\n",
       "        [50., 55., 52., 57.],\n",
       "        [38., 62., 40., 64.],\n",
       "        [46., 62., 50., 68.],\n",
       "        [45., 68., 47., 70.],\n",
       "        [59., 68., 63., 74.],\n",
       "        [60., 75., 62., 77.],\n",
       "        [51., 46., 54., 53.],\n",
       "        [29., 52., 32., 54.],\n",
       "        [45., 54., 47., 56.],\n",
       "        [49., 55., 51., 57.],\n",
       "        [50., 57., 54., 60.],\n",
       "        [46., 65., 48., 67.],\n",
       "        [40., 68., 43., 70.],\n",
       "        [49., 40., 61., 45.],\n",
       "        [44., 44., 46., 46.],\n",
       "        [47., 51., 49., 54.],\n",
       "        [33., 53., 35., 55.],\n",
       "        [48., 53., 50., 55.],\n",
       "        [47., 54., 50., 56.],\n",
       "        [56., 54., 58., 56.],\n",
       "        [49., 56., 51., 58.],\n",
       "        [57., 57., 59., 59.],\n",
       "        [50., 59., 52., 61.],\n",
       "        [50., 60., 52., 62.],\n",
       "        [61., 61., 64., 63.],\n",
       "        [43., 64., 45., 66.],\n",
       "        [ 9., 76., 11., 78.],\n",
       "        [45., 44., 47., 46.],\n",
       "        [47., 53., 49., 55.],\n",
       "        [32., 60., 34., 62.],\n",
       "        [50., 68., 52., 70.],\n",
       "        [68., 69., 70., 72.],\n",
       "        [11., 51., 14., 53.],\n",
       "        [50., 54., 52., 56.],\n",
       "        [52., 56., 54., 58.],\n",
       "        [36., 58., 38., 60.],\n",
       "        [51., 59., 53., 61.],\n",
       "        [61., 63., 63., 65.],\n",
       "        [34., 64., 36., 66.],\n",
       "        [28., 65., 30., 67.],\n",
       "        [55., 71., 57., 73.],\n",
       "        [50., 72., 52., 74.],\n",
       "        [47., 49., 49., 51.],\n",
       "        [49., 54., 51., 56.],\n",
       "        [27., 55., 30., 57.],\n",
       "        [45., 55., 47., 57.],\n",
       "        [20., 65., 22., 67.],\n",
       "        [48., 55., 50., 57.],\n",
       "        [ 0.,  0.,  1.,  1.],\n",
       "        [ 0.,  0.,  1.,  1.],\n",
       "        [ 0.,  0.,  1.,  1.],\n",
       "        [ 0.,  0.,  1.,  1.],\n",
       "        [ 0.,  0.,  1.,  1.],\n",
       "        [ 0.,  0.,  1.,  1.],\n",
       "        [ 0.,  0.,  1.,  1.],\n",
       "        [ 0.,  0.,  1.,  1.],\n",
       "        [ 0.,  0.,  1.,  1.],\n",
       "        [ 0.,  0.,  1.,  1.],\n",
       "        [ 0.,  0.,  1.,  1.],\n",
       "        [ 0.,  0.,  1.,  1.],\n",
       "        [ 0.,  0.,  1.,  1.],\n",
       "        [ 0.,  0.,  1.,  1.],\n",
       "        [ 0.,  0.,  1.,  1.],\n",
       "        [ 0.,  0.,  1.,  1.],\n",
       "        [ 0.,  0.,  1.,  1.],\n",
       "        [ 0.,  0.,  1.,  1.],\n",
       "        [ 0.,  0.,  1.,  1.],\n",
       "        [ 0.,  0.,  1.,  1.],\n",
       "        [ 0.,  0.,  1.,  1.],\n",
       "        [ 0.,  0.,  1.,  1.],\n",
       "        [ 0.,  0.,  1.,  1.],\n",
       "        [ 0.,  0.,  1.,  1.],\n",
       "        [ 0.,  0.,  1.,  1.],\n",
       "        [ 0.,  0.,  1.,  1.],\n",
       "        [ 0.,  0.,  1.,  1.],\n",
       "        [ 0.,  0.,  1.,  1.],\n",
       "        [ 0.,  0.,  1.,  1.],\n",
       "        [ 0.,  0.,  1.,  1.],\n",
       "        [ 0.,  0.,  1.,  1.],\n",
       "        [ 0.,  0.,  1.,  1.],\n",
       "        [ 0.,  0.,  1.,  1.],\n",
       "        [ 0.,  0.,  1.,  1.],\n",
       "        [ 0.,  0.,  1.,  1.],\n",
       "        [ 0.,  0.,  1.,  1.],\n",
       "        [ 0.,  0.,  1.,  1.]])"
      ]
     },
     "execution_count": 31,
     "metadata": {},
     "output_type": "execute_result"
    }
   ],
   "source": [
    "targets_x[\"boxes\"]"
   ]
  },
  {
   "cell_type": "code",
   "execution_count": 32,
   "id": "d5c8257d-a773-458a-8c6b-304963b6b70d",
   "metadata": {
    "tags": []
   },
   "outputs": [
    {
     "data": {
      "text/plain": [
       "tensor([[ 2., 19., 79., 89.],\n",
       "        [ 2., 45., 39., 87.],\n",
       "        [40., 45., 44., 51.],\n",
       "        [28., 48., 40., 51.],\n",
       "        [48., 65., 52., 69.],\n",
       "        [41., 61., 49., 75.],\n",
       "        [40., 55., 55., 78.],\n",
       "        [42., 62., 51., 80.],\n",
       "        [44., 58., 48., 61.],\n",
       "        [34., 55., 37., 57.],\n",
       "        [43., 59., 56., 77.],\n",
       "        [42., 56., 46., 59.],\n",
       "        [ 0.,  0.,  1.,  1.],\n",
       "        [19., 70., 21., 72.],\n",
       "        [53., 49., 59., 56.],\n",
       "        [28., 54., 30., 56.],\n",
       "        [54., 58., 65., 62.],\n",
       "        [45., 64., 53., 73.],\n",
       "        [15., 71., 22., 74.],\n",
       "        [38., 50., 42., 55.],\n",
       "        [ 0.,  0.,  1.,  1.],\n",
       "        [ 0.,  0.,  1.,  1.],\n",
       "        [ 0.,  0.,  1.,  1.],\n",
       "        [24., 61., 42., 81.],\n",
       "        [ 0.,  0.,  1.,  1.],\n",
       "        [39., 45., 42., 47.],\n",
       "        [49., 55., 51., 57.],\n",
       "        [42., 55., 54., 61.],\n",
       "        [39., 61., 41., 65.],\n",
       "        [44., 64., 46., 66.],\n",
       "        [ 0.,  0.,  1.,  1.],\n",
       "        [23., 69., 34., 79.],\n",
       "        [37., 46., 41., 50.],\n",
       "        [49., 56., 51., 58.],\n",
       "        [39., 55., 41., 58.],\n",
       "        [47., 56., 57., 60.],\n",
       "        [ 0.,  0.,  1.,  1.],\n",
       "        [44., 62., 46., 64.],\n",
       "        [ 0.,  0.,  1.,  1.],\n",
       "        [ 0.,  0.,  1.,  1.],\n",
       "        [ 0.,  0.,  1.,  1.],\n",
       "        [ 0.,  0.,  1.,  1.],\n",
       "        [ 0.,  0.,  1.,  1.],\n",
       "        [ 0.,  0.,  1.,  1.],\n",
       "        [ 0.,  0.,  1.,  1.],\n",
       "        [29., 60., 42., 68.],\n",
       "        [50., 68., 52., 70.],\n",
       "        [28., 68., 36., 75.],\n",
       "        [ 0.,  0.,  1.,  1.],\n",
       "        [51., 49., 63., 54.],\n",
       "        [ 0.,  0.,  1.,  1.],\n",
       "        [43., 55., 45., 57.],\n",
       "        [ 0.,  0.,  1.,  1.],\n",
       "        [41., 58., 43., 60.],\n",
       "        [ 0.,  0.,  1.,  1.],\n",
       "        [ 3., 68., 14., 71.],\n",
       "        [30., 39., 37., 45.],\n",
       "        [ 0.,  0.,  1.,  1.],\n",
       "        [41., 50., 47., 56.],\n",
       "        [ 0.,  0.,  1.,  1.],\n",
       "        [ 0.,  0.,  1.,  1.],\n",
       "        [ 0.,  0.,  1.,  1.],\n",
       "        [51., 54., 54., 56.],\n",
       "        [45., 56., 48., 59.],\n",
       "        [ 0.,  0.,  1.,  1.],\n",
       "        [ 0.,  0.,  1.,  1.],\n",
       "        [43., 60., 45., 62.],\n",
       "        [49., 62., 51., 64.],\n",
       "        [ 0.,  0.,  1.,  1.],\n",
       "        [ 0.,  0.,  1.,  1.],\n",
       "        [ 0.,  0.,  1.,  1.],\n",
       "        [ 0.,  0.,  1.,  1.],\n",
       "        [41., 60., 43., 62.],\n",
       "        [ 9., 68., 12., 71.],\n",
       "        [71., 70., 75., 72.],\n",
       "        [28., 52., 30., 54.],\n",
       "        [ 0.,  0.,  1.,  1.],\n",
       "        [ 0.,  0.,  1.,  1.],\n",
       "        [ 0.,  0.,  1.,  1.],\n",
       "        [ 0.,  0.,  1.,  1.],\n",
       "        [ 0.,  0.,  1.,  1.],\n",
       "        [ 0.,  0.,  1.,  1.],\n",
       "        [ 0.,  0.,  1.,  1.],\n",
       "        [ 0.,  0.,  1.,  1.],\n",
       "        [23., 72., 25., 74.],\n",
       "        [ 0.,  0.,  1.,  1.],\n",
       "        [46., 55., 49., 57.],\n",
       "        [ 0.,  0.,  1.,  1.],\n",
       "        [ 0.,  0.,  1.,  1.],\n",
       "        [ 0.,  0.,  1.,  1.],\n",
       "        [ 0.,  0.,  1.,  1.],\n",
       "        [36., 55., 39., 58.],\n",
       "        [44., 57., 46., 59.],\n",
       "        [22., 45., 27., 47.],\n",
       "        [26., 60., 37., 62.],\n",
       "        [47., 58., 49., 60.],\n",
       "        [41., 53., 44., 55.],\n",
       "        [ 0.,  0.,  1.,  1.],\n",
       "        [36., 45., 38., 47.],\n",
       "        [41., 54., 46., 56.],\n",
       "        [40., 57., 42., 59.],\n",
       "        [36., 54., 41., 57.],\n",
       "        [37., 56., 40., 58.],\n",
       "        [28., 57., 30., 59.],\n",
       "        [37., 57., 39., 59.],\n",
       "        [40., 59., 42., 61.],\n",
       "        [ 0.,  0.,  1.,  1.],\n",
       "        [43., 72., 45., 74.],\n",
       "        [ 0.,  0.,  1.,  1.],\n",
       "        [40., 54., 42., 56.],\n",
       "        [21., 68., 23., 70.],\n",
       "        [35., 71., 52., 73.],\n",
       "        [49., 60., 51., 62.],\n",
       "        [37., 45., 39., 47.],\n",
       "        [64., 50., 66., 52.],\n",
       "        [45., 55., 47., 57.],\n",
       "        [52., 57., 54., 59.],\n",
       "        [34., 62., 36., 64.],\n",
       "        [24., 57., 26., 59.],\n",
       "        [44., 59., 46., 61.],\n",
       "        [28., 67., 30., 69.],\n",
       "        [47., 50., 49., 52.],\n",
       "        [34., 56., 37., 59.],\n",
       "        [39., 58., 42., 60.],\n",
       "        [72., 62., 74., 64.],\n",
       "        [40., 56., 42., 58.],\n",
       "        [57., 63., 59., 65.],\n",
       "        [21., 72., 24., 74.]])"
      ]
     },
     "execution_count": 32,
     "metadata": {},
     "output_type": "execute_result"
    }
   ],
   "source": [
    "targets_y[\"boxes\"]"
   ]
  },
  {
   "cell_type": "code",
   "execution_count": 33,
   "id": "6d756ecf-e736-4904-8f3f-b34f4face325",
   "metadata": {
    "tags": []
   },
   "outputs": [
    {
     "data": {
      "image/png": "[encoded data removed]",
      "text/plain": [
       "<Figure size 640x480 with 1 Axes>"
      ]
     },
     "metadata": {},
     "output_type": "display_data"
    }
   ],
   "source": [
    "fig, ax = plt.subplots()\n",
    "ax.imshow(targets_x[\"masks\"].argmax(dim=0).T)\n",
    "for box in targets_x[\"boxes\"]:\n",
    "    lo = box[:2]\n",
    "    hi = box[2:]\n",
    "    xs = [lo[0], hi[0], hi[0], lo[0], lo[0]]\n",
    "    ys = [lo[1], lo[1], hi[1], hi[1], lo[1]]\n",
    "    ax.plot(xs, ys, color=\"red\")"
   ]
  },
  {
   "cell_type": "code",
   "execution_count": 34,
   "id": "da180e27-54f4-4b55-822e-b35ea3b9bec0",
   "metadata": {
    "tags": []
   },
   "outputs": [
    {
     "data": {
      "image/png": "[encoded data removed]",
      "text/plain": [
       "<Figure size 640x480 with 1 Axes>"
      ]
     },
     "metadata": {},
     "output_type": "display_data"
    }
   ],
   "source": [
    "fig, ax = plt.subplots()\n",
    "ax.imshow(targets_y[\"masks\"].argmax(dim=0).T)\n",
    "for box in targets_y[\"boxes\"]:\n",
    "    lo = box[:2]\n",
    "    hi = box[2:]\n",
    "    xs = [lo[0], hi[0], hi[0], lo[0], lo[0]]\n",
    "    ys = [lo[1], lo[1], hi[1], hi[1], lo[1]]\n",
    "    ax.plot(xs, ys, color=\"red\")"
   ]
  },
  {
   "cell_type": "code",
   "execution_count": 35,
   "id": "21f39ba9-afd1-4530-8449-097bf3d79b4b",
   "metadata": {
    "tags": []
   },
   "outputs": [
    {
     "data": {
      "text/plain": [
       "tensor([      0,       0,       0,  ..., 4623354, 4623354, 4623354])"
      ]
     },
     "execution_count": 35,
     "metadata": {},
     "output_type": "execute_result"
    }
   ],
   "source": [
    "dataset.hits_index"
   ]
  },
  {
   "cell_type": "code",
   "execution_count": 36,
   "id": "771a924f-e5eb-4d02-bb85-9a3fa77af782",
   "metadata": {
    "tags": []
   },
   "outputs": [],
   "source": [
    "num_segments = torch.zeros((dataset.hits_index.amax()+1,), dtype=dataset.object_targets.dtype).scatter_reduce_(dim=0, index=dataset.hits_index, src=dataset.object_targets, reduce=\"amax\")"
   ]
  },
  {
   "cell_type": "code",
   "execution_count": 37,
   "id": "1ba71808-4466-4d42-b61a-c22f28578d27",
   "metadata": {
    "tags": []
   },
   "outputs": [],
   "source": [
    "bbox_offsets = torch.zeros((num_segments.shape[0]+1,), dtype=num_segments.dtype)\n",
    "torch.cumsum(num_segments, out=bbox_offsets[1:], dim=0)\n",
    "bbox_offsets = bbox_offsets[:-1]"
   ]
  },
  {
   "cell_type": "code",
   "execution_count": 38,
   "id": "401e154d-9ef4-4dd5-9048-6c4019d64f7b",
   "metadata": {
    "tags": []
   },
   "outputs": [],
   "source": [
    "index_offsets_x = bbox_offsets[dataset.hits_index[dataset.hitview==0]]"
   ]
  },
  {
   "cell_type": "code",
   "execution_count": 39,
   "id": "95efa24c-57a2-4fca-bcf1-d1f8bf4e8f3c",
   "metadata": {
    "tags": []
   },
   "outputs": [],
   "source": [
    "object_target_index_x = index_offsets_x + dataset.object_targets[dataset.hitview==0]"
   ]
  },
  {
   "cell_type": "code",
   "execution_count": 40,
   "id": "f2131cab-3159-43b2-a77e-e95d9dfc4672",
   "metadata": {
    "tags": []
   },
   "outputs": [],
   "source": [
    "bbox_min_x1 = torch.zeros((object_target_index_x.amax()+1,), dtype=dataset.coordinates.dtype) \\\n",
    "            .scatter_reduce_(dim=0, index=object_target_index_x, src=dataset.coordinates[dataset.hitview==0,0], reduce=\"amin\", include_self=False)"
   ]
  },
  {
   "cell_type": "code",
   "execution_count": 41,
   "id": "0e60ec97-8140-4e0a-ada3-e3cc555d8c46",
   "metadata": {
    "tags": []
   },
   "outputs": [],
   "source": [
    "bbox_min_x2 = torch.zeros((object_target_index_x.amax()+1,), dtype=dataset.coordinates.dtype) \\\n",
    "            .scatter_reduce_(dim=0, index=object_target_index_x, src=dataset.coordinates[dataset.hitview==0,1], reduce=\"amin\", include_self=False)"
   ]
  },
  {
   "cell_type": "code",
   "execution_count": 42,
   "id": "00530fa6-03be-4b48-b28a-79688a206a55",
   "metadata": {
    "tags": []
   },
   "outputs": [],
   "source": [
    "bbox_max_x1 = torch.zeros((object_target_index_x.amax()+1,), dtype=dataset.coordinates.dtype) \\\n",
    "            .scatter_reduce_(dim=0, index=object_target_index_x, src=dataset.coordinates[dataset.hitview==0,0], reduce=\"amax\", include_self=False)"
   ]
  },
  {
   "cell_type": "code",
   "execution_count": 43,
   "id": "52f448a4-e0f0-4262-80b4-6307dddf2ff0",
   "metadata": {
    "tags": []
   },
   "outputs": [],
   "source": [
    "bbox_max_x2 = torch.zeros((object_target_index_x.amax()+1,), dtype=dataset.coordinates.dtype) \\\n",
    "            .scatter_reduce_(dim=0, index=object_target_index_x, src=dataset.coordinates[dataset.hitview==0,1], reduce=\"amax\", include_self=False)"
   ]
  },
  {
   "cell_type": "code",
   "execution_count": 44,
   "id": "d7e70ae5-3ef7-486e-8fad-b9620e807cce",
   "metadata": {
    "tags": []
   },
   "outputs": [],
   "source": [
    "item = 0\n",
    "event_low = dataset.hitlim_lo[item]\n",
    "event_high = dataset.hitlim_hi[item]"
   ]
  },
  {
   "cell_type": "code",
   "execution_count": 45,
   "id": "f4feb005-b754-45b2-b72e-ddf374b1283b",
   "metadata": {
    "tags": []
   },
   "outputs": [
    {
     "data": {
      "text/plain": [
       "tensor([0, 0, 0, 0, 0, 0, 0, 0, 0, 0, 0, 0, 0, 0, 0, 0, 0, 0, 0, 0, 0, 0, 0, 0,\n",
       "        0, 0, 0, 0, 0, 0, 0, 0, 0, 0, 0, 0, 0, 0, 0, 0, 0, 0, 0, 0, 0, 0, 0, 0,\n",
       "        0, 0, 0, 0, 0, 0, 0, 0, 0, 0, 0, 0, 0, 0, 0, 0, 0, 0, 0, 0, 0, 0, 0, 0,\n",
       "        0, 0, 0, 0, 0, 0, 0, 0, 0, 0, 0, 0, 0, 0, 0, 0, 0, 0, 0, 0, 0, 0, 0, 0,\n",
       "        0, 0, 0, 0, 0, 0, 0, 0, 0, 0, 0, 0, 0, 0, 0, 0, 0, 0, 0, 0, 0, 0, 0, 0,\n",
       "        0, 0, 0, 0, 0, 0, 0, 0, 0, 0, 0, 0, 0, 0, 0, 0, 0, 0, 0, 0, 0, 0, 0, 0,\n",
       "        0, 0, 0, 0, 0, 0, 0, 0, 0, 0, 0, 0, 0, 0, 0, 0, 0, 0, 0, 0, 0, 0, 0, 0,\n",
       "        0, 0, 0, 0, 0, 0, 0, 0, 0, 0, 0, 0, 0, 0, 0, 0, 0, 0, 0, 0, 0, 0, 0, 0,\n",
       "        0, 0, 0, 0, 0, 0, 0, 0, 0, 0, 0, 0, 0, 0, 0, 0, 0, 0, 0, 0, 0, 0, 0, 0,\n",
       "        0, 0, 0, 0, 0, 0])"
      ]
     },
     "execution_count": 45,
     "metadata": {},
     "output_type": "execute_result"
    }
   ],
   "source": [
    "dataset.hits_index[(dataset.hitview == 0) & (dataset.hits_index == 0)]"
   ]
  },
  {
   "cell_type": "code",
   "execution_count": 46,
   "id": "e3c45b3d-f92d-4357-8d6a-5a5514c9bfcd",
   "metadata": {
    "tags": []
   },
   "outputs": [
    {
     "data": {
      "text/plain": [
       "tensor([ 0,  0,  1,  1,  1,  1,  1,  1,  2,  2,  2,  2,  2,  2,  2,  3,  3,  3,\n",
       "         3,  3,  4,  4,  4,  4,  4,  4,  5,  5,  5,  5,  5,  5,  5,  6,  6,  6,\n",
       "         6,  6,  7,  7,  7,  7,  7,  8,  8,  8,  8,  8,  8,  8,  9,  9,  9,  9,\n",
       "         9,  9,  9,  9, 10, 10, 10, 10, 10, 10, 10, 11, 11, 11, 11, 11, 11, 11,\n",
       "        11, 11, 11, 12, 12, 12, 12, 12, 12, 12, 12, 12, 12, 12, 12, 13, 13, 13,\n",
       "        13, 13, 13, 13, 13, 13, 14, 14, 14, 14, 14, 14, 15, 15, 15, 15, 15, 15,\n",
       "        15, 15, 15, 15, 15, 15, 15, 15, 16, 16, 16, 16, 17, 17, 17, 17, 17, 17,\n",
       "        17, 18, 18, 18, 18, 18, 18, 19, 19, 19, 19, 19, 19, 19, 20, 20, 20, 20,\n",
       "        20, 20, 20, 21, 21, 21, 21, 21, 21, 21, 21, 22, 22, 22, 22, 22, 22, 22,\n",
       "        22, 23, 23, 23, 23, 23, 23, 23, 24, 24, 24, 24, 24, 24, 25, 25, 25, 25,\n",
       "        25, 25, 26, 26, 26, 26, 26, 27, 27, 27, 27, 27, 27, 27, 28, 28, 28, 28,\n",
       "        28, 29, 29, 29, 29, 30, 30, 30, 31, 31, 31, 32, 32, 32, 32, 32, 33, 34,\n",
       "        36, 37, 37, 38, 38, 42])"
      ]
     },
     "execution_count": 46,
     "metadata": {},
     "output_type": "execute_result"
    }
   ],
   "source": [
    "dataset.coordinates[(dataset.hitview == 0) & (dataset.hits_index == 0), 0]"
   ]
  },
  {
   "cell_type": "code",
   "execution_count": 47,
   "id": "073175b3-37d4-4be1-b364-20b0f568317d",
   "metadata": {
    "tags": []
   },
   "outputs": [
    {
     "data": {
      "text/plain": [
       "tensor([10,  1,  6,  6,  2, 10, 10,  1,  6,  6,  2, 10,  3,  1,  9,  6,  6,  3,\n",
       "         1,  9,  6,  3,  3,  1,  1,  9, 11,  3,  1,  1,  1,  9,  9,  2,  3,  1,\n",
       "         1,  9,  3,  3,  1,  1,  1,  3,  3,  3,  1,  1,  1,  1,  7, 13, 14,  3,\n",
       "         1,  1,  1,  1,  5, 13,  3,  1,  1,  1,  1,  5,  5, 15,  3,  3,  3,  1,\n",
       "         1,  1,  1,  5,  5,  5,  8,  8, 12,  3,  3,  1,  1,  1,  1,  5,  5,  5,\n",
       "         8,  3,  1,  1,  1,  1,  8,  3,  1,  1,  1,  1,  4,  4,  4,  4,  4,  4,\n",
       "         3,  3,  1,  1,  1,  1,  1,  1,  1,  1,  1,  1,  3,  3,  1,  1,  1,  1,\n",
       "         1,  3,  3,  1,  1,  1,  1,  3,  3,  1,  1,  1,  1,  1,  3,  1,  1,  1,\n",
       "         1,  1,  1,  3,  3,  1,  1,  1,  1,  1,  1,  3,  1,  1,  1,  1,  1,  1,\n",
       "         1,  3,  1,  1,  1,  1,  1,  1,  3,  1,  1,  1,  1,  1,  1,  1,  1,  1,\n",
       "         1,  1,  1,  1,  1,  1,  1,  3,  3,  1,  1,  1,  1,  1,  3,  1,  1,  1,\n",
       "         1,  3,  1,  1,  1,  1,  1,  1,  1,  1,  1,  1,  1,  1,  1,  1,  1,  1,\n",
       "         1,  1,  1,  3,  1,  1])"
      ]
     },
     "execution_count": 47,
     "metadata": {},
     "output_type": "execute_result"
    }
   ],
   "source": [
    "dataset.object_targets[(dataset.hitview == 0) & (dataset.hits_index == 0)]"
   ]
  },
  {
   "cell_type": "code",
   "execution_count": 48,
   "id": "bd58e81f-31f7-48c4-bd79-b25c0d80f5d7",
   "metadata": {
    "tags": []
   },
   "outputs": [],
   "source": [
    "a = bbox_min_x1[bbox_offsets[1]:bbox_offsets[2]]-1\n",
    "b = bbox_min_x2[bbox_offsets[1]:bbox_offsets[2]]-1\n",
    "c = bbox_max_x1[bbox_offsets[1]:bbox_offsets[2]]+1\n",
    "d = bbox_max_x2[bbox_offsets[1]:bbox_offsets[2]]+1"
   ]
  },
  {
   "cell_type": "code",
   "execution_count": 49,
   "id": "2ca7ab3f-dc5f-49b7-9baa-35c1cd92c256",
   "metadata": {
    "tags": []
   },
   "outputs": [
    {
     "data": {
      "text/plain": [
       "(tensor([-1,  3, 13,  8,  0,  1,  8,  0,  9, -1, -1, -1]),\n",
       " tensor([-1, 39, 25, 29, 39, 41, 31, 43, 30, 41, -1, -1]),\n",
       " tensor([ 1,  8, 15, 10,  2,  4, 10,  2, 11,  1,  1,  1]),\n",
       " tensor([ 1, 42, 27, 32, 41, 43, 33, 45, 32, 43,  1,  1]))"
      ]
     },
     "execution_count": 49,
     "metadata": {},
     "output_type": "execute_result"
    }
   ],
   "source": [
    "a,b,c,d"
   ]
  },
  {
   "cell_type": "code",
   "execution_count": 50,
   "id": "5a6d7c06-1bf1-49ff-ba3f-e97f3feabf74",
   "metadata": {},
   "outputs": [
    {
     "data": {
      "text/plain": [
       "tensor(True)"
      ]
     },
     "execution_count": 50,
     "metadata": {},
     "output_type": "execute_result"
    }
   ],
   "source": [
    "(dataset.bbox_x[:,0] < dataset.bbox_x[:,2]).all()"
   ]
  },
  {
   "cell_type": "code",
   "execution_count": 51,
   "id": "abbb6564-a56b-4bf0-900e-d1560246d0f4",
   "metadata": {
    "tags": []
   },
   "outputs": [
    {
     "data": {
      "text/plain": [
       "tensor([], size=(0, 4))"
      ]
     },
     "execution_count": 51,
     "metadata": {},
     "output_type": "execute_result"
    }
   ],
   "source": [
    "dataset.bbox_x[dataset.bbox_x[:,0] > dataset.bbox_x[:,2]]"
   ]
  },
  {
   "cell_type": "code",
   "execution_count": 52,
   "id": "b6aa3343-b229-43d9-b15e-e4211c298e57",
   "metadata": {
    "tags": []
   },
   "outputs": [
    {
     "data": {
      "text/plain": [
       "tensor([], size=(0, 1), dtype=torch.int64)"
      ]
     },
     "execution_count": 52,
     "metadata": {},
     "output_type": "execute_result"
    }
   ],
   "source": [
    "torch.argwhere(dataset.bbox_x[:,0] > dataset.bbox_x[:,2])"
   ]
  },
  {
   "cell_type": "code",
   "execution_count": 54,
   "id": "2207cbdf-8ad4-4aef-bd83-40c16d6ce62c",
   "metadata": {
    "tags": []
   },
   "outputs": [
    {
     "data": {
      "text/plain": [
       "tensor(True)"
      ]
     },
     "execution_count": 54,
     "metadata": {},
     "output_type": "execute_result"
    }
   ],
   "source": [
    "(dataset.bbox_x[:,1] < dataset.bbox_x[:,3]).all()"
   ]
  },
  {
   "cell_type": "code",
   "execution_count": null,
   "id": "3b86367e-cc0b-41a1-be28-8e6bef5feb9c",
   "metadata": {},
   "outputs": [],
   "source": []
  }
 ],
 "metadata": {
  "kernelspec": {
   "display_name": "Python 3 (ipykernel)",
   "language": "python",
   "name": "python3"
  },
  "language_info": {
   "codemirror_mode": {
    "name": "ipython",
    "version": 3
   },
   "file_extension": ".py",
   "mimetype": "text/x-python",
   "name": "python",
   "nbconvert_exporter": "python",
   "pygments_lexer": "ipython3",
   "version": "3.8.17"
  }
 },
 "nbformat": 4,
 "nbformat_minor": 5
}
